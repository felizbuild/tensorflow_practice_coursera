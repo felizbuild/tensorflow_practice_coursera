{
 "cells": [
  {
   "cell_type": "markdown",
   "metadata": {},
   "source": [
    "<a href=\"https://colab.research.google.com/github/https-deeplearning-ai/tensorflow-1-public/blob/master/C1/W3/ungraded_labs/C1_W3_Lab_1_improving_accuracy_using_convolutions.ipynb\" target=\"_parent\"><img src=\"https://colab.research.google.com/assets/colab-badge.svg\" alt=\"Open In Colab\"/></a>"
   ]
  },
  {
   "cell_type": "markdown",
   "metadata": {
    "id": "R6gHiH-I7uFa"
   },
   "source": [
    "# Ungraded Lab: Improving Computer Vision Accuracy using Convolutions\n",
    "\n",
    "\n",
    "\n"
   ]
  },
  {
   "cell_type": "markdown",
   "metadata": {
    "id": "Z6396DKnr-xp"
   },
   "source": [
    "# Shallow Neural Network\n",
    "\n",
    "In the previous lessons, you saw how to do fashion recognition using a neural network containing three layers -- the input layer (in the shape of the data), the output layer (in the shape of the desired output) and only one hidden layer. You experimented with the impact of different sizes of hidden layer, number of training epochs etc on the final accuracy. For convenience, here's the entire code again. Run it and take a note of the test accuracy that is printed out at the end. "
   ]
  },
  {
   "cell_type": "code",
   "execution_count": 1,
   "metadata": {
    "id": "qnCNAG-VecJ9"
   },
   "outputs": [],
   "source": [
    "import tensorflow as tf\n",
    "\n",
    "# Load the Fashion MNIST dataset\n",
    "fmnist = tf.keras.datasets.fashion_mnist\n",
    "(training_images, training_labels), (test_images, test_labels) = fmnist.load_data()\n",
    "\n",
    "# Normalize the pixel values\n",
    "training_images = training_images / 255.0\n",
    "test_images = test_images / 255.0"
   ]
  },
  {
   "cell_type": "code",
   "execution_count": 10,
   "metadata": {
    "scrolled": true
   },
   "outputs": [],
   "source": [
    "# Load the Fashion MNIST dataset\n",
    "\n",
    "fminst = tf.keras.datasets.fashion_mnist\n",
    "(training_images, training_labels), (test_images, test_labels) = fmnist.load_data()\n",
    "\n",
    "# Normalize the pixel values\n",
    "training_images = training_images / 255.0\n",
    "test_images = test_images / 255"
   ]
  },
  {
   "cell_type": "code",
   "execution_count": 20,
   "metadata": {
    "id": "xcsRtq9OLorS"
   },
   "outputs": [
    {
     "name": "stdout",
     "output_type": "stream",
     "text": [
      "\n",
      "MODEL TRAINING:\n",
      "Epoch 1/5\n",
      "1875/1875 [==============================] - 2s 778us/step - loss: 0.4994 - accuracy: 0.8237\n",
      "Epoch 2/5\n",
      "1875/1875 [==============================] - 1s 757us/step - loss: 0.3772 - accuracy: 0.8656\n",
      "Epoch 3/5\n",
      "1875/1875 [==============================] - 1s 762us/step - loss: 0.3402 - accuracy: 0.8759\n",
      "Epoch 4/5\n",
      "1875/1875 [==============================] - 1s 764us/step - loss: 0.3164 - accuracy: 0.8832\n",
      "Epoch 5/5\n",
      "1875/1875 [==============================] - 1s 771us/step - loss: 0.2983 - accuracy: 0.8904\n",
      "\n",
      "MODEL EVALUATION:\n",
      "313/313 [==============================] - 0s 567us/step - loss: 0.3453 - accuracy: 0.8761\n"
     ]
    }
   ],
   "source": [
    "\n",
    "\n",
    "# Define the model\n",
    "model = tf.keras.models.Sequential([\n",
    "  tf.keras.layers.Flatten(input_shape=(28,28,1)),\n",
    "  tf.keras.layers.Dense(128, activation=tf.nn.relu),\n",
    "  tf.keras.layers.Dense(10, activation=tf.nn.softmax)\n",
    "])\n",
    "\n",
    "# Setup training parameters\n",
    "model.compile(optimizer='adam', loss='sparse_categorical_crossentropy', metrics=['accuracy'])\n",
    "\n",
    "# Train the model\n",
    "print(f'\\nMODEL TRAINING:')\n",
    "model.fit(training_images, training_labels, epochs=5)\n",
    "\n",
    "# Evaluate on the test set\n",
    "print(f'\\nMODEL EVALUATION:')\n",
    "test_loss = model.evaluate(test_images, test_labels)"
   ]
  },
  {
   "cell_type": "code",
   "execution_count": 21,
   "metadata": {},
   "outputs": [],
   "source": [
    "model = tf.keras.models.Sequential([\n",
    "  tf.keras.layers.Flatten(input_shape=(28,28,1)),\n",
    "  tf.keras.layers.Dense(128, activation=tf.nn.relu),\n",
    "  tf.keras.layers.Dense(10, activation=tf.nn.softmax)\n",
    "])"
   ]
  },
  {
   "cell_type": "code",
   "execution_count": 22,
   "metadata": {},
   "outputs": [
    {
     "name": "stdout",
     "output_type": "stream",
     "text": [
      "Model: \"sequential_8\"\n",
      "_________________________________________________________________\n",
      " Layer (type)                Output Shape              Param #   \n",
      "=================================================================\n",
      " flatten_8 (Flatten)         (None, 784)               0         \n",
      "                                                                 \n",
      " dense_16 (Dense)            (None, 128)               100480    \n",
      "                                                                 \n",
      " dense_17 (Dense)            (None, 10)                1290      \n",
      "                                                                 \n",
      "=================================================================\n",
      "Total params: 101,770\n",
      "Trainable params: 101,770\n",
      "Non-trainable params: 0\n",
      "_________________________________________________________________\n"
     ]
    }
   ],
   "source": [
    "model.summary()"
   ]
  },
  {
   "cell_type": "code",
   "execution_count": 102,
   "metadata": {},
   "outputs": [
    {
     "name": "stdout",
     "output_type": "stream",
     "text": [
      "Model: \"sequential_17\"\n",
      "_________________________________________________________________\n",
      " Layer (type)                Output Shape              Param #   \n",
      "=================================================================\n",
      " flatten_17 (Flatten)        (None, 784)               0         \n",
      "                                                                 \n",
      " dense_36 (Dense)            (None, 128)               100480    \n",
      "                                                                 \n",
      " dense_37 (Dense)            (None, 10)                1290      \n",
      "                                                                 \n",
      "=================================================================\n",
      "Total params: 101,770\n",
      "Trainable params: 101,770\n",
      "Non-trainable params: 0\n",
      "_________________________________________________________________\n",
      "\n",
      "MODEL TRAINING:\n",
      "Epoch 1/5\n",
      "1875/1875 [==============================] - 1s 686us/step - loss: 0.5033 - accuracy: 0.8210\n",
      "Epoch 2/5\n",
      "1875/1875 [==============================] - 1s 696us/step - loss: 0.3768 - accuracy: 0.8649\n",
      "Epoch 3/5\n",
      "1875/1875 [==============================] - 1s 711us/step - loss: 0.3381 - accuracy: 0.8770\n",
      "Epoch 4/5\n",
      "1875/1875 [==============================] - 1s 680us/step - loss: 0.3156 - accuracy: 0.8850\n",
      "Epoch 5/5\n",
      "1875/1875 [==============================] - 1s 720us/step - loss: 0.2956 - accuracy: 0.8913\n",
      "\n",
      "MODEL EVALUATION:\n",
      "313/313 [==============================] - 0s 544us/step - loss: 0.3392 - accuracy: 0.8791\n"
     ]
    }
   ],
   "source": [
    "# Define the model\n",
    "model = tf.keras.models.Sequential([\n",
    "    tf.keras.layers.Flatten(input_shape = (28,28,1)),\n",
    "    tf.keras.layers.Dense(128,activation = tf.nn.relu),\n",
    "    tf.keras.layers.Dense(10, activation = tf.nn.softmax)\n",
    "])\n",
    "\n",
    "#Setup training parameters\n",
    "model.summary()\n",
    "model.compile(optimizer = 'adam', loss = 'sparse_categorical_crossentropy', metrics = ['accuracy'])\n",
    "\n",
    "# Train the model\n",
    "print(f'\\nMODEL TRAINING:')\n",
    "model.fit(training_images, training_labels, epochs =5)\n",
    "          \n",
    "# Evaluate on the test set\n",
    "print(f'\\nMODEL EVALUATION:')\n",
    "test_loss = model.evaluate(test_images, test_labels)"
   ]
  },
  {
   "cell_type": "markdown",
   "metadata": {
    "id": "zldEXSsF8Noz"
   },
   "source": [
    "## Convolutional Neural Network\n",
    "\n",
    "In the model above, your accuracy will probably be about 89% on training and 87% on validation. Not bad. But how do you make that even better? One way is to use something called _convolutions_. We're not going into the details of convolutions in this notebook (please see resources in the classroom), but the ultimate concept is that they narrow down the content of the image to focus on specific parts and this will likely improve the model accuracy. \n",
    "\n",
    "If you've ever done image processing using a filter (like [this](https://en.wikipedia.org/wiki/Kernel_(image_processing))), then convolutions will look very familiar. In short, you take an array (usually 3x3 or 5x5) and scan it over the entire image. By changing the underlying pixels based on the formula within that matrix, you can do things like edge detection. So, for example, if you look at the above link, you'll see a 3x3 matrix that is defined for edge detection where the middle cell is 8, and all of its neighbors are -1. In this case, for each pixel, you would multiply its value by 8, then subtract the value of each neighbor. Do this for every pixel, and you'll end up with a new image that has the edges enhanced.\n",
    "\n",
    "This is perfect for computer vision because it often highlights features that distinguish one item from another. Moreover, the amount of information needed is then much less because you'll just train on the highlighted features.\n",
    "\n",
    "That's the concept of **Convolutional Neural Networks**. Add some layers to do convolution before you have the dense layers, and then the information going to the dense layers is more focused and possibly more accurate.\n",
    "\n",
    "Run the code below. This is the same neural network as earlier, but this time with [Convolution](https://www.tensorflow.org/api_docs/python/tf/keras/layers/Conv2D) and [MaxPooling](https://www.tensorflow.org/api_docs/python/tf/keras/layers/MaxPool2D) layers added first. It will take longer, but look at the impact on the accuracy."
   ]
  },
  {
   "cell_type": "code",
   "execution_count": 100,
   "metadata": {
    "id": "C0tFgT1MMKi6"
   },
   "outputs": [
    {
     "name": "stdout",
     "output_type": "stream",
     "text": [
      "Model: \"sequential_15\"\n",
      "_________________________________________________________________\n",
      " Layer (type)                Output Shape              Param #   \n",
      "=================================================================\n",
      " conv2d_10 (Conv2D)          (None, 26, 26, 32)        320       \n",
      "                                                                 \n",
      " max_pooling2d_10 (MaxPoolin  (None, 13, 13, 32)       0         \n",
      " g2D)                                                            \n",
      "                                                                 \n",
      " conv2d_11 (Conv2D)          (None, 11, 11, 32)        9248      \n",
      "                                                                 \n",
      " max_pooling2d_11 (MaxPoolin  (None, 5, 5, 32)         0         \n",
      " g2D)                                                            \n",
      "                                                                 \n",
      " flatten_15 (Flatten)        (None, 800)               0         \n",
      "                                                                 \n",
      " dense_32 (Dense)            (None, 128)               102528    \n",
      "                                                                 \n",
      " dense_33 (Dense)            (None, 10)                1290      \n",
      "                                                                 \n",
      "=================================================================\n",
      "Total params: 113,386\n",
      "Trainable params: 113,386\n",
      "Non-trainable params: 0\n",
      "_________________________________________________________________\n",
      "\n",
      "MODEL TRAINING:\n",
      "Epoch 1/5\n",
      "1875/1875 [==============================] - 12s 6ms/step - loss: 0.4689 - accuracy: 0.8302\n",
      "Epoch 2/5\n",
      "1875/1875 [==============================] - 12s 6ms/step - loss: 0.3211 - accuracy: 0.8823\n",
      "Epoch 3/5\n",
      "1875/1875 [==============================] - 12s 6ms/step - loss: 0.2721 - accuracy: 0.8998\n",
      "Epoch 4/5\n",
      "1875/1875 [==============================] - 12s 6ms/step - loss: 0.2414 - accuracy: 0.9109\n",
      "Epoch 5/5\n",
      "1875/1875 [==============================] - 12s 6ms/step - loss: 0.2175 - accuracy: 0.9189\n",
      "\n",
      "MODEL EVALUATION:\n",
      "313/313 [==============================] - 1s 2ms/step - loss: 0.2669 - accuracy: 0.9045\n"
     ]
    }
   ],
   "source": [
    "# Define the model\n",
    "model = tf.keras.models.Sequential([\n",
    "                                                         \n",
    "  # Add convolutions and max pooling\n",
    "  tf.keras.layers.Conv2D(32, (3,3), activation='relu', input_shape=(28, 28, 1)),\n",
    "  tf.keras.layers.MaxPooling2D(2, 2),\n",
    "  tf.keras.layers.Conv2D(32, (3,3), activation='relu'),\n",
    "  tf.keras.layers.MaxPooling2D(2,2),\n",
    "\n",
    "  # Add the same layers as before\n",
    "  tf.keras.layers.Flatten(),\n",
    "  tf.keras.layers.Dense(128, activation='relu'),\n",
    "  tf.keras.layers.Dense(10, activation='softmax')\n",
    "])\n",
    "\n",
    "# Print the model summary\n",
    "model.summary()\n",
    "\n",
    "# Use same settings\n",
    "model.compile(optimizer='adam', loss='sparse_categorical_crossentropy', metrics=['accuracy'])\n",
    "\n",
    "# Train the model\n",
    "print(f'\\nMODEL TRAINING:')\n",
    "model.fit(training_images, training_labels, epochs=5)\n",
    "\n",
    "# Evaluate on the test set\n",
    "print(f'\\nMODEL EVALUATION:')\n",
    "test_loss = model.evaluate(test_images, test_labels)\n"
   ]
  },
  {
   "cell_type": "code",
   "execution_count": 96,
   "metadata": {},
   "outputs": [
    {
     "name": "stdout",
     "output_type": "stream",
     "text": [
      "Model: \"sequential_11\"\n",
      "_________________________________________________________________\n",
      " Layer (type)                Output Shape              Param #   \n",
      "=================================================================\n",
      " conv2d_4 (Conv2D)           (None, 26, 26, 32)        320       \n",
      "                                                                 \n",
      " max_pooling2d_4 (MaxPooling  (None, 13, 13, 32)       0         \n",
      " 2D)                                                             \n",
      "                                                                 \n",
      " conv2d_5 (Conv2D)           (None, 11, 11, 32)        9248      \n",
      "                                                                 \n",
      " max_pooling2d_5 (MaxPooling  (None, 5, 5, 32)         0         \n",
      " 2D)                                                             \n",
      "                                                                 \n",
      " flatten_11 (Flatten)        (None, 800)               0         \n",
      "                                                                 \n",
      " dense_24 (Dense)            (None, 128)               102528    \n",
      "                                                                 \n",
      " dense_25 (Dense)            (None, 10)                1290      \n",
      "                                                                 \n",
      "=================================================================\n",
      "Total params: 113,386\n",
      "Trainable params: 113,386\n",
      "Non-trainable params: 0\n",
      "_________________________________________________________________\n",
      "\n",
      "MODEL TRAINING:\n",
      "Epoch 1/5\n",
      "1875/1875 [==============================] - 12s 6ms/step - loss: 0.4748 - accuracy: 0.8279\n",
      "Epoch 2/5\n",
      "1875/1875 [==============================] - 12s 6ms/step - loss: 0.3179 - accuracy: 0.8831\n",
      "Epoch 3/5\n",
      "1875/1875 [==============================] - 12s 6ms/step - loss: 0.2722 - accuracy: 0.8996\n",
      "Epoch 4/5\n",
      "1875/1875 [==============================] - 12s 6ms/step - loss: 0.2417 - accuracy: 0.9103\n",
      "Epoch 5/5\n",
      "1875/1875 [==============================] - 12s 6ms/step - loss: 0.2185 - accuracy: 0.9182\n",
      "\n",
      "MODEL EVALUATION:\n",
      "313/313 [==============================] - 1s 2ms/step - loss: 0.2774 - accuracy: 0.8985\n"
     ]
    }
   ],
   "source": [
    "# Define the model\n",
    "model = tf.keras.models.Sequential([\n",
    "    #Add convolutions and max pooling\n",
    "    tf.keras.layers.Conv2D(32,(3,3), activation = 'relu', input_shape=(28,28,1)),\n",
    "    tf.keras.layers.MaxPooling2D(2,2),\n",
    "    tf.keras.layers.Conv2D(32,(3,3),activation = 'relu'),\n",
    "    tf.keras.layers.MaxPooling2D(2,2),\n",
    "    \n",
    "    \n",
    "    # Add the same layers before\n",
    "    tf.keras.layers.Flatten(),\n",
    "    tf.keras.layers.Dense(128,activation = tf.nn.relu),\n",
    "    tf.keras.layers.Dense(10, activation = tf.nn.softmax)\n",
    "])\n",
    "\n",
    "\n",
    "#Print the model summary\n",
    "model.summary()\n",
    "\n",
    "#Setup training parameters\n",
    "model.compile(optimizer = 'adam', loss = 'sparse_categorical_crossentropy', metrics = ['accuracy'])\n",
    "\n",
    "# Train the model\n",
    "print(f'\\nMODEL TRAINING:')\n",
    "model.fit(training_images, training_labels, epochs =5)\n",
    "          \n",
    "# Evaluate on the test set\n",
    "print(f'\\nMODEL EVALUATION:')\n",
    "test_loss = model.evaluate(test_images, test_labels)"
   ]
  },
  {
   "cell_type": "code",
   "execution_count": null,
   "metadata": {},
   "outputs": [],
   "source": []
  },
  {
   "cell_type": "code",
   "execution_count": 104,
   "metadata": {},
   "outputs": [
    {
     "name": "stdout",
     "output_type": "stream",
     "text": [
      "Model: \"sequential_19\"\n",
      "_________________________________________________________________\n",
      " Layer (type)                Output Shape              Param #   \n",
      "=================================================================\n",
      " conv2d_14 (Conv2D)          (None, 26, 26, 16)        160       \n",
      "                                                                 \n",
      " max_pooling2d_14 (MaxPoolin  (None, 13, 13, 16)       0         \n",
      " g2D)                                                            \n",
      "                                                                 \n",
      " conv2d_15 (Conv2D)          (None, 11, 11, 16)        2320      \n",
      "                                                                 \n",
      " max_pooling2d_15 (MaxPoolin  (None, 5, 5, 16)         0         \n",
      " g2D)                                                            \n",
      "                                                                 \n",
      " flatten_19 (Flatten)        (None, 400)               0         \n",
      "                                                                 \n",
      " dense_40 (Dense)            (None, 128)               51328     \n",
      "                                                                 \n",
      " dense_41 (Dense)            (None, 10)                1290      \n",
      "                                                                 \n",
      "=================================================================\n",
      "Total params: 55,098\n",
      "Trainable params: 55,098\n",
      "Non-trainable params: 0\n",
      "_________________________________________________________________\n",
      "\n",
      "MODEL TRAINING:\n",
      "Epoch 1/5\n",
      "1875/1875 [==============================] - 9s 5ms/step - loss: 0.4995 - accuracy: 0.8185\n",
      "Epoch 2/5\n",
      "1875/1875 [==============================] - 9s 5ms/step - loss: 0.3431 - accuracy: 0.8757\n",
      "Epoch 3/5\n",
      "1875/1875 [==============================] - 9s 5ms/step - loss: 0.2980 - accuracy: 0.8907\n",
      "Epoch 4/5\n",
      "1875/1875 [==============================] - 9s 5ms/step - loss: 0.2707 - accuracy: 0.9015\n",
      "Epoch 5/5\n",
      "1875/1875 [==============================] - 9s 5ms/step - loss: 0.2515 - accuracy: 0.9071\n",
      "\n",
      "MODEL EVALUATION:\n",
      "313/313 [==============================] - 1s 2ms/step - loss: 0.2890 - accuracy: 0.8934\n"
     ]
    }
   ],
   "source": [
    "#1.Try editing the convolutions. Change the 32s to either 16 or 64. What impact will this have on accuracy and/or training time.\n",
    "model = tf.keras.models.Sequential([\n",
    "    tf.keras.layers.Conv2D(16,(3,3), activation = 'relu', input_shape=(28,28,1)),\n",
    "    tf.keras.layers.MaxPooling2D(2,2),\n",
    "    tf.keras.layers.Conv2D(16,(3,3),activation = 'relu'),\n",
    "    tf.keras.layers.MaxPooling2D(2,2),\n",
    "    tf.keras.layers.Flatten(),\n",
    "    tf.keras.layers.Dense(128,activation = tf.nn.relu),\n",
    "    tf.keras.layers.Dense(10, activation = tf.nn.softmax)\n",
    "])\n",
    "model.summary()\n",
    "model.compile(optimizer = 'adam', loss = 'sparse_categorical_crossentropy', metrics = ['accuracy'])\n",
    "print(f'\\nMODEL TRAINING:')\n",
    "model.fit(training_images, training_labels, epochs =5)\n",
    "print(f'\\nMODEL EVALUATION:')\n",
    "test_loss = model.evaluate(test_images, test_labels)"
   ]
  },
  {
   "cell_type": "code",
   "execution_count": 103,
   "metadata": {},
   "outputs": [
    {
     "name": "stdout",
     "output_type": "stream",
     "text": [
      "Model: \"sequential_18\"\n",
      "_________________________________________________________________\n",
      " Layer (type)                Output Shape              Param #   \n",
      "=================================================================\n",
      " conv2d_12 (Conv2D)          (None, 26, 26, 64)        640       \n",
      "                                                                 \n",
      " max_pooling2d_12 (MaxPoolin  (None, 13, 13, 64)       0         \n",
      " g2D)                                                            \n",
      "                                                                 \n",
      " conv2d_13 (Conv2D)          (None, 11, 11, 64)        36928     \n",
      "                                                                 \n",
      " max_pooling2d_13 (MaxPoolin  (None, 5, 5, 64)         0         \n",
      " g2D)                                                            \n",
      "                                                                 \n",
      " flatten_18 (Flatten)        (None, 1600)              0         \n",
      "                                                                 \n",
      " dense_38 (Dense)            (None, 128)               204928    \n",
      "                                                                 \n",
      " dense_39 (Dense)            (None, 10)                1290      \n",
      "                                                                 \n",
      "=================================================================\n",
      "Total params: 243,786\n",
      "Trainable params: 243,786\n",
      "Non-trainable params: 0\n",
      "_________________________________________________________________\n",
      "\n",
      "MODEL TRAINING:\n",
      "Epoch 1/5\n",
      "1875/1875 [==============================] - 22s 12ms/step - loss: 0.4434 - accuracy: 0.8389\n",
      "Epoch 2/5\n",
      "1875/1875 [==============================] - 22s 12ms/step - loss: 0.2976 - accuracy: 0.8914\n",
      "Epoch 3/5\n",
      "1875/1875 [==============================] - 22s 12ms/step - loss: 0.2500 - accuracy: 0.9082\n",
      "Epoch 4/5\n",
      "1875/1875 [==============================] - 22s 12ms/step - loss: 0.2182 - accuracy: 0.9190\n",
      "Epoch 5/5\n",
      "1875/1875 [==============================] - 22s 12ms/step - loss: 0.1911 - accuracy: 0.9295\n",
      "\n",
      "MODEL EVALUATION:\n",
      "313/313 [==============================] - 1s 3ms/step - loss: 0.2622 - accuracy: 0.9021\n"
     ]
    }
   ],
   "source": [
    "#1.Try editing the convolutions. Change the 32s to either 16 or 64. What impact will this have on accuracy and/or training time.\n",
    "model = tf.keras.models.Sequential([\n",
    "    tf.keras.layers.Conv2D(64,(3,3), activation = 'relu', input_shape=(28,28,1)),\n",
    "    tf.keras.layers.MaxPooling2D(2,2),\n",
    "    tf.keras.layers.Conv2D(64,(3,3),activation = 'relu'),\n",
    "    tf.keras.layers.MaxPooling2D(2,2),\n",
    "    tf.keras.layers.Flatten(),\n",
    "    tf.keras.layers.Dense(128,activation = tf.nn.relu),\n",
    "    tf.keras.layers.Dense(10, activation = tf.nn.softmax)\n",
    "])\n",
    "model.summary()\n",
    "model.compile(optimizer = 'adam', loss = 'sparse_categorical_crossentropy', metrics = ['accuracy'])\n",
    "print(f'\\nMODEL TRAINING:')\n",
    "model.fit(training_images, training_labels, epochs =5)\n",
    "print(f'\\nMODEL EVALUATION:')\n",
    "test_loss = model.evaluate(test_images, test_labels)"
   ]
  },
  {
   "cell_type": "markdown",
   "metadata": {
    "id": "uRLfZ0jt-fQI"
   },
   "source": [
    "It's likely gone up to about 92% on the training data and 90% on the validation data. That's significant, and a step in the right direction!\n",
    "\n",
    "Look at the code again, and see, step by step how the convolutions were built. Instead of the input layer at the top, you added a [Conv2D layer](https://www.tensorflow.org/api_docs/python/tf/keras/layers/Conv2D). The parameters are:\n",
    "\n",
    "1. The number of convolutions you want to generate. The value here is purely arbitrary but it's good to use powers of 2 starting from 32.\n",
    "2. The size of the Convolution. In this case, a 3x3 grid.\n",
    "3. The activation function to use. In this case, you used a ReLU, which you might recall is the equivalent of returning `x` when `x>0`, else return `0`.\n",
    "4. In the first layer, the shape of the input data.\n",
    "\n",
    "You'll follow the convolution with a [MaxPool2D](https://www.tensorflow.org/api_docs/python/tf/keras/layers/MaxPool2D) layer which is designed to compress the image, while maintaining the content of the features that were highlighted by the convlution. By specifying `(2,2)` for the MaxPooling, the effect is to quarter the size of the image. Without going into too much detail here, the idea is that it creates a 2x2 array of pixels, and picks the biggest one. Thus, it turns 4 pixels into 1. It repeats this across the image, and in doing so, it halves both the number of horizontal and vertical pixels, effectively reducing the image to 25% of the original image.\n",
    "\n",
    "You can call `model.summary()` to see the size and shape of the network, and you'll notice that after every max pooling layer, the image size is reduced in this way. \n",
    "\n",
    "\n",
    "```\n",
    "model = tf.keras.models.Sequential([\n",
    "  tf.keras.layers.Conv2D(32, (3,3), activation='relu', input_shape=(28, 28, 1)),\n",
    "  tf.keras.layers.MaxPooling2D(2, 2),\n",
    "```\n"
   ]
  },
  {
   "cell_type": "code",
   "execution_count": 105,
   "metadata": {},
   "outputs": [
    {
     "name": "stdout",
     "output_type": "stream",
     "text": [
      "Model: \"sequential_20\"\n",
      "_________________________________________________________________\n",
      " Layer (type)                Output Shape              Param #   \n",
      "=================================================================\n",
      " conv2d_16 (Conv2D)          (None, 26, 26, 32)        320       \n",
      "                                                                 \n",
      " max_pooling2d_16 (MaxPoolin  (None, 13, 13, 32)       0         \n",
      " g2D)                                                            \n",
      "                                                                 \n",
      " conv2d_17 (Conv2D)          (None, 11, 11, 32)        9248      \n",
      "                                                                 \n",
      " max_pooling2d_17 (MaxPoolin  (None, 5, 5, 32)         0         \n",
      " g2D)                                                            \n",
      "                                                                 \n",
      " flatten_20 (Flatten)        (None, 800)               0         \n",
      "                                                                 \n",
      " dense_42 (Dense)            (None, 128)               102528    \n",
      "                                                                 \n",
      " dense_43 (Dense)            (None, 10)                1290      \n",
      "                                                                 \n",
      "=================================================================\n",
      "Total params: 113,386\n",
      "Trainable params: 113,386\n",
      "Non-trainable params: 0\n",
      "_________________________________________________________________\n",
      "\n",
      "MODEL TRAINING:\n",
      "Epoch 1/20\n",
      "1875/1875 [==============================] - 12s 6ms/step - loss: 0.4834 - accuracy: 0.8242\n",
      "Epoch 2/20\n",
      "1875/1875 [==============================] - 12s 6ms/step - loss: 0.3234 - accuracy: 0.8816\n",
      "Epoch 3/20\n",
      "1875/1875 [==============================] - 11s 6ms/step - loss: 0.2768 - accuracy: 0.8978\n",
      "Epoch 4/20\n",
      "1875/1875 [==============================] - 12s 6ms/step - loss: 0.2442 - accuracy: 0.9094\n",
      "Epoch 5/20\n",
      "1875/1875 [==============================] - 12s 6ms/step - loss: 0.2224 - accuracy: 0.9169\n",
      "Epoch 6/20\n",
      "1875/1875 [==============================] - 12s 6ms/step - loss: 0.2017 - accuracy: 0.9247\n",
      "Epoch 7/20\n",
      "1875/1875 [==============================] - 12s 6ms/step - loss: 0.1837 - accuracy: 0.9318\n",
      "Epoch 8/20\n",
      "1875/1875 [==============================] - 12s 6ms/step - loss: 0.1666 - accuracy: 0.9365\n",
      "Epoch 9/20\n",
      "1875/1875 [==============================] - 11s 6ms/step - loss: 0.1545 - accuracy: 0.9418\n",
      "Epoch 10/20\n",
      "1875/1875 [==============================] - 12s 6ms/step - loss: 0.1404 - accuracy: 0.9471\n",
      "Epoch 11/20\n",
      "1875/1875 [==============================] - 12s 6ms/step - loss: 0.1298 - accuracy: 0.9511\n",
      "Epoch 12/20\n",
      "1875/1875 [==============================] - 12s 6ms/step - loss: 0.1191 - accuracy: 0.9549\n",
      "Epoch 13/20\n",
      "1875/1875 [==============================] - 12s 6ms/step - loss: 0.1088 - accuracy: 0.9586\n",
      "Epoch 14/20\n",
      "1875/1875 [==============================] - 12s 6ms/step - loss: 0.0986 - accuracy: 0.9625\n",
      "Epoch 15/20\n",
      "1875/1875 [==============================] - 12s 6ms/step - loss: 0.0909 - accuracy: 0.9650\n",
      "Epoch 16/20\n",
      "1875/1875 [==============================] - 12s 6ms/step - loss: 0.0834 - accuracy: 0.9683\n",
      "Epoch 17/20\n",
      "1875/1875 [==============================] - 12s 6ms/step - loss: 0.0787 - accuracy: 0.9704\n",
      "Epoch 18/20\n",
      "1875/1875 [==============================] - 12s 6ms/step - loss: 0.0699 - accuracy: 0.9735\n",
      "Epoch 19/20\n",
      "1875/1875 [==============================] - 12s 6ms/step - loss: 0.0655 - accuracy: 0.9747\n",
      "Epoch 20/20\n",
      "1875/1875 [==============================] - 12s 6ms/step - loss: 0.0608 - accuracy: 0.9769\n",
      "\n",
      "MODEL EVALUATION:\n",
      "313/313 [==============================] - 1s 2ms/step - loss: 0.4232 - accuracy: 0.9111\n"
     ]
    }
   ],
   "source": [
    "#7.epoch ->20\n",
    "model = tf.keras.models.Sequential([\n",
    "    tf.keras.layers.Conv2D(32,(3,3), activation = 'relu', input_shape=(28,28,1)),\n",
    "    tf.keras.layers.MaxPooling2D(2,2),\n",
    "    tf.keras.layers.Conv2D(32,(3,3),activation = 'relu'),\n",
    "    tf.keras.layers.MaxPooling2D(2,2),\n",
    "    tf.keras.layers.Flatten(),\n",
    "    tf.keras.layers.Dense(128,activation = tf.nn.relu),\n",
    "    tf.keras.layers.Dense(10, activation = tf.nn.softmax)\n",
    "])\n",
    "model.summary()\n",
    "model.compile(optimizer = 'adam', loss = 'sparse_categorical_crossentropy', metrics = ['accuracy'])\n",
    "print(f'\\nMODEL TRAINING:')\n",
    "model.fit(training_images, training_labels, epochs =20)\n",
    "print(f'\\nMODEL EVALUATION:')\n",
    "test_loss = model.evaluate(test_images, test_labels)"
   ]
  },
  {
   "cell_type": "code",
   "execution_count": 106,
   "metadata": {},
   "outputs": [
    {
     "ename": "AttributeError",
     "evalue": "module 'tensorflow.keras' has no attribute 'Callback'",
     "output_type": "error",
     "traceback": [
      "\u001b[1;31m---------------------------------------------------------------------------\u001b[0m",
      "\u001b[1;31mAttributeError\u001b[0m                            Traceback (most recent call last)",
      "\u001b[1;32m~\\AppData\\Local\\Temp/ipykernel_19356/1636863973.py\u001b[0m in \u001b[0;36m<module>\u001b[1;34m\u001b[0m\n\u001b[1;32m----> 1\u001b[1;33m \u001b[0mtf\u001b[0m\u001b[1;33m.\u001b[0m\u001b[0mkeras\u001b[0m\u001b[1;33m.\u001b[0m\u001b[0mCallback\u001b[0m\u001b[1;33m\u001b[0m\u001b[1;33m\u001b[0m\u001b[0m\n\u001b[0m",
      "\u001b[1;31mAttributeError\u001b[0m: module 'tensorflow.keras' has no attribute 'Callback'"
     ]
    }
   ],
   "source": [
    "tf.keras.Callback"
   ]
  },
  {
   "cell_type": "code",
   "execution_count": 110,
   "metadata": {},
   "outputs": [
    {
     "name": "stdout",
     "output_type": "stream",
     "text": [
      "Model: \"sequential_24\"\n",
      "_________________________________________________________________\n",
      " Layer (type)                Output Shape              Param #   \n",
      "=================================================================\n",
      " conv2d_24 (Conv2D)          (None, 26, 26, 32)        320       \n",
      "                                                                 \n",
      " max_pooling2d_24 (MaxPoolin  (None, 13, 13, 32)       0         \n",
      " g2D)                                                            \n",
      "                                                                 \n",
      " conv2d_25 (Conv2D)          (None, 11, 11, 32)        9248      \n",
      "                                                                 \n",
      " max_pooling2d_25 (MaxPoolin  (None, 5, 5, 32)         0         \n",
      " g2D)                                                            \n",
      "                                                                 \n",
      " flatten_24 (Flatten)        (None, 800)               0         \n",
      "                                                                 \n",
      " dense_50 (Dense)            (None, 128)               102528    \n",
      "                                                                 \n",
      " dense_51 (Dense)            (None, 10)                1290      \n",
      "                                                                 \n",
      "=================================================================\n",
      "Total params: 113,386\n",
      "Trainable params: 113,386\n",
      "Non-trainable params: 0\n",
      "_________________________________________________________________\n",
      "\n",
      "MODEL TRAINING:\n",
      "Epoch 1/5\n",
      "1875/1875 [==============================] - 13s 7ms/step - loss: 0.4739 - accuracy: 0.8271\n",
      "Epoch 2/5\n",
      "1869/1875 [============================>.] - ETA: 0s - loss: 0.3128 - accuracy: 0.8860accuracy >0.85. Stop\n",
      "1875/1875 [==============================] - 13s 7ms/step - loss: 0.3127 - accuracy: 0.8861\n",
      "\n",
      "MODEL EVALUATION:\n",
      "313/313 [==============================] - 1s 2ms/step - loss: 0.3135 - accuracy: 0.8837\n"
     ]
    }
   ],
   "source": [
    "#5. In the previous lesson you implemented a callback to check on the loss function and to cancel training once it hit a certain amount. See if you can implement that here.\n",
    "\n",
    "class myCallback(tf.keras.callbacks.Callback):\n",
    "    def on_epoch_end(self, epoch, logs={}):\n",
    "        if logs.get('accuracy')>0.85:\n",
    "            print('\\naccuracy >0.85. Stop')\n",
    "            self.model.stop_training = True\n",
    "        \n",
    "callbacks = myCallback()        \n",
    "\n",
    "model = tf.keras.models.Sequential([\n",
    "    tf.keras.layers.Conv2D(32,(3,3), activation = 'relu', input_shape=(28,28,1)),\n",
    "    tf.keras.layers.MaxPooling2D(2,2),\n",
    "    tf.keras.layers.Conv2D(32,(3,3),activation = 'relu', input_shape = (28,28,1)),\n",
    "    tf.keras.layers.MaxPooling2D(2,2),\n",
    "    tf.keras.layers.Flatten(),\n",
    "    tf.keras.layers.Dense(128,activation = tf.nn.relu),\n",
    "    tf.keras.layers.Dense(10, activation = tf.nn.softmax)\n",
    "])\n",
    "model.summary()\n",
    "model.compile(optimizer = 'adam', loss = 'sparse_categorical_crossentropy', metrics = ['accuracy'])\n",
    "print(f'\\nMODEL TRAINING:')\n",
    "model.fit(training_images, training_labels, epochs =5, callbacks = callbacks)\n",
    "print(f'\\nMODEL EVALUATION:')\n",
    "test_loss = model.evaluate(test_images, test_labels)"
   ]
  },
  {
   "cell_type": "code",
   "execution_count": 99,
   "metadata": {},
   "outputs": [
    {
     "name": "stdout",
     "output_type": "stream",
     "text": [
      "Model: \"sequential_14\"\n",
      "_________________________________________________________________\n",
      " Layer (type)                Output Shape              Param #   \n",
      "=================================================================\n",
      " conv2d_9 (Conv2D)           (None, 26, 26, 32)        320       \n",
      "                                                                 \n",
      " max_pooling2d_9 (MaxPooling  (None, 13, 13, 32)       0         \n",
      " 2D)                                                             \n",
      "                                                                 \n",
      " flatten_14 (Flatten)        (None, 5408)              0         \n",
      "                                                                 \n",
      " dense_30 (Dense)            (None, 128)               692352    \n",
      "                                                                 \n",
      " dense_31 (Dense)            (None, 10)                1290      \n",
      "                                                                 \n",
      "=================================================================\n",
      "Total params: 693,962\n",
      "Trainable params: 693,962\n",
      "Non-trainable params: 0\n",
      "_________________________________________________________________\n",
      "\n",
      "MODEL TRAINING:\n",
      "Epoch 1/5\n",
      "1875/1875 [==============================] - 11s 6ms/step - loss: 0.3959 - accuracy: 0.8597\n",
      "Epoch 2/5\n",
      "1875/1875 [==============================] - 11s 6ms/step - loss: 0.2666 - accuracy: 0.9031\n",
      "Epoch 3/5\n",
      "1875/1875 [==============================] - 11s 6ms/step - loss: 0.2224 - accuracy: 0.9181\n",
      "Epoch 4/5\n",
      "1875/1875 [==============================] - 11s 6ms/step - loss: 0.1889 - accuracy: 0.9299\n",
      "Epoch 5/5\n",
      "1875/1875 [==============================] - 11s 6ms/step - loss: 0.1622 - accuracy: 0.9390\n",
      "\n",
      "MODEL EVALUATION:\n",
      "313/313 [==============================] - 1s 2ms/step - loss: 0.2549 - accuracy: 0.9090\n"
     ]
    }
   ],
   "source": [
    "#2. Remove the final Convolution. What impact will this have on accuracy or training time?\n",
    "\n",
    "model = tf.keras.models.Sequential([\n",
    "    tf.keras.layers.Conv2D(32,(3,3), activation = 'relu', input_shape=(28,28,1)),\n",
    "    tf.keras.layers.MaxPooling2D(2,2),\n",
    "    tf.keras.layers.Flatten(),\n",
    "    tf.keras.layers.Dense(128,activation = tf.nn.relu),\n",
    "    tf.keras.layers.Dense(10, activation = tf.nn.softmax)\n",
    "])\n",
    "model.summary()\n",
    "model.compile(optimizer = 'adam', loss = 'sparse_categorical_crossentropy', metrics = ['accuracy'])\n",
    "print(f'\\nMODEL TRAINING:')\n",
    "model.fit(training_images, training_labels, epochs =5)\n",
    "print(f'\\nMODEL EVALUATION:')\n",
    "test_loss = model.evaluate(test_images, test_labels)"
   ]
  },
  {
   "cell_type": "markdown",
   "metadata": {
    "id": "RMorM6daADjA"
   },
   "source": [
    "Then you added another convolution and flattened the output.\n",
    "\n",
    "\n",
    "\n",
    "```\n",
    "  tf.keras.layers.Conv2D(64, (3,3), activation='relu'),\n",
    "  tf.keras.layers.MaxPooling2D(2,2)\n",
    "  tf.keras.layers.Flatten(),\n",
    "  \n",
    "```\n"
   ]
  },
  {
   "cell_type": "markdown",
   "metadata": {
    "id": "qPtqR23uASjX"
   },
   "source": [
    "After this, you'll just have the same DNN structure as the non convolutional version. The same 128 dense layers, and 10 output layers as in the pre-convolution example:\n",
    "\n",
    "\n",
    "\n",
    "```\n",
    "  tf.keras.layers.Dense(128, activation='relu'),\n",
    "  tf.keras.layers.Dense(10, activation='softmax')\n",
    "])\n",
    "```\n"
   ]
  },
  {
   "cell_type": "code",
   "execution_count": null,
   "metadata": {},
   "outputs": [],
   "source": [
    "#2. Remove the final Convolution. What impact will this have on accuracy or training time?\n",
    "\n",
    "#3. How about adding more Convolutions? What impact do you think this will have? Experiment with it.\n",
    "\n",
    "#4. Remove all Convolutions but the first. What impact do you think this will have? Experiment with it.\n",
    "\n",
    "#5. In the previous lesson you implemented a callback to check on the loss function and to cancel training once it hit a certain amount. See if you can implement that here.\n",
    "model = tf.keras.models.Sequential([\n",
    "    tf.keras.layers.Conv2D(64,(3,3), activation = 'relu', input_shape=(28,28,1)),\n",
    "    tf.keras.layers.MaxPooling2D(2,2),\n",
    "    tf.keras.layers.Conv2D(64,(3,3),activation = 'relu', input_shape = (28,28,1)),\n",
    "    tf.keras.layers.MaxPooling2D(2,2),\n",
    "    tf.keras.layers.Flatten(),\n",
    "    tf.keras.layers.Dense(128,activation = tf.nn.relu),\n",
    "    tf.keras.layers.Dense(10, activation = tf.nn.softmax)\n",
    "])\n",
    "model.summary()\n",
    "model.compile(optimizer = 'adam', loss = 'sparse_categorical_crossentropy', metrics = ['accuracy'])\n",
    "print(f'\\nMODEL TRAINING:')\n",
    "model.fit(training_images, training_labels, epochs =5)\n",
    "print(f'\\nMODEL EVALUATION:')\n",
    "test_loss = model.evaluate(test_images, test_labels)"
   ]
  },
  {
   "cell_type": "code",
   "execution_count": null,
   "metadata": {},
   "outputs": [],
   "source": []
  },
  {
   "cell_type": "markdown",
   "metadata": {
    "id": "Np6AjBlLYveu"
   },
   "source": [
    "## About overfitting\n",
    "\n",
    "Try running the training for more epochs -- say about 20, and explore the results. But while the results might seem really good, the validation results may actually go down, due to something called _overfitting_. In a nutshell, overfitting occurs when the network learns the data from the training set really well, but it's too specialised to only that data, and as a result is less effective at interpreting other unseen data. For example, if all your life you only saw red shoes, then when you see a red shoe you would be very good at identifying it. But blue suede shoes might confuse you... and you know you should never mess with my blue suede shoes."
   ]
  },
  {
   "cell_type": "markdown",
   "metadata": {
    "id": "IXx_LX3SAlFs"
   },
   "source": [
    "# Visualizing the Convolutions and Pooling\n",
    "\n",
    "Let's explore how to show the convolutions graphically. The cell below prints the first 100 labels in the test set, and you can see that the ones at index `0`, index `23` and index `28` are all the same value (i.e. `9`). They're all shoes. Let's take a look at the result of running the convolution on each, and you'll begin to see common features between them emerge. Now, when the dense layer is training on that data, it's working with a lot less, and it's perhaps finding a commonality between shoes based on this convolution/pooling combination."
   ]
  },
  {
   "cell_type": "code",
   "execution_count": 24,
   "metadata": {},
   "outputs": [
    {
     "name": "stdout",
     "output_type": "stream",
     "text": [
      "[9 2 1 1 6 1 4 6 5 7 4 5 7 3 4 1 2 4 8 0 2 5 7 9 1 4 6 0 9 3 8 8 3 3 8 0 7\n",
      " 5 7 9 6 1 3 7 6 7 2 1 2 2 4 4 5 8 2 2 8 4 8 0 7 7 8 5 1 1 2 3 9 8 7 0 2 6\n",
      " 2 3 1 2 8 4 1 8 5 9 5 0 3 2 0 6 5 3 6 7 1 8 0 1 4 2]\n"
     ]
    }
   ],
   "source": [
    "print(test_labels[:100])"
   ]
  },
  {
   "cell_type": "code",
   "execution_count": null,
   "metadata": {
    "id": "f-6nX4QsOku6"
   },
   "outputs": [],
   "source": [
    "print(test_labels[:100])"
   ]
  },
  {
   "cell_type": "code",
   "execution_count": 25,
   "metadata": {},
   "outputs": [],
   "source": [
    "import matplotlib.pyplot as plt\n",
    "from tensorflow.keras import models"
   ]
  },
  {
   "cell_type": "code",
   "execution_count": 31,
   "metadata": {},
   "outputs": [
    {
     "data": {
      "image/png": "[encoded data removed]",
      "text/plain": [
       "<Figure size 432x288 with 12 Axes>"
      ]
     },
     "metadata": {
      "needs_background": "light"
     },
     "output_type": "display_data"
    }
   ],
   "source": []
  },
  {
   "cell_type": "code",
   "execution_count": 33,
   "metadata": {},
   "outputs": [
    {
     "data": {
      "text/plain": [
       "<KerasTensor: shape=(None, 26, 26, 32) dtype=float32 (created by layer 'conv2d')>"
      ]
     },
     "execution_count": 33,
     "metadata": {},
     "output_type": "execute_result"
    }
   ],
   "source": [
    "model.layers[0].output"
   ]
  },
  {
   "cell_type": "code",
   "execution_count": 34,
   "metadata": {},
   "outputs": [],
   "source": [
    "layer_outputs = [layer.output for layer in model.layers]\n",
    "activation_model = tf.keras.models.Model(inputs = model.input, outputs = layer_outputs)"
   ]
  },
  {
   "cell_type": "code",
   "execution_count": 42,
   "metadata": {},
   "outputs": [],
   "source": [
    "activation_model = tf.keras.models.Model(inputs = model.input, outputs = layer_outputs)"
   ]
  },
  {
   "cell_type": "code",
   "execution_count": 36,
   "metadata": {},
   "outputs": [
    {
     "data": {
      "text/plain": [
       "<KerasTensor: shape=(None, 28, 28, 1) dtype=float32 (created by layer 'conv2d_input')>"
      ]
     },
     "execution_count": 36,
     "metadata": {},
     "output_type": "execute_result"
    }
   ],
   "source": [
    "model.input"
   ]
  },
  {
   "cell_type": "code",
   "execution_count": null,
   "metadata": {},
   "outputs": [],
   "source": [
    "layer_outputs = [layer.output for layer in model.layers]\n",
    "activation"
   ]
  },
  {
   "cell_type": "code",
   "execution_count": 37,
   "metadata": {},
   "outputs": [],
   "source": [
    "import tensorflow as tf\n",
    "\n",
    "inputs2 = tf.keras.Input(shape=(3,))\n",
    "x = tf.keras.layers.Dense(4, activation=tf.nn.relu)(inputs2)\n",
    "outputs2 = tf.keras.layers.Dense(5, activation=tf.nn.softmax)(x)\n",
    "model2 = tf.keras.Model(inputs=inputs2, outputs=outputs2)"
   ]
  },
  {
   "cell_type": "code",
   "execution_count": null,
   "metadata": {},
   "outputs": [],
   "source": [
    "for x in range(0,4):\n",
    "    f1 = activation_model.predict(test_images[FIRST_IMAGE].reshape(1,28,28,1))"
   ]
  },
  {
   "cell_type": "code",
   "execution_count": 41,
   "metadata": {
    "scrolled": true
   },
   "outputs": [
    {
     "data": {
      "text/plain": [
       "<KerasTensor: shape=(None, 5) dtype=float32 (created by layer 'dense_21')>"
      ]
     },
     "execution_count": 41,
     "metadata": {},
     "output_type": "execute_result"
    }
   ],
   "source": [
    "outputs2"
   ]
  },
  {
   "cell_type": "code",
   "execution_count": 45,
   "metadata": {},
   "outputs": [
    {
     "data": {
      "text/plain": [
       "(28, 28)"
      ]
     },
     "execution_count": 45,
     "metadata": {},
     "output_type": "execute_result"
    }
   ],
   "source": [
    "test_images[FIRST_IMAGE].shape"
   ]
  },
  {
   "cell_type": "code",
   "execution_count": 60,
   "metadata": {},
   "outputs": [
    {
     "ename": "IndexError",
     "evalue": "list index out of range",
     "output_type": "error",
     "traceback": [
      "\u001b[1;31m---------------------------------------------------------------------------\u001b[0m",
      "\u001b[1;31mIndexError\u001b[0m                                Traceback (most recent call last)",
      "\u001b[1;32m~\\AppData\\Local\\Temp/ipykernel_19356/1764076412.py\u001b[0m in \u001b[0;36m<module>\u001b[1;34m\u001b[0m\n\u001b[1;32m----> 1\u001b[1;33m \u001b[0mactivation_model\u001b[0m\u001b[1;33m.\u001b[0m\u001b[0mpredict\u001b[0m\u001b[1;33m(\u001b[0m\u001b[0mtest_images\u001b[0m\u001b[1;33m[\u001b[0m\u001b[0mFIRST_IMAGE\u001b[0m\u001b[1;33m]\u001b[0m\u001b[1;33m.\u001b[0m\u001b[0mreshape\u001b[0m\u001b[1;33m(\u001b[0m\u001b[1;36m1\u001b[0m\u001b[1;33m,\u001b[0m\u001b[1;36m28\u001b[0m\u001b[1;33m,\u001b[0m\u001b[1;36m28\u001b[0m\u001b[1;33m,\u001b[0m\u001b[1;36m1\u001b[0m\u001b[1;33m)\u001b[0m\u001b[1;33m)\u001b[0m\u001b[1;33m[\u001b[0m\u001b[1;36m7\u001b[0m\u001b[1;33m]\u001b[0m\u001b[1;33m\u001b[0m\u001b[1;33m\u001b[0m\u001b[0m\n\u001b[0m",
      "\u001b[1;31mIndexError\u001b[0m: list index out of range"
     ]
    }
   ],
   "source": [
    "activation_model.predict(test_images[FIRST_IMAGE].reshape(1,28,28,1))[7]"
   ]
  },
  {
   "cell_type": "code",
   "execution_count": 47,
   "metadata": {},
   "outputs": [
    {
     "data": {
      "text/plain": [
       "array([[[[0.        ],\n",
       "         [0.        ],\n",
       "         [0.        ],\n",
       "         [0.        ],\n",
       "         [0.        ],\n",
       "         [0.        ],\n",
       "         [0.        ],\n",
       "         [0.        ],\n",
       "         [0.        ],\n",
       "         [0.        ],\n",
       "         [0.        ],\n",
       "         [0.        ],\n",
       "         [0.        ],\n",
       "         [0.        ],\n",
       "         [0.        ],\n",
       "         [0.        ],\n",
       "         [0.        ],\n",
       "         [0.        ],\n",
       "         [0.        ],\n",
       "         [0.        ],\n",
       "         [0.        ],\n",
       "         [0.        ],\n",
       "         [0.        ],\n",
       "         [0.        ],\n",
       "         [0.        ],\n",
       "         [0.        ],\n",
       "         [0.        ],\n",
       "         [0.        ]],\n",
       "\n",
       "        [[0.        ],\n",
       "         [0.        ],\n",
       "         [0.        ],\n",
       "         [0.        ],\n",
       "         [0.        ],\n",
       "         [0.        ],\n",
       "         [0.        ],\n",
       "         [0.        ],\n",
       "         [0.        ],\n",
       "         [0.        ],\n",
       "         [0.        ],\n",
       "         [0.        ],\n",
       "         [0.        ],\n",
       "         [0.        ],\n",
       "         [0.        ],\n",
       "         [0.        ],\n",
       "         [0.        ],\n",
       "         [0.        ],\n",
       "         [0.        ],\n",
       "         [0.        ],\n",
       "         [0.        ],\n",
       "         [0.        ],\n",
       "         [0.        ],\n",
       "         [0.        ],\n",
       "         [0.        ],\n",
       "         [0.        ],\n",
       "         [0.        ],\n",
       "         [0.        ]],\n",
       "\n",
       "        [[0.        ],\n",
       "         [0.        ],\n",
       "         [0.        ],\n",
       "         [0.        ],\n",
       "         [0.        ],\n",
       "         [0.        ],\n",
       "         [0.        ],\n",
       "         [0.        ],\n",
       "         [0.        ],\n",
       "         [0.        ],\n",
       "         [0.        ],\n",
       "         [0.        ],\n",
       "         [0.        ],\n",
       "         [0.        ],\n",
       "         [0.        ],\n",
       "         [0.        ],\n",
       "         [0.        ],\n",
       "         [0.        ],\n",
       "         [0.        ],\n",
       "         [0.        ],\n",
       "         [0.        ],\n",
       "         [0.        ],\n",
       "         [0.        ],\n",
       "         [0.        ],\n",
       "         [0.        ],\n",
       "         [0.        ],\n",
       "         [0.        ],\n",
       "         [0.        ]],\n",
       "\n",
       "        [[0.        ],\n",
       "         [0.        ],\n",
       "         [0.        ],\n",
       "         [0.        ],\n",
       "         [0.        ],\n",
       "         [0.        ],\n",
       "         [0.        ],\n",
       "         [0.        ],\n",
       "         [0.        ],\n",
       "         [0.        ],\n",
       "         [0.        ],\n",
       "         [0.        ],\n",
       "         [0.        ],\n",
       "         [0.        ],\n",
       "         [0.        ],\n",
       "         [0.        ],\n",
       "         [0.        ],\n",
       "         [0.        ],\n",
       "         [0.        ],\n",
       "         [0.        ],\n",
       "         [0.        ],\n",
       "         [0.        ],\n",
       "         [0.        ],\n",
       "         [0.        ],\n",
       "         [0.        ],\n",
       "         [0.        ],\n",
       "         [0.        ],\n",
       "         [0.        ]],\n",
       "\n",
       "        [[0.        ],\n",
       "         [0.        ],\n",
       "         [0.        ],\n",
       "         [0.        ],\n",
       "         [0.        ],\n",
       "         [0.        ],\n",
       "         [0.        ],\n",
       "         [0.        ],\n",
       "         [0.        ],\n",
       "         [0.        ],\n",
       "         [0.        ],\n",
       "         [0.        ],\n",
       "         [0.        ],\n",
       "         [0.        ],\n",
       "         [0.        ],\n",
       "         [0.        ],\n",
       "         [0.        ],\n",
       "         [0.        ],\n",
       "         [0.        ],\n",
       "         [0.        ],\n",
       "         [0.        ],\n",
       "         [0.        ],\n",
       "         [0.        ],\n",
       "         [0.        ],\n",
       "         [0.        ],\n",
       "         [0.        ],\n",
       "         [0.        ],\n",
       "         [0.        ]],\n",
       "\n",
       "        [[0.        ],\n",
       "         [0.        ],\n",
       "         [0.        ],\n",
       "         [0.        ],\n",
       "         [0.        ],\n",
       "         [0.        ],\n",
       "         [0.        ],\n",
       "         [0.        ],\n",
       "         [0.        ],\n",
       "         [0.        ],\n",
       "         [0.        ],\n",
       "         [0.        ],\n",
       "         [0.        ],\n",
       "         [0.        ],\n",
       "         [0.        ],\n",
       "         [0.        ],\n",
       "         [0.        ],\n",
       "         [0.        ],\n",
       "         [0.        ],\n",
       "         [0.        ],\n",
       "         [0.        ],\n",
       "         [0.        ],\n",
       "         [0.        ],\n",
       "         [0.        ],\n",
       "         [0.        ],\n",
       "         [0.        ],\n",
       "         [0.        ],\n",
       "         [0.        ]],\n",
       "\n",
       "        [[0.        ],\n",
       "         [0.        ],\n",
       "         [0.        ],\n",
       "         [0.        ],\n",
       "         [0.        ],\n",
       "         [0.        ],\n",
       "         [0.        ],\n",
       "         [0.        ],\n",
       "         [0.        ],\n",
       "         [0.        ],\n",
       "         [0.        ],\n",
       "         [0.        ],\n",
       "         [0.        ],\n",
       "         [0.        ],\n",
       "         [0.        ],\n",
       "         [0.        ],\n",
       "         [0.        ],\n",
       "         [0.        ],\n",
       "         [0.        ],\n",
       "         [0.        ],\n",
       "         [0.        ],\n",
       "         [0.        ],\n",
       "         [0.        ],\n",
       "         [0.        ],\n",
       "         [0.        ],\n",
       "         [0.        ],\n",
       "         [0.        ],\n",
       "         [0.        ]],\n",
       "\n",
       "        [[0.        ],\n",
       "         [0.        ],\n",
       "         [0.        ],\n",
       "         [0.        ],\n",
       "         [0.        ],\n",
       "         [0.        ],\n",
       "         [0.        ],\n",
       "         [0.        ],\n",
       "         [0.        ],\n",
       "         [0.        ],\n",
       "         [0.        ],\n",
       "         [0.        ],\n",
       "         [0.        ],\n",
       "         [0.        ],\n",
       "         [0.        ],\n",
       "         [0.        ],\n",
       "         [0.        ],\n",
       "         [0.        ],\n",
       "         [0.        ],\n",
       "         [0.01176471],\n",
       "         [0.00392157],\n",
       "         [0.        ],\n",
       "         [0.        ],\n",
       "         [0.02745098],\n",
       "         [0.        ],\n",
       "         [0.14509804],\n",
       "         [0.        ],\n",
       "         [0.        ]],\n",
       "\n",
       "        [[0.        ],\n",
       "         [0.        ],\n",
       "         [0.        ],\n",
       "         [0.        ],\n",
       "         [0.        ],\n",
       "         [0.        ],\n",
       "         [0.        ],\n",
       "         [0.        ],\n",
       "         [0.        ],\n",
       "         [0.        ],\n",
       "         [0.        ],\n",
       "         [0.        ],\n",
       "         [0.        ],\n",
       "         [0.00392157],\n",
       "         [0.00784314],\n",
       "         [0.        ],\n",
       "         [0.10588235],\n",
       "         [0.32941176],\n",
       "         [0.04313725],\n",
       "         [0.        ],\n",
       "         [0.        ],\n",
       "         [0.        ],\n",
       "         [0.        ],\n",
       "         [0.        ],\n",
       "         [0.        ],\n",
       "         [0.46666667],\n",
       "         [0.        ],\n",
       "         [0.        ]],\n",
       "\n",
       "        [[0.        ],\n",
       "         [0.        ],\n",
       "         [0.        ],\n",
       "         [0.        ],\n",
       "         [0.        ],\n",
       "         [0.        ],\n",
       "         [0.        ],\n",
       "         [0.        ],\n",
       "         [0.        ],\n",
       "         [0.        ],\n",
       "         [0.        ],\n",
       "         [0.        ],\n",
       "         [0.        ],\n",
       "         [0.00392157],\n",
       "         [0.        ],\n",
       "         [0.        ],\n",
       "         [0.34509804],\n",
       "         [0.56078431],\n",
       "         [0.43137255],\n",
       "         [0.        ],\n",
       "         [0.        ],\n",
       "         [0.        ],\n",
       "         [0.        ],\n",
       "         [0.08627451],\n",
       "         [0.36470588],\n",
       "         [0.41568627],\n",
       "         [0.        ],\n",
       "         [0.        ]],\n",
       "\n",
       "        [[0.        ],\n",
       "         [0.        ],\n",
       "         [0.        ],\n",
       "         [0.        ],\n",
       "         [0.        ],\n",
       "         [0.        ],\n",
       "         [0.        ],\n",
       "         [0.        ],\n",
       "         [0.        ],\n",
       "         [0.        ],\n",
       "         [0.        ],\n",
       "         [0.        ],\n",
       "         [0.        ],\n",
       "         [0.01568627],\n",
       "         [0.        ],\n",
       "         [0.20784314],\n",
       "         [0.50588235],\n",
       "         [0.47058824],\n",
       "         [0.57647059],\n",
       "         [0.68627451],\n",
       "         [0.61568627],\n",
       "         [0.65098039],\n",
       "         [0.52941176],\n",
       "         [0.60392157],\n",
       "         [0.65882353],\n",
       "         [0.54901961],\n",
       "         [0.        ],\n",
       "         [0.        ]],\n",
       "\n",
       "        [[0.        ],\n",
       "         [0.        ],\n",
       "         [0.        ],\n",
       "         [0.        ],\n",
       "         [0.        ],\n",
       "         [0.        ],\n",
       "         [0.        ],\n",
       "         [0.        ],\n",
       "         [0.        ],\n",
       "         [0.        ],\n",
       "         [0.        ],\n",
       "         [0.        ],\n",
       "         [0.00784314],\n",
       "         [0.        ],\n",
       "         [0.04313725],\n",
       "         [0.5372549 ],\n",
       "         [0.50980392],\n",
       "         [0.50196078],\n",
       "         [0.62745098],\n",
       "         [0.69019608],\n",
       "         [0.62352941],\n",
       "         [0.65490196],\n",
       "         [0.69803922],\n",
       "         [0.58431373],\n",
       "         [0.59215686],\n",
       "         [0.56470588],\n",
       "         [0.        ],\n",
       "         [0.        ]],\n",
       "\n",
       "        [[0.        ],\n",
       "         [0.        ],\n",
       "         [0.        ],\n",
       "         [0.        ],\n",
       "         [0.        ],\n",
       "         [0.        ],\n",
       "         [0.00392157],\n",
       "         [0.        ],\n",
       "         [0.00784314],\n",
       "         [0.00392157],\n",
       "         [0.        ],\n",
       "         [0.01176471],\n",
       "         [0.        ],\n",
       "         [0.        ],\n",
       "         [0.45098039],\n",
       "         [0.44705882],\n",
       "         [0.41568627],\n",
       "         [0.5372549 ],\n",
       "         [0.65882353],\n",
       "         [0.6       ],\n",
       "         [0.61176471],\n",
       "         [0.64705882],\n",
       "         [0.65490196],\n",
       "         [0.56078431],\n",
       "         [0.61568627],\n",
       "         [0.61960784],\n",
       "         [0.04313725],\n",
       "         [0.        ]],\n",
       "\n",
       "        [[0.        ],\n",
       "         [0.        ],\n",
       "         [0.        ],\n",
       "         [0.        ],\n",
       "         [0.00392157],\n",
       "         [0.        ],\n",
       "         [0.        ],\n",
       "         [0.        ],\n",
       "         [0.        ],\n",
       "         [0.        ],\n",
       "         [0.01176471],\n",
       "         [0.        ],\n",
       "         [0.        ],\n",
       "         [0.34901961],\n",
       "         [0.54509804],\n",
       "         [0.35294118],\n",
       "         [0.36862745],\n",
       "         [0.6       ],\n",
       "         [0.58431373],\n",
       "         [0.51372549],\n",
       "         [0.59215686],\n",
       "         [0.6627451 ],\n",
       "         [0.6745098 ],\n",
       "         [0.56078431],\n",
       "         [0.62352941],\n",
       "         [0.6627451 ],\n",
       "         [0.18823529],\n",
       "         [0.        ]],\n",
       "\n",
       "        [[0.        ],\n",
       "         [0.        ],\n",
       "         [0.        ],\n",
       "         [0.        ],\n",
       "         [0.        ],\n",
       "         [0.        ],\n",
       "         [0.00784314],\n",
       "         [0.01568627],\n",
       "         [0.00392157],\n",
       "         [0.        ],\n",
       "         [0.        ],\n",
       "         [0.        ],\n",
       "         [0.38431373],\n",
       "         [0.53333333],\n",
       "         [0.43137255],\n",
       "         [0.42745098],\n",
       "         [0.43137255],\n",
       "         [0.63529412],\n",
       "         [0.52941176],\n",
       "         [0.56470588],\n",
       "         [0.58431373],\n",
       "         [0.62352941],\n",
       "         [0.65490196],\n",
       "         [0.56470588],\n",
       "         [0.61960784],\n",
       "         [0.6627451 ],\n",
       "         [0.46666667],\n",
       "         [0.        ]],\n",
       "\n",
       "        [[0.        ],\n",
       "         [0.        ],\n",
       "         [0.00784314],\n",
       "         [0.00784314],\n",
       "         [0.00392157],\n",
       "         [0.00784314],\n",
       "         [0.        ],\n",
       "         [0.        ],\n",
       "         [0.        ],\n",
       "         [0.        ],\n",
       "         [0.10196078],\n",
       "         [0.42352941],\n",
       "         [0.45882353],\n",
       "         [0.38823529],\n",
       "         [0.43529412],\n",
       "         [0.45882353],\n",
       "         [0.53333333],\n",
       "         [0.61176471],\n",
       "         [0.5254902 ],\n",
       "         [0.60392157],\n",
       "         [0.60392157],\n",
       "         [0.61176471],\n",
       "         [0.62745098],\n",
       "         [0.55294118],\n",
       "         [0.57647059],\n",
       "         [0.61176471],\n",
       "         [0.69803922],\n",
       "         [0.        ]],\n",
       "\n",
       "        [[0.01176471],\n",
       "         [0.        ],\n",
       "         [0.        ],\n",
       "         [0.        ],\n",
       "         [0.        ],\n",
       "         [0.        ],\n",
       "         [0.        ],\n",
       "         [0.08235294],\n",
       "         [0.20784314],\n",
       "         [0.36078431],\n",
       "         [0.45882353],\n",
       "         [0.43529412],\n",
       "         [0.40392157],\n",
       "         [0.45098039],\n",
       "         [0.50588235],\n",
       "         [0.5254902 ],\n",
       "         [0.56078431],\n",
       "         [0.60392157],\n",
       "         [0.64705882],\n",
       "         [0.66666667],\n",
       "         [0.60392157],\n",
       "         [0.59215686],\n",
       "         [0.60392157],\n",
       "         [0.56078431],\n",
       "         [0.54117647],\n",
       "         [0.58823529],\n",
       "         [0.64705882],\n",
       "         [0.16862745]],\n",
       "\n",
       "        [[0.        ],\n",
       "         [0.        ],\n",
       "         [0.09019608],\n",
       "         [0.21176471],\n",
       "         [0.25490196],\n",
       "         [0.29803922],\n",
       "         [0.33333333],\n",
       "         [0.4627451 ],\n",
       "         [0.50196078],\n",
       "         [0.48235294],\n",
       "         [0.43529412],\n",
       "         [0.44313725],\n",
       "         [0.4627451 ],\n",
       "         [0.49803922],\n",
       "         [0.49019608],\n",
       "         [0.54509804],\n",
       "         [0.52156863],\n",
       "         [0.53333333],\n",
       "         [0.62745098],\n",
       "         [0.54901961],\n",
       "         [0.60784314],\n",
       "         [0.63137255],\n",
       "         [0.56470588],\n",
       "         [0.60784314],\n",
       "         [0.6745098 ],\n",
       "         [0.63137255],\n",
       "         [0.74117647],\n",
       "         [0.24313725]],\n",
       "\n",
       "        [[0.        ],\n",
       "         [0.26666667],\n",
       "         [0.36862745],\n",
       "         [0.35294118],\n",
       "         [0.43529412],\n",
       "         [0.44705882],\n",
       "         [0.43529412],\n",
       "         [0.44705882],\n",
       "         [0.45098039],\n",
       "         [0.49803922],\n",
       "         [0.52941176],\n",
       "         [0.53333333],\n",
       "         [0.56078431],\n",
       "         [0.49411765],\n",
       "         [0.49803922],\n",
       "         [0.59215686],\n",
       "         [0.60392157],\n",
       "         [0.56078431],\n",
       "         [0.58039216],\n",
       "         [0.49019608],\n",
       "         [0.63529412],\n",
       "         [0.63529412],\n",
       "         [0.56470588],\n",
       "         [0.54117647],\n",
       "         [0.6       ],\n",
       "         [0.63529412],\n",
       "         [0.76862745],\n",
       "         [0.22745098]],\n",
       "\n",
       "        [[0.2745098 ],\n",
       "         [0.6627451 ],\n",
       "         [0.50588235],\n",
       "         [0.40784314],\n",
       "         [0.38431373],\n",
       "         [0.39215686],\n",
       "         [0.36862745],\n",
       "         [0.38039216],\n",
       "         [0.38431373],\n",
       "         [0.4       ],\n",
       "         [0.42352941],\n",
       "         [0.41568627],\n",
       "         [0.46666667],\n",
       "         [0.47058824],\n",
       "         [0.50588235],\n",
       "         [0.58431373],\n",
       "         [0.61176471],\n",
       "         [0.65490196],\n",
       "         [0.74509804],\n",
       "         [0.74509804],\n",
       "         [0.76862745],\n",
       "         [0.77647059],\n",
       "         [0.77647059],\n",
       "         [0.73333333],\n",
       "         [0.77254902],\n",
       "         [0.74117647],\n",
       "         [0.72156863],\n",
       "         [0.14117647]],\n",
       "\n",
       "        [[0.0627451 ],\n",
       "         [0.49411765],\n",
       "         [0.67058824],\n",
       "         [0.7372549 ],\n",
       "         [0.7372549 ],\n",
       "         [0.72156863],\n",
       "         [0.67058824],\n",
       "         [0.6       ],\n",
       "         [0.52941176],\n",
       "         [0.47058824],\n",
       "         [0.49411765],\n",
       "         [0.49803922],\n",
       "         [0.57254902],\n",
       "         [0.7254902 ],\n",
       "         [0.76470588],\n",
       "         [0.81960784],\n",
       "         [0.81568627],\n",
       "         [1.        ],\n",
       "         [0.81960784],\n",
       "         [0.69411765],\n",
       "         [0.96078431],\n",
       "         [0.98823529],\n",
       "         [0.98431373],\n",
       "         [0.98431373],\n",
       "         [0.96862745],\n",
       "         [0.8627451 ],\n",
       "         [0.80784314],\n",
       "         [0.19215686]],\n",
       "\n",
       "        [[0.        ],\n",
       "         [0.        ],\n",
       "         [0.        ],\n",
       "         [0.04705882],\n",
       "         [0.2627451 ],\n",
       "         [0.41568627],\n",
       "         [0.64313725],\n",
       "         [0.7254902 ],\n",
       "         [0.78039216],\n",
       "         [0.82352941],\n",
       "         [0.82745098],\n",
       "         [0.82352941],\n",
       "         [0.81568627],\n",
       "         [0.74509804],\n",
       "         [0.58823529],\n",
       "         [0.32156863],\n",
       "         [0.03137255],\n",
       "         [0.        ],\n",
       "         [0.        ],\n",
       "         [0.        ],\n",
       "         [0.69803922],\n",
       "         [0.81568627],\n",
       "         [0.7372549 ],\n",
       "         [0.68627451],\n",
       "         [0.63529412],\n",
       "         [0.61960784],\n",
       "         [0.59215686],\n",
       "         [0.04313725]],\n",
       "\n",
       "        [[0.        ],\n",
       "         [0.        ],\n",
       "         [0.        ],\n",
       "         [0.        ],\n",
       "         [0.        ],\n",
       "         [0.        ],\n",
       "         [0.        ],\n",
       "         [0.        ],\n",
       "         [0.        ],\n",
       "         [0.        ],\n",
       "         [0.        ],\n",
       "         [0.        ],\n",
       "         [0.        ],\n",
       "         [0.        ],\n",
       "         [0.        ],\n",
       "         [0.        ],\n",
       "         [0.        ],\n",
       "         [0.        ],\n",
       "         [0.        ],\n",
       "         [0.        ],\n",
       "         [0.        ],\n",
       "         [0.        ],\n",
       "         [0.        ],\n",
       "         [0.        ],\n",
       "         [0.        ],\n",
       "         [0.        ],\n",
       "         [0.        ],\n",
       "         [0.        ]],\n",
       "\n",
       "        [[0.        ],\n",
       "         [0.        ],\n",
       "         [0.        ],\n",
       "         [0.        ],\n",
       "         [0.        ],\n",
       "         [0.        ],\n",
       "         [0.        ],\n",
       "         [0.        ],\n",
       "         [0.        ],\n",
       "         [0.        ],\n",
       "         [0.        ],\n",
       "         [0.        ],\n",
       "         [0.        ],\n",
       "         [0.        ],\n",
       "         [0.        ],\n",
       "         [0.        ],\n",
       "         [0.        ],\n",
       "         [0.        ],\n",
       "         [0.        ],\n",
       "         [0.        ],\n",
       "         [0.        ],\n",
       "         [0.        ],\n",
       "         [0.        ],\n",
       "         [0.        ],\n",
       "         [0.        ],\n",
       "         [0.        ],\n",
       "         [0.        ],\n",
       "         [0.        ]],\n",
       "\n",
       "        [[0.        ],\n",
       "         [0.        ],\n",
       "         [0.        ],\n",
       "         [0.        ],\n",
       "         [0.        ],\n",
       "         [0.        ],\n",
       "         [0.        ],\n",
       "         [0.        ],\n",
       "         [0.        ],\n",
       "         [0.        ],\n",
       "         [0.        ],\n",
       "         [0.        ],\n",
       "         [0.        ],\n",
       "         [0.        ],\n",
       "         [0.        ],\n",
       "         [0.        ],\n",
       "         [0.        ],\n",
       "         [0.        ],\n",
       "         [0.        ],\n",
       "         [0.        ],\n",
       "         [0.        ],\n",
       "         [0.        ],\n",
       "         [0.        ],\n",
       "         [0.        ],\n",
       "         [0.        ],\n",
       "         [0.        ],\n",
       "         [0.        ],\n",
       "         [0.        ]],\n",
       "\n",
       "        [[0.        ],\n",
       "         [0.        ],\n",
       "         [0.        ],\n",
       "         [0.        ],\n",
       "         [0.        ],\n",
       "         [0.        ],\n",
       "         [0.        ],\n",
       "         [0.        ],\n",
       "         [0.        ],\n",
       "         [0.        ],\n",
       "         [0.        ],\n",
       "         [0.        ],\n",
       "         [0.        ],\n",
       "         [0.        ],\n",
       "         [0.        ],\n",
       "         [0.        ],\n",
       "         [0.        ],\n",
       "         [0.        ],\n",
       "         [0.        ],\n",
       "         [0.        ],\n",
       "         [0.        ],\n",
       "         [0.        ],\n",
       "         [0.        ],\n",
       "         [0.        ],\n",
       "         [0.        ],\n",
       "         [0.        ],\n",
       "         [0.        ],\n",
       "         [0.        ]],\n",
       "\n",
       "        [[0.        ],\n",
       "         [0.        ],\n",
       "         [0.        ],\n",
       "         [0.        ],\n",
       "         [0.        ],\n",
       "         [0.        ],\n",
       "         [0.        ],\n",
       "         [0.        ],\n",
       "         [0.        ],\n",
       "         [0.        ],\n",
       "         [0.        ],\n",
       "         [0.        ],\n",
       "         [0.        ],\n",
       "         [0.        ],\n",
       "         [0.        ],\n",
       "         [0.        ],\n",
       "         [0.        ],\n",
       "         [0.        ],\n",
       "         [0.        ],\n",
       "         [0.        ],\n",
       "         [0.        ],\n",
       "         [0.        ],\n",
       "         [0.        ],\n",
       "         [0.        ],\n",
       "         [0.        ],\n",
       "         [0.        ],\n",
       "         [0.        ],\n",
       "         [0.        ]],\n",
       "\n",
       "        [[0.        ],\n",
       "         [0.        ],\n",
       "         [0.        ],\n",
       "         [0.        ],\n",
       "         [0.        ],\n",
       "         [0.        ],\n",
       "         [0.        ],\n",
       "         [0.        ],\n",
       "         [0.        ],\n",
       "         [0.        ],\n",
       "         [0.        ],\n",
       "         [0.        ],\n",
       "         [0.        ],\n",
       "         [0.        ],\n",
       "         [0.        ],\n",
       "         [0.        ],\n",
       "         [0.        ],\n",
       "         [0.        ],\n",
       "         [0.        ],\n",
       "         [0.        ],\n",
       "         [0.        ],\n",
       "         [0.        ],\n",
       "         [0.        ],\n",
       "         [0.        ],\n",
       "         [0.        ],\n",
       "         [0.        ],\n",
       "         [0.        ],\n",
       "         [0.        ]]]])"
      ]
     },
     "execution_count": 47,
     "metadata": {},
     "output_type": "execute_result"
    }
   ],
   "source": [
    "test_images[FIRST_IMAGE].reshape(1,28,28,1)"
   ]
  },
  {
   "cell_type": "code",
   "execution_count": 58,
   "metadata": {},
   "outputs": [
    {
     "data": {
      "text/plain": [
       "7"
      ]
     },
     "execution_count": 58,
     "metadata": {},
     "output_type": "execute_result"
    }
   ],
   "source": [
    "len(layer_outputs)"
   ]
  },
  {
   "cell_type": "code",
   "execution_count": 61,
   "metadata": {},
   "outputs": [
    {
     "data": {
      "text/plain": [
       "<KerasTensor: shape=(None, 28, 28, 1) dtype=float32 (created by layer 'conv2d_input')>"
      ]
     },
     "execution_count": 61,
     "metadata": {},
     "output_type": "execute_result"
    }
   ],
   "source": [
    "model.input"
   ]
  },
  {
   "cell_type": "code",
   "execution_count": 76,
   "metadata": {
    "id": "9FGsHhv6JvDx"
   },
   "outputs": [
    {
     "data": {
      "image/png": "[encoded data removed]",
      "text/plain": [
       "<Figure size 432x288 with 12 Axes>"
      ]
     },
     "metadata": {
      "needs_background": "light"
     },
     "output_type": "display_data"
    }
   ],
   "source": [
    "import matplotlib.pyplot as plt\n",
    "from tensorflow.keras import models\n",
    "\n",
    "f, axarr = plt.subplots(3,4)\n",
    "\n",
    "FIRST_IMAGE=0\n",
    "SECOND_IMAGE=23\n",
    "THIRD_IMAGE=28\n",
    "CONVOLUTION_NUMBER = 1\n",
    "\n",
    "layer_outputs = [layer.output for layer in model.layers]\n",
    "activation_model = tf.keras.models.Model(inputs = model.input, outputs = layer_outputs)\n",
    "\n",
    "for x in range(0,4):\n",
    "  f1 = activation_model.predict(test_images[FIRST_IMAGE].reshape(1, 28, 28, 1))[x]\n",
    "  axarr[0,x].imshow(f1[0, : , :, CONVOLUTION_NUMBER], cmap='inferno')\n",
    "  axarr[0,x].grid(False)\n",
    "  \n",
    "  f2 = activation_model.predict(test_images[SECOND_IMAGE].reshape(1, 28, 28, 1))[x]\n",
    "  axarr[1,x].imshow(f2[0, : , :, CONVOLUTION_NUMBER], cmap='inferno')\n",
    "  axarr[1,x].grid(False)\n",
    "  \n",
    "  f3 = activation_model.predict(test_images[THIRD_IMAGE].reshape(1, 28, 28, 1))[x]\n",
    "  axarr[2,x].imshow(f3[0, : , :, CONVOLUTION_NUMBER], cmap='inferno')\n",
    "  axarr[2,x].grid(False)"
   ]
  },
  {
   "cell_type": "code",
   "execution_count": 62,
   "metadata": {},
   "outputs": [],
   "source": [
    "f5 = activation_model.predict(test_images[FIRST_IMAGE].reshape(1,28,28,1))[0]"
   ]
  },
  {
   "cell_type": "code",
   "execution_count": 73,
   "metadata": {},
   "outputs": [
    {
     "data": {
      "text/plain": [
       "<matplotlib.image.AxesImage at 0x1ea9dbc4370>"
      ]
     },
     "execution_count": 73,
     "metadata": {},
     "output_type": "execute_result"
    },
    {
     "data": {
      "image/png": "[encoded data removed]",
      "text/plain": [
       "<Figure size 432x288 with 1 Axes>"
      ]
     },
     "metadata": {
      "needs_background": "light"
     },
     "output_type": "display_data"
    }
   ],
   "source": [
    "plt.imshow(f5[0,:,:,1], cmap='inferno')"
   ]
  },
  {
   "cell_type": "code",
   "execution_count": 93,
   "metadata": {},
   "outputs": [],
   "source": [
    "for x in range(0,4):\n",
    "    f1 = activation_model.predict(test_images[FIRST_IMAGE].reshape(1,28,28,1))[x]\n",
    "    axarr[0,x].imshow(f1[0,:,:,CONVOLUTION_NUMBER], cmap='inferno')\n",
    "    axarr[0,x].grid(False)\n",
    "    \n",
    "    f2 = activation_model.predict(test_images[SECOND_IMAGE].reshape(1,28,28,1))[x]\n",
    "    axarr[1,x].imshow(f2[0,:,:,CONVOLUTION_NUMBER], cmap='inferno')\n",
    "    axarr[0,x].grid(False)\n",
    "    \n",
    "    f3 = activation_model.predict(test_images[THIRD_IMAGE].reshape(1,28,28,1))[x]\n",
    "    axarr[2,x].imshow(f3[0,:,:,CONVOLUTION_NUMBER], cmap='inferno')\n",
    "    axarr[0,x].grid(False)"
   ]
  },
  {
   "cell_type": "code",
   "execution_count": 94,
   "metadata": {},
   "outputs": [
    {
     "data": {
      "image/png": "[encoded data removed]",
      "text/plain": [
       "<Figure size 432x288 with 12 Axes>"
      ]
     },
     "execution_count": 94,
     "metadata": {},
     "output_type": "execute_result"
    }
   ],
   "source": [
    "f"
   ]
  },
  {
   "cell_type": "code",
   "execution_count": 86,
   "metadata": {},
   "outputs": [
    {
     "data": {
      "image/png": "[encoded data removed]",
      "text/plain": [
       "<Figure size 432x288 with 12 Axes>"
      ]
     },
     "execution_count": 86,
     "metadata": {},
     "output_type": "execute_result"
    }
   ],
   "source": [
    "f"
   ]
  },
  {
   "cell_type": "code",
   "execution_count": 88,
   "metadata": {},
   "outputs": [
    {
     "data": {
      "image/png": "[encoded data removed]",
      "text/plain": [
       "<Figure size 432x288 with 12 Axes>"
      ]
     },
     "execution_count": 88,
     "metadata": {},
     "output_type": "execute_result"
    }
   ],
   "source": [
    "f"
   ]
  },
  {
   "cell_type": "code",
   "execution_count": 77,
   "metadata": {},
   "outputs": [
    {
     "data": {
      "image/png": "[encoded data removed]",
      "text/plain": [
       "<Figure size 432x288 with 12 Axes>"
      ]
     },
     "metadata": {
      "needs_background": "light"
     },
     "output_type": "display_data"
    }
   ],
   "source": [
    "f, axarr = plt.subplots(3,4)\n",
    "\n",
    "FIRST_IMAGE = 0\n",
    "SECOND_IMAGE = 23\n",
    "THIRD_IMAGE = 28\n",
    "CONVOLUTION_NUMBER = 1\n"
   ]
  },
  {
   "cell_type": "code",
   "execution_count": 80,
   "metadata": {},
   "outputs": [
    {
     "data": {
      "image/png": "[encoded data removed]",
      "text/plain": [
       "<Figure size 432x288 with 12 Axes>"
      ]
     },
     "execution_count": 80,
     "metadata": {},
     "output_type": "execute_result"
    }
   ],
   "source": [
    "f"
   ]
  },
  {
   "cell_type": "markdown",
   "metadata": {
    "id": "8KVPZqgHo5Ux"
   },
   "source": [
    "### EXERCISES\n",
    "\n",
    "1. Try editing the convolutions. Change the 32s to either 16 or 64. What impact will this have on accuracy and/or training time.\n",
    "\n",
    "2. Remove the final Convolution. What impact will this have on accuracy or training time?\n",
    "\n",
    "3. How about adding more Convolutions? What impact do you think this will have? Experiment with it.\n",
    "\n",
    "4. Remove all Convolutions but the first. What impact do you think this will have? Experiment with it. \n",
    "\n",
    "5. In the previous lesson you implemented a callback to check on the loss function and to cancel training once it hit a certain amount. See if you can implement that here."
   ]
  },
  {
   "cell_type": "code",
   "execution_count": null,
   "metadata": {},
   "outputs": [],
   "source": []
  }
 ],
 "metadata": {
  "accelerator": "GPU",
  "colab": {
   "collapsed_sections": [],
   "name": "C1_W3_Lab_1_improving_accuracy_using_convolutions.ipynb",
   "private_outputs": true,
   "provenance": [
    {
     "file_id": "https://github.com/https-deeplearning-ai/tensorflow-1-public/blob/25_august_2021_fixes/C1/W3/ungraded_labs/C1_W3_Lab_1_improving_accuracy_using_convolutions.ipynb",
     "timestamp": 1638957936408
    }
   ],
   "toc_visible": true
  },
  "kernelspec": {
   "display_name": "Python 3 (ipykernel)",
   "language": "python",
   "name": "python3"
  },
  "language_info": {
   "codemirror_mode": {
    "name": "ipython",
    "version": 3
   },
   "file_extension": ".py",
   "mimetype": "text/x-python",
   "name": "python",
   "nbconvert_exporter": "python",
   "pygments_lexer": "ipython3",
   "version": "3.9.7"
  }
 },
 "nbformat": 4,
 "nbformat_minor": 1
}
