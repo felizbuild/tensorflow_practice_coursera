{
 "cells": [
  {
   "cell_type": "markdown",
   "metadata": {},
   "source": [
    "<a href=\"https://colab.research.google.com/github/https-deeplearning-ai/tensorflow-1-public/blob/master/C3/W2/ungraded_labs/C3_W2_Lab_2_sarcasm_classifier.ipynb\" target=\"_parent\"><img src=\"https://colab.research.google.com/assets/colab-badge.svg\" alt=\"Open In Colab\"/></a>"
   ]
  },
  {
   "cell_type": "markdown",
   "metadata": {
    "id": "ZfVtdwryvvP6"
   },
   "source": [
    "# Ungraded Lab: Training a binary classifier with the Sarcasm Dataset\n",
    "\n",
    "In this lab, you will revisit the [News Headlines Dataset for Sarcasm Detection](https://www.kaggle.com/rmisra/news-headlines-dataset-for-sarcasm-detection/home) from last week and proceed to build a train a model on it. The steps will be very similar to the previous lab with IMDB Reviews with just some minor modifications. You can tweak the hyperparameters and see how it affects the results. Let's begin!"
   ]
  },
  {
   "cell_type": "markdown",
   "metadata": {
    "id": "aWIM6gplHqfx"
   },
   "source": [
    "## Download the dataset\n",
    "\n",
    "You will first download the JSON file, load it into your workspace and put the sentences and labels into lists. "
   ]
  },
  {
   "cell_type": "code",
   "execution_count": 5,
   "metadata": {},
   "outputs": [
    {
     "name": "stderr",
     "output_type": "stream",
     "text": [
      "Downloading...\n",
      "From: https://storage.googleapis.com/tensorflow-1-public/course3/sarcasm.json\n",
      "To: C:\\Users\\felix\\OneDrive\\Desktop\\5_learn_Felix\\coursera\\Introduction_tensorflow\\material\\try\\sarcasm.json\n",
      "\n",
      "  0%|          | 0.00/5.64M [00:00<?, ?B/s]\n",
      " 84%|████████▎ | 4.72M/5.64M [00:00<00:00, 20.1MB/s]\n",
      "100%|██████████| 5.64M/5.64M [00:00<00:00, 22.6MB/s]\n"
     ]
    }
   ],
   "source": [
    "!gdown https://storage.googleapis.com/tensorflow-1-public/course3/sarcasm.json"
   ]
  },
  {
   "cell_type": "code",
   "execution_count": null,
   "metadata": {
    "id": "BQVuQrZNkPn9"
   },
   "outputs": [],
   "source": [
    "# Download the dataset\n",
    "!wget https://storage.googleapis.com/tensorflow-1-public/course3/sarcasm.json"
   ]
  },
  {
   "cell_type": "code",
   "execution_count": 89,
   "metadata": {},
   "outputs": [],
   "source": [
    "import json\n",
    "\n",
    "with open(\"./sarcasm.json\",\"r\") as f:\n",
    "    datastore = json.load(f)\n",
    "    \n",
    "sentences = []\n",
    "labels = []\n",
    "\n",
    "for item in datastore:\n",
    "    sentences.append(item['headline'])\n",
    "    labels.append(item['is_sarcastic'])\n",
    "    "
   ]
  },
  {
   "cell_type": "code",
   "execution_count": null,
   "metadata": {
    "id": "oaLaaqhNkUPd"
   },
   "outputs": [],
   "source": [
    "import json\n",
    "\n",
    "# Load the JSON file\n",
    "with open(\"./sarcasm.json\", 'r') as f:\n",
    "    datastore = json.load(f)\n",
    "\n",
    "# Initialize the lists\n",
    "sentences = []\n",
    "labels = []\n",
    "\n",
    "# Collect sentences and labels into the lists\n",
    "for item in datastore:\n",
    "    sentences.append(item['headline'])\n",
    "    labels.append(item['is_sarcastic'])"
   ]
  },
  {
   "cell_type": "markdown",
   "metadata": {
    "id": "kw1I6oNSfCxa"
   },
   "source": [
    "## Hyperparameters\n",
    "\n",
    "We placed the hyperparameters in the cell below so you can easily tweak it later:"
   ]
  },
  {
   "cell_type": "code",
   "execution_count": 91,
   "metadata": {},
   "outputs": [],
   "source": [
    "training_size = 20000\n",
    "num_words = 10000\n",
    "maxlen = 32\n",
    "embedding_dim = 16"
   ]
  },
  {
   "cell_type": "code",
   "execution_count": 90,
   "metadata": {
    "id": "wpF4x5olfHX-"
   },
   "outputs": [],
   "source": [
    "# Number of examples to use for training\n",
    "training_size = 20000\n",
    "\n",
    "# Vocabulary size of the tokenizer\n",
    "vocab_size = 10000\n",
    "\n",
    "# Maximum length of the padded sequences\n",
    "max_length = 32\n",
    "\n",
    "# Output dimensions of the Embedding layer\n",
    "embedding_dim = 16"
   ]
  },
  {
   "cell_type": "markdown",
   "metadata": {
    "id": "dHibcDI0H5Zj"
   },
   "source": [
    "## Split the dataset\n",
    "\n",
    "Next, you will generate your train and test datasets. You will use the `training_size` value you set above to slice the `sentences` and `labels` lists into two sublists: one fore training and another for testing."
   ]
  },
  {
   "cell_type": "code",
   "execution_count": 92,
   "metadata": {},
   "outputs": [],
   "source": [
    "training_sentences = sentences[0:training_size]\n",
    "testing_sentences = sentences[training_size:]\n",
    "\n",
    "training_labels = labels[0:training_size]\n",
    "testing_labels = labels[training_size:]"
   ]
  },
  {
   "cell_type": "code",
   "execution_count": null,
   "metadata": {
    "id": "S1sD-7v0kYWk"
   },
   "outputs": [],
   "source": [
    "# Split the sentences\n",
    "training_sentences = sentences[0:training_size]\n",
    "testing_sentences = sentences[training_size:]\n",
    "\n",
    "# Split the labels\n",
    "training_labels = labels[0:training_size]\n",
    "testing_labels = labels[training_size:]"
   ]
  },
  {
   "cell_type": "markdown",
   "metadata": {
    "id": "qciTzNR7IHzJ"
   },
   "source": [
    "## Preprocessing the train and test sets\n",
    "\n",
    "Now you can preprocess the text and labels so it can be consumed by the model. You use the `Tokenizer` class to create the vocabulary and the `pad_sequences` method to generate padded token sequences. You will also need to set the labels to a numpy array so it can be a valid data type for `model.fit()`."
   ]
  },
  {
   "cell_type": "code",
   "execution_count": null,
   "metadata": {},
   "outputs": [],
   "source": []
  },
  {
   "cell_type": "code",
   "execution_count": 93,
   "metadata": {
    "scrolled": true
   },
   "outputs": [],
   "source": [
    "import numpy as np\n",
    "from tensorflow.keras.preprocessing.text import Tokenizer\n",
    "from tensorflow.keras.preprocessing.sequence import pad_sequences\n",
    "\n",
    "truncating = \"post\"\n",
    "padding = \"post\"\n",
    "oov_token = \"<OOV>\"\n",
    "\n",
    "tokenizer = Tokenizer(num_words = num_words, oov_token = oov_token)\n",
    "\n",
    "tokenizer.fit_on_texts(training_sentences)\n",
    "word_index = tokenizer.word_index\n",
    "\n",
    "training_sequences = tokenizer.texts_to_sequences(training_sentences)\n",
    "training_padded = pad_sequences(training_sequences, maxlen = maxlen, padding = padding, truncating = truncating)\n",
    "\n",
    "testing_sequences  =  tokenizer.texts_to_sequences(testing_sentences)\n",
    "testing_padded = pad_sequences(testing_sequences, maxlen = maxlen, padding = padding, truncating = truncating)\n",
    "\n",
    "training_labels = np.array(training_labels)\n",
    "testing_labels = np.array(testing_labels)"
   ]
  },
  {
   "cell_type": "code",
   "execution_count": 11,
   "metadata": {
    "id": "3u8UB0MCkZ5N"
   },
   "outputs": [
    {
     "ename": "NameError",
     "evalue": "name 'training_labels' is not defined",
     "output_type": "error",
     "traceback": [
      "\u001b[1;31m---------------------------------------------------------------------------\u001b[0m",
      "\u001b[1;31mNameError\u001b[0m                                 Traceback (most recent call last)",
      "Input \u001b[1;32mIn [11]\u001b[0m, in \u001b[0;36m<cell line: 26>\u001b[1;34m()\u001b[0m\n\u001b[0;32m     23\u001b[0m testing_padded \u001b[38;5;241m=\u001b[39m pad_sequences(testing_sequences, maxlen\u001b[38;5;241m=\u001b[39mmax_length, padding\u001b[38;5;241m=\u001b[39mpadding_type, truncating\u001b[38;5;241m=\u001b[39mtrunc_type)\n\u001b[0;32m     25\u001b[0m \u001b[38;5;66;03m# Convert the labels lists into numpy arrays\u001b[39;00m\n\u001b[1;32m---> 26\u001b[0m training_labels \u001b[38;5;241m=\u001b[39m np\u001b[38;5;241m.\u001b[39marray(\u001b[43mtraining_labels\u001b[49m)\n\u001b[0;32m     27\u001b[0m testing_labels \u001b[38;5;241m=\u001b[39m np\u001b[38;5;241m.\u001b[39marray(testing_labels)\n",
      "\u001b[1;31mNameError\u001b[0m: name 'training_labels' is not defined"
     ]
    }
   ],
   "source": [
    "import numpy as np\n",
    "from tensorflow.keras.preprocessing.text import Tokenizer\n",
    "from tensorflow.keras.preprocessing.sequence import pad_sequences\n",
    "\n",
    "# Parameters for padding and OOV tokens\n",
    "trunc_type='post'\n",
    "padding_type='post'\n",
    "oov_tok = \"<OOV>\"\n",
    "\n",
    "# Initialize the Tokenizer class\n",
    "tokenizer = Tokenizer(num_words=vocab_size, oov_token=oov_tok)\n",
    "\n",
    "# Generate the word index dictionary\n",
    "tokenizer.fit_on_texts(training_sentences)\n",
    "word_index = tokenizer.word_index\n",
    "\n",
    "# Generate and pad the training sequences\n",
    "training_sequences = tokenizer.texts_to_sequences(training_sentences)\n",
    "training_padded = pad_sequences(training_sequences, maxlen=max_length, padding=padding_type, truncating=trunc_type)\n",
    "\n",
    "# Generate and pad the testing sequences\n",
    "testing_sequences = tokenizer.texts_to_sequences(testing_sentences)\n",
    "testing_padded = pad_sequences(testing_sequences, maxlen=max_length, padding=padding_type, truncating=trunc_type)\n",
    "\n",
    "# Convert the labels lists into numpy arrays\n",
    "training_labels = np.array(training_labels)\n",
    "testing_labels = np.array(testing_labels)"
   ]
  },
  {
   "cell_type": "markdown",
   "metadata": {
    "id": "AMF4afx2IdHo"
   },
   "source": [
    "## Build and Compile the Model\n",
    "\n",
    "Next, you will build the model. The architecture is similar to the previous lab but you will use a [GlobalAveragePooling1D](https://www.tensorflow.org/api_docs/python/tf/keras/layers/GlobalAveragePooling1D) layer instead of `Flatten` after the Embedding. This adds the task of averaging over the sequence dimension before connecting to the dense layers. See a short demo of how this works using the snippet below. Notice that it gets the average over 3 arrays (i.e. `(10 + 1 + 1) / 3` and `(2 + 3 + 1) / 3` to arrive at the final output."
   ]
  },
  {
   "cell_type": "code",
   "execution_count": 22,
   "metadata": {},
   "outputs": [
    {
     "name": "stdout",
     "output_type": "stream",
     "text": [
      "[[[10  2]\n",
      "  [ 1  3]\n",
      "  [ 1  1]]]\n"
     ]
    }
   ],
   "source": [
    "print(sample_array)"
   ]
  },
  {
   "cell_type": "code",
   "execution_count": 94,
   "metadata": {},
   "outputs": [],
   "source": [
    "import tensorflow as tf\n",
    "\n",
    "gap1d_layer = tf.keras.layers.GlobalAveragePooling1D()\n",
    "sample_array = np.array([[[10,2],[1,3],[1,1]]])"
   ]
  },
  {
   "cell_type": "code",
   "execution_count": 95,
   "metadata": {},
   "outputs": [],
   "source": [
    "output = gap1d_layer(sample_array)"
   ]
  },
  {
   "cell_type": "code",
   "execution_count": 25,
   "metadata": {},
   "outputs": [
    {
     "data": {
      "text/plain": [
       "<tf.Tensor: shape=(1, 2), dtype=int32, numpy=array([[4, 2]])>"
      ]
     },
     "execution_count": 25,
     "metadata": {},
     "output_type": "execute_result"
    }
   ],
   "source": [
    "output"
   ]
  },
  {
   "cell_type": "code",
   "execution_count": 96,
   "metadata": {
    "id": "7KDCvSc0kFOz"
   },
   "outputs": [
    {
     "name": "stdout",
     "output_type": "stream",
     "text": [
      "shape of sample_array = (1, 3, 2)\n",
      "sample array: [[[10  2]\n",
      "  [ 1  3]\n",
      "  [ 1  1]]]\n",
      "output shape of gap1d_layer: (1, 2)\n",
      "output array of gap1d_layer: [[4 2]]\n"
     ]
    }
   ],
   "source": [
    "import tensorflow as tf\n",
    "\n",
    "# Initialize a GlobalAveragePooling1D (GAP1D) layer\n",
    "gap1d_layer = tf.keras.layers.GlobalAveragePooling1D()\n",
    "\n",
    "# Define sample array\n",
    "sample_array = np.array([[[10,2],[1,3],[1,1]]])\n",
    "\n",
    "# Print shape and contents of sample array\n",
    "print(f'shape of sample_array = {sample_array.shape}')\n",
    "print(f'sample array: {sample_array}')\n",
    "\n",
    "# Pass the sample array to the GAP1D layer\n",
    "output = gap1d_layer(sample_array)\n",
    "\n",
    "# Print shape and contents of the GAP1D output array\n",
    "print(f'output shape of gap1d_layer: {output.shape}')\n",
    "print(f'output array of gap1d_layer: {output.numpy()}')"
   ]
  },
  {
   "cell_type": "markdown",
   "metadata": {
    "id": "evlU_kqOshc4"
   },
   "source": [
    "This added computation reduces the dimensionality of the model as compared to using `Flatten()` and thus, the number of training parameters will also decrease. See the output of `model.summary()` below and see how it compares if you swap out the pooling layer with a simple `Flatten()`."
   ]
  },
  {
   "cell_type": "code",
   "execution_count": 44,
   "metadata": {},
   "outputs": [
    {
     "name": "stdout",
     "output_type": "stream",
     "text": [
      "Model: \"sequential_7\"\n",
      "_________________________________________________________________\n",
      " Layer (type)                Output Shape              Param #   \n",
      "=================================================================\n",
      " embedding_8 (Embedding)     (None, 32, 16)            160000    \n",
      "                                                                 \n",
      " flatten_4 (Flatten)         (None, 512)               0         \n",
      "                                                                 \n",
      " dense_14 (Dense)            (None, 24)                12312     \n",
      "                                                                 \n",
      " dense_15 (Dense)            (None, 1)                 25        \n",
      "                                                                 \n",
      "=================================================================\n",
      "Total params: 172,337\n",
      "Trainable params: 172,337\n",
      "Non-trainable params: 0\n",
      "_________________________________________________________________\n"
     ]
    }
   ],
   "source": [
    "model2 = tf.keras.Sequential([\n",
    "    tf.keras.layers.Embedding(vocab_size, embedding_dim, input_length = max_length),\n",
    "    tf.keras.layers.Flatten(),\n",
    "    tf.keras.layers.Dense(24,activation = \"relu\"),\n",
    "    tf.keras.layers.Dense(1,activation = \"sigmoid\")\n",
    "])\n",
    "\n",
    "model2.summary()"
   ]
  },
  {
   "cell_type": "code",
   "execution_count": 97,
   "metadata": {},
   "outputs": [
    {
     "name": "stdout",
     "output_type": "stream",
     "text": [
      "Model: \"sequential_8\"\n",
      "_________________________________________________________________\n",
      " Layer (type)                Output Shape              Param #   \n",
      "=================================================================\n",
      " embedding_9 (Embedding)     (None, 32, 16)            160000    \n",
      "                                                                 \n",
      " global_average_pooling1d_6   (None, 16)               0         \n",
      " (GlobalAveragePooling1D)                                        \n",
      "                                                                 \n",
      " dense_16 (Dense)            (None, 24)                408       \n",
      "                                                                 \n",
      " dense_17 (Dense)            (None, 1)                 25        \n",
      "                                                                 \n",
      "=================================================================\n",
      "Total params: 160,433\n",
      "Trainable params: 160,433\n",
      "Non-trainable params: 0\n",
      "_________________________________________________________________\n"
     ]
    }
   ],
   "source": [
    "model = tf.keras.Sequential([\n",
    "    tf.keras.layers.Embedding(vocab_size, embedding_dim, input_length = max_length),\n",
    "    tf.keras.layers.GlobalAveragePooling1D(),\n",
    "    tf.keras.layers.Dense(24,activation = \"relu\"),\n",
    "    tf.keras.layers.Dense(1,activation = \"sigmoid\")\n",
    "])\n",
    "\n",
    "model.summary()"
   ]
  },
  {
   "cell_type": "code",
   "execution_count": 43,
   "metadata": {
    "id": "FufaT4vlkiDE"
   },
   "outputs": [
    {
     "name": "stdout",
     "output_type": "stream",
     "text": [
      "Model: \"sequential_6\"\n",
      "_________________________________________________________________\n",
      " Layer (type)                Output Shape              Param #   \n",
      "=================================================================\n",
      " embedding_7 (Embedding)     (None, 32, 16)            160000    \n",
      "                                                                 \n",
      " global_average_pooling1d_3   (None, 16)               0         \n",
      " (GlobalAveragePooling1D)                                        \n",
      "                                                                 \n",
      " dense_12 (Dense)            (None, 24)                408       \n",
      "                                                                 \n",
      " dense_13 (Dense)            (None, 1)                 25        \n",
      "                                                                 \n",
      "=================================================================\n",
      "Total params: 160,433\n",
      "Trainable params: 160,433\n",
      "Non-trainable params: 0\n",
      "_________________________________________________________________\n"
     ]
    }
   ],
   "source": [
    "# Build the model\n",
    "model = tf.keras.Sequential([\n",
    "    tf.keras.layers.Embedding(vocab_size, embedding_dim, input_length=max_length),\n",
    "    tf.keras.layers.GlobalAveragePooling1D(),\n",
    "    tf.keras.layers.Dense(24, activation='relu'),\n",
    "    tf.keras.layers.Dense(1, activation='sigmoid')\n",
    "])\n",
    "\n",
    "# Print the model summary\n",
    "model.summary()"
   ]
  },
  {
   "cell_type": "markdown",
   "metadata": {
    "id": "GMxT5NzKtRgr"
   },
   "source": [
    "You will use the same loss, optimizer, and metrics from the previous lab."
   ]
  },
  {
   "cell_type": "code",
   "execution_count": 98,
   "metadata": {},
   "outputs": [],
   "source": [
    "model.compile(loss='binary_crossentropy',\n",
    "              optimizer='adam', \n",
    "              metrics = ['accuracy'])"
   ]
  },
  {
   "cell_type": "code",
   "execution_count": null,
   "metadata": {
    "id": "XfDt1hmYkiys"
   },
   "outputs": [],
   "source": [
    "# Compile the model\n",
    "model.compile(loss='binary_crossentropy',optimizer='adam',metrics=['accuracy'])"
   ]
  },
  {
   "cell_type": "markdown",
   "metadata": {
    "id": "Axtd-WQAJIUK"
   },
   "source": [
    "## Train the Model\n",
    "\n",
    "Now you will feed in the prepared datasets to train the model. If you used the default hyperparameters, you will get around 99% training accuracy and 80% validation accuracy.\n",
    "\n",
    "*Tip: You can set the `verbose` parameter of `model.fit()` to `2` to indicate that you want to print just the results per epoch. Setting it to `1` (default) displays a progress bar per epoch, while `0` silences all displays. It doesn't matter much in this Colab but when working in a production environment, you may want to set this to `2` as recommended in the [documentation](https://keras.io/api/models/model_training_apis/#fit-method).*"
   ]
  },
  {
   "cell_type": "code",
   "execution_count": 46,
   "metadata": {},
   "outputs": [],
   "source": [
    "# Compile the model\n",
    "model2.compile(loss='binary_crossentropy',optimizer='adam',metrics=['accuracy'])"
   ]
  },
  {
   "cell_type": "code",
   "execution_count": 47,
   "metadata": {},
   "outputs": [
    {
     "name": "stdout",
     "output_type": "stream",
     "text": [
      "Epoch 1/30\n",
      "625/625 [==============================] - 1s 1ms/step - loss: 0.4242 - accuracy: 0.7898 - val_loss: 0.3142 - val_accuracy: 0.8606\n",
      "Epoch 2/30\n",
      "625/625 [==============================] - 1s 1ms/step - loss: 0.1839 - accuracy: 0.9298 - val_loss: 0.3289 - val_accuracy: 0.8593\n",
      "Epoch 3/30\n",
      "625/625 [==============================] - 1s 1ms/step - loss: 0.0760 - accuracy: 0.9758 - val_loss: 0.3998 - val_accuracy: 0.8569\n",
      "Epoch 4/30\n",
      "625/625 [==============================] - 1s 1ms/step - loss: 0.0254 - accuracy: 0.9944 - val_loss: 0.4894 - val_accuracy: 0.8521\n",
      "Epoch 5/30\n",
      "625/625 [==============================] - 1s 1ms/step - loss: 0.0084 - accuracy: 0.9988 - val_loss: 0.5581 - val_accuracy: 0.8515\n",
      "Epoch 6/30\n",
      "625/625 [==============================] - 1s 1ms/step - loss: 0.0036 - accuracy: 0.9993 - val_loss: 0.6141 - val_accuracy: 0.8518\n",
      "Epoch 7/30\n",
      "625/625 [==============================] - 1s 1ms/step - loss: 0.0023 - accuracy: 0.9995 - val_loss: 0.6649 - val_accuracy: 0.8483\n",
      "Epoch 8/30\n",
      "625/625 [==============================] - 1s 1ms/step - loss: 0.0019 - accuracy: 0.9996 - val_loss: 0.6995 - val_accuracy: 0.8495\n",
      "Epoch 9/30\n",
      "625/625 [==============================] - 1s 1ms/step - loss: 0.0017 - accuracy: 0.9994 - val_loss: 0.7315 - val_accuracy: 0.8454\n",
      "Epoch 10/30\n",
      "625/625 [==============================] - 1s 1ms/step - loss: 0.0011 - accuracy: 0.9997 - val_loss: 0.7829 - val_accuracy: 0.8451\n",
      "Epoch 11/30\n",
      "625/625 [==============================] - 1s 1ms/step - loss: 0.0012 - accuracy: 0.9995 - val_loss: 0.8298 - val_accuracy: 0.8395\n",
      "Epoch 12/30\n",
      "625/625 [==============================] - 1s 1ms/step - loss: 0.0013 - accuracy: 0.9996 - val_loss: 0.8293 - val_accuracy: 0.8439\n",
      "Epoch 13/30\n",
      "625/625 [==============================] - 1s 1ms/step - loss: 0.0010 - accuracy: 0.9997 - val_loss: 0.8440 - val_accuracy: 0.8420\n",
      "Epoch 14/30\n",
      "625/625 [==============================] - 1s 1ms/step - loss: 9.6484e-04 - accuracy: 0.9997 - val_loss: 0.8557 - val_accuracy: 0.8422\n",
      "Epoch 15/30\n",
      "625/625 [==============================] - 1s 1ms/step - loss: 0.0012 - accuracy: 0.9995 - val_loss: 0.8906 - val_accuracy: 0.8396\n",
      "Epoch 16/30\n",
      "625/625 [==============================] - 1s 1ms/step - loss: 0.0010 - accuracy: 0.9996 - val_loss: 0.8786 - val_accuracy: 0.8411\n",
      "Epoch 17/30\n",
      "625/625 [==============================] - 1s 1ms/step - loss: 8.4437e-04 - accuracy: 0.9997 - val_loss: 0.9027 - val_accuracy: 0.8408\n",
      "Epoch 18/30\n",
      "625/625 [==============================] - 1s 1ms/step - loss: 7.9119e-04 - accuracy: 0.9997 - val_loss: 0.9400 - val_accuracy: 0.8402\n",
      "Epoch 19/30\n",
      "625/625 [==============================] - 1s 1ms/step - loss: 9.1347e-04 - accuracy: 0.9997 - val_loss: 0.9375 - val_accuracy: 0.8307\n",
      "Epoch 20/30\n",
      "625/625 [==============================] - 1s 1ms/step - loss: 8.8895e-04 - accuracy: 0.9996 - val_loss: 0.9514 - val_accuracy: 0.8328\n",
      "Epoch 21/30\n",
      "625/625 [==============================] - 1s 1ms/step - loss: 7.4088e-04 - accuracy: 0.9997 - val_loss: 0.9957 - val_accuracy: 0.8357\n",
      "Epoch 22/30\n",
      "625/625 [==============================] - 1s 1ms/step - loss: 6.8031e-04 - accuracy: 0.9997 - val_loss: 1.0090 - val_accuracy: 0.8340\n",
      "Epoch 23/30\n",
      "625/625 [==============================] - 1s 1ms/step - loss: 7.8834e-04 - accuracy: 0.9997 - val_loss: 1.0389 - val_accuracy: 0.8374\n",
      "Epoch 24/30\n",
      "625/625 [==============================] - 1s 1ms/step - loss: 6.9385e-04 - accuracy: 0.9996 - val_loss: 1.0638 - val_accuracy: 0.8334\n",
      "Epoch 25/30\n",
      "625/625 [==============================] - 1s 1ms/step - loss: 7.3724e-04 - accuracy: 0.9997 - val_loss: 1.0132 - val_accuracy: 0.8287\n",
      "Epoch 26/30\n",
      "625/625 [==============================] - 1s 1ms/step - loss: 4.6538e-04 - accuracy: 0.9998 - val_loss: 1.1451 - val_accuracy: 0.8346\n",
      "Epoch 27/30\n",
      "625/625 [==============================] - 1s 1ms/step - loss: 6.5521e-04 - accuracy: 0.9997 - val_loss: 1.1929 - val_accuracy: 0.8186\n",
      "Epoch 28/30\n",
      "625/625 [==============================] - 1s 1ms/step - loss: 5.6066e-04 - accuracy: 0.9998 - val_loss: 1.1555 - val_accuracy: 0.8293\n",
      "Epoch 29/30\n",
      "625/625 [==============================] - 1s 1ms/step - loss: 6.0045e-04 - accuracy: 0.9997 - val_loss: 1.2036 - val_accuracy: 0.8182\n",
      "Epoch 30/30\n",
      "625/625 [==============================] - 1s 1ms/step - loss: 4.8356e-04 - accuracy: 0.9998 - val_loss: 1.2166 - val_accuracy: 0.8231\n"
     ]
    }
   ],
   "source": [
    "num_epochs =30\n",
    "history2 = model2.fit(training_padded, training_labels, epochs=num_epochs, validation_data = (testing_padded,testing_labels),verbose = 1)"
   ]
  },
  {
   "cell_type": "code",
   "execution_count": 9,
   "metadata": {},
   "outputs": [],
   "source": [
    "#test parameters\n",
    "\n",
    "import json\n",
    "import tensorflow as tf\n",
    "import numpy as np\n",
    "from tensorflow.keras.preprocessing.text import Tokenizer\n",
    "from tensorflow.keras.preprocessing.sequence import pad_sequences\n",
    "import matplotlib.pyplot as plt\n",
    "\n",
    "\n",
    "\n",
    "\n",
    "with open(\"./sarcasm.json\",\"r\") as f:\n",
    "    datastore = json.load(f)\n",
    "    \n",
    "sentences = []\n",
    "labels = []\n",
    "\n",
    "for item in datastore:\n",
    "    sentences.append(item['headline'])\n",
    "    labels.append(item['is_sarcastic'])\n",
    "    \n",
    "\n",
    "    \n",
    "def plot_graphs(history,string):\n",
    "    plt.plot(history.history[string])\n",
    "    plt.plot(history.history['val_'+string])\n",
    "    plt.xlabel(\"Epochs\")\n",
    "    plt.ylabel(string)\n",
    "    plt.legend([string, 'val_'+string])\n",
    "    plt.show()\n",
    "    \n",
    "\n",
    "    \n",
    "\n",
    "def evaluate_model(training_size, vocab_size, max_length, embedding_dim):\n",
    "    training_sentences = sentences[0:training_size]\n",
    "    testing_sentences = sentences[training_size:]\n",
    "\n",
    "    training_labels = labels[0:training_size]\n",
    "    testing_labels = labels[training_size:]\n",
    "\n",
    "    # Parameters for padding and OOV tokens\n",
    "    trunc_type='post'\n",
    "    padding_type='post'\n",
    "    oov_tok = \"<OOV>\"\n",
    "\n",
    "    # Initialize the Tokenizer class\n",
    "    tokenizer = Tokenizer(num_words=vocab_size, oov_token=oov_tok)\n",
    "\n",
    "    # Generate the word index dictionary\n",
    "    tokenizer.fit_on_texts(training_sentences)\n",
    "    word_index = tokenizer.word_index\n",
    "\n",
    "    # Generate and pad the training sequences\n",
    "    training_sequences = tokenizer.texts_to_sequences(training_sentences)\n",
    "    training_padded = pad_sequences(training_sequences, maxlen=max_length, padding=padding_type, truncating=trunc_type)\n",
    "\n",
    "    # Generate and pad the testing sequences\n",
    "    testing_sequences = tokenizer.texts_to_sequences(testing_sentences)\n",
    "    testing_padded = pad_sequences(testing_sequences, maxlen=max_length, padding=padding_type, truncating=trunc_type)\n",
    "\n",
    "    # Convert the labels lists into numpy arrays\n",
    "    training_labels = np.array(training_labels)\n",
    "    testing_labels = np.array(testing_labels)\n",
    "    \n",
    "    \n",
    "    model = tf.keras.Sequential([\n",
    "    tf.keras.layers.Embedding(vocab_size, embedding_dim, input_length=max_length),\n",
    "    tf.keras.layers.GlobalAveragePooling1D(),\n",
    "    tf.keras.layers.Dense(24, activation='relu'),\n",
    "    tf.keras.layers.Dense(1, activation='sigmoid')\n",
    "    ])\n",
    "\n",
    "    model.compile(loss='binary_crossentropy',\n",
    "              optimizer='adam', \n",
    "              metrics = ['accuracy'])\n",
    "    \n",
    "    num_epochs =30\n",
    "    history = model.fit(training_padded, training_labels, epochs=num_epochs, validation_data = (testing_padded,testing_labels),verbose = 2)\n",
    "    \n",
    "    plot_graphs(history,\"accuracy\")\n",
    "    plot_graphs(history,\"loss\")\n",
    "    \n",
    "    "
   ]
  },
  {
   "cell_type": "code",
   "execution_count": 16,
   "metadata": {},
   "outputs": [
    {
     "name": "stdout",
     "output_type": "stream",
     "text": [
      "Epoch 1/30\n",
      "625/625 - 1s - loss: 0.5715 - accuracy: 0.6998 - val_loss: 0.4209 - val_accuracy: 0.8061 - 898ms/epoch - 1ms/step\n",
      "Epoch 2/30\n",
      "625/625 - 1s - loss: 0.3233 - accuracy: 0.8709 - val_loss: 0.3518 - val_accuracy: 0.8514 - 598ms/epoch - 957us/step\n",
      "Epoch 3/30\n",
      "625/625 - 1s - loss: 0.2423 - accuracy: 0.9046 - val_loss: 0.3430 - val_accuracy: 0.8568 - 607ms/epoch - 972us/step\n",
      "Epoch 4/30\n",
      "625/625 - 1s - loss: 0.1954 - accuracy: 0.9253 - val_loss: 0.3573 - val_accuracy: 0.8529 - 607ms/epoch - 970us/step\n",
      "Epoch 5/30\n",
      "625/625 - 1s - loss: 0.1638 - accuracy: 0.9394 - val_loss: 0.3831 - val_accuracy: 0.8518 - 602ms/epoch - 963us/step\n",
      "Epoch 6/30\n",
      "625/625 - 1s - loss: 0.1393 - accuracy: 0.9495 - val_loss: 0.4183 - val_accuracy: 0.8463 - 600ms/epoch - 960us/step\n",
      "Epoch 7/30\n",
      "625/625 - 1s - loss: 0.1204 - accuracy: 0.9586 - val_loss: 0.4442 - val_accuracy: 0.8474 - 603ms/epoch - 964us/step\n",
      "Epoch 8/30\n",
      "625/625 - 1s - loss: 0.1049 - accuracy: 0.9645 - val_loss: 0.4807 - val_accuracy: 0.8430 - 606ms/epoch - 970us/step\n",
      "Epoch 9/30\n",
      "625/625 - 1s - loss: 0.0906 - accuracy: 0.9706 - val_loss: 0.5216 - val_accuracy: 0.8392 - 613ms/epoch - 980us/step\n",
      "Epoch 10/30\n",
      "625/625 - 1s - loss: 0.0801 - accuracy: 0.9742 - val_loss: 0.5770 - val_accuracy: 0.8348 - 578ms/epoch - 924us/step\n",
      "Epoch 11/30\n",
      "625/625 - 1s - loss: 0.0704 - accuracy: 0.9781 - val_loss: 0.6158 - val_accuracy: 0.8314 - 562ms/epoch - 899us/step\n",
      "Epoch 12/30\n",
      "625/625 - 1s - loss: 0.0622 - accuracy: 0.9801 - val_loss: 0.6728 - val_accuracy: 0.8287 - 583ms/epoch - 933us/step\n",
      "Epoch 13/30\n",
      "625/625 - 1s - loss: 0.0545 - accuracy: 0.9840 - val_loss: 0.7162 - val_accuracy: 0.8249 - 565ms/epoch - 904us/step\n",
      "Epoch 14/30\n",
      "625/625 - 1s - loss: 0.0480 - accuracy: 0.9862 - val_loss: 0.7990 - val_accuracy: 0.8192 - 561ms/epoch - 898us/step\n",
      "Epoch 15/30\n",
      "625/625 - 1s - loss: 0.0426 - accuracy: 0.9880 - val_loss: 0.8143 - val_accuracy: 0.8185 - 542ms/epoch - 867us/step\n",
      "Epoch 16/30\n",
      "625/625 - 1s - loss: 0.0371 - accuracy: 0.9893 - val_loss: 0.8960 - val_accuracy: 0.8168 - 563ms/epoch - 901us/step\n",
      "Epoch 17/30\n",
      "625/625 - 1s - loss: 0.0331 - accuracy: 0.9909 - val_loss: 0.9290 - val_accuracy: 0.8161 - 585ms/epoch - 936us/step\n",
      "Epoch 18/30\n",
      "625/625 - 1s - loss: 0.0290 - accuracy: 0.9920 - val_loss: 1.0055 - val_accuracy: 0.8150 - 603ms/epoch - 965us/step\n",
      "Epoch 19/30\n",
      "625/625 - 1s - loss: 0.0267 - accuracy: 0.9923 - val_loss: 1.0432 - val_accuracy: 0.8132 - 574ms/epoch - 918us/step\n",
      "Epoch 20/30\n",
      "625/625 - 1s - loss: 0.0239 - accuracy: 0.9931 - val_loss: 1.1412 - val_accuracy: 0.8114 - 580ms/epoch - 929us/step\n",
      "Epoch 21/30\n",
      "625/625 - 1s - loss: 0.0221 - accuracy: 0.9938 - val_loss: 1.1799 - val_accuracy: 0.8140 - 584ms/epoch - 934us/step\n",
      "Epoch 22/30\n",
      "625/625 - 1s - loss: 0.0197 - accuracy: 0.9952 - val_loss: 1.2435 - val_accuracy: 0.8104 - 581ms/epoch - 930us/step\n",
      "Epoch 23/30\n",
      "625/625 - 1s - loss: 0.0169 - accuracy: 0.9958 - val_loss: 1.3376 - val_accuracy: 0.8103 - 572ms/epoch - 915us/step\n",
      "Epoch 24/30\n",
      "625/625 - 1s - loss: 0.0162 - accuracy: 0.9955 - val_loss: 1.3665 - val_accuracy: 0.8070 - 578ms/epoch - 925us/step\n",
      "Epoch 25/30\n",
      "625/625 - 1s - loss: 0.0142 - accuracy: 0.9966 - val_loss: 1.3710 - val_accuracy: 0.8079 - 588ms/epoch - 941us/step\n",
      "Epoch 26/30\n",
      "625/625 - 1s - loss: 0.0135 - accuracy: 0.9965 - val_loss: 1.4290 - val_accuracy: 0.8071 - 590ms/epoch - 944us/step\n",
      "Epoch 27/30\n",
      "625/625 - 1s - loss: 0.0134 - accuracy: 0.9963 - val_loss: 1.4487 - val_accuracy: 0.8037 - 591ms/epoch - 946us/step\n",
      "Epoch 28/30\n",
      "625/625 - 1s - loss: 0.0111 - accuracy: 0.9973 - val_loss: 1.5206 - val_accuracy: 0.8028 - 586ms/epoch - 938us/step\n",
      "Epoch 29/30\n",
      "625/625 - 1s - loss: 0.0097 - accuracy: 0.9980 - val_loss: 1.5891 - val_accuracy: 0.8038 - 587ms/epoch - 939us/step\n",
      "Epoch 30/30\n",
      "625/625 - 1s - loss: 0.0092 - accuracy: 0.9977 - val_loss: 1.7287 - val_accuracy: 0.8041 - 581ms/epoch - 930us/step\n"
     ]
    },
    {
     "data": {
      "image/png": "[encoded data removed]",
      "text/plain": [
       "<Figure size 432x288 with 1 Axes>"
      ]
     },
     "metadata": {
      "needs_background": "light"
     },
     "output_type": "display_data"
    },
    {
     "data": {
      "image/png": "[encoded data removed]",
      "text/plain": [
       "<Figure size 432x288 with 1 Axes>"
      ]
     },
     "metadata": {
      "needs_background": "light"
     },
     "output_type": "display_data"
    }
   ],
   "source": [
    "#case1 original\n",
    "training_size = 20000\n",
    "num_words = 10000\n",
    "maxlen = 32\n",
    "embedding_dim = 16\n",
    "\n",
    "evaluate_model(training_size, num_words, maxlen, embedding_dim)"
   ]
  },
  {
   "cell_type": "code",
   "execution_count": 11,
   "metadata": {},
   "outputs": [
    {
     "name": "stdout",
     "output_type": "stream",
     "text": [
      "Epoch 1/30\n",
      "625/625 - 1s - loss: 0.5771 - accuracy: 0.6977 - val_loss: 0.4356 - val_accuracy: 0.8044 - 728ms/epoch - 1ms/step\n",
      "Epoch 2/30\n",
      "625/625 - 0s - loss: 0.3944 - accuracy: 0.8212 - val_loss: 0.4019 - val_accuracy: 0.8158 - 421ms/epoch - 674us/step\n",
      "Epoch 3/30\n",
      "625/625 - 0s - loss: 0.3687 - accuracy: 0.8303 - val_loss: 0.4098 - val_accuracy: 0.8134 - 423ms/epoch - 677us/step\n",
      "Epoch 4/30\n",
      "625/625 - 0s - loss: 0.3599 - accuracy: 0.8372 - val_loss: 0.3990 - val_accuracy: 0.8152 - 420ms/epoch - 672us/step\n",
      "Epoch 5/30\n",
      "625/625 - 0s - loss: 0.3559 - accuracy: 0.8378 - val_loss: 0.4018 - val_accuracy: 0.8143 - 426ms/epoch - 682us/step\n",
      "Epoch 6/30\n",
      "625/625 - 0s - loss: 0.3534 - accuracy: 0.8373 - val_loss: 0.4077 - val_accuracy: 0.8132 - 408ms/epoch - 653us/step\n",
      "Epoch 7/30\n",
      "625/625 - 0s - loss: 0.3512 - accuracy: 0.8410 - val_loss: 0.4058 - val_accuracy: 0.8101 - 413ms/epoch - 661us/step\n",
      "Epoch 8/30\n",
      "625/625 - 0s - loss: 0.3499 - accuracy: 0.8418 - val_loss: 0.4135 - val_accuracy: 0.8098 - 418ms/epoch - 669us/step\n",
      "Epoch 9/30\n",
      "625/625 - 0s - loss: 0.3500 - accuracy: 0.8396 - val_loss: 0.4159 - val_accuracy: 0.8041 - 419ms/epoch - 670us/step\n",
      "Epoch 10/30\n",
      "625/625 - 0s - loss: 0.3495 - accuracy: 0.8438 - val_loss: 0.4064 - val_accuracy: 0.8111 - 416ms/epoch - 666us/step\n",
      "Epoch 11/30\n",
      "625/625 - 0s - loss: 0.3480 - accuracy: 0.8426 - val_loss: 0.4067 - val_accuracy: 0.8110 - 419ms/epoch - 670us/step\n",
      "Epoch 12/30\n",
      "625/625 - 0s - loss: 0.3470 - accuracy: 0.8443 - val_loss: 0.4091 - val_accuracy: 0.8111 - 418ms/epoch - 669us/step\n",
      "Epoch 13/30\n",
      "625/625 - 0s - loss: 0.3474 - accuracy: 0.8421 - val_loss: 0.4080 - val_accuracy: 0.8111 - 434ms/epoch - 694us/step\n",
      "Epoch 14/30\n",
      "625/625 - 0s - loss: 0.3473 - accuracy: 0.8421 - val_loss: 0.4145 - val_accuracy: 0.8074 - 466ms/epoch - 746us/step\n",
      "Epoch 15/30\n",
      "625/625 - 0s - loss: 0.3475 - accuracy: 0.8411 - val_loss: 0.4130 - val_accuracy: 0.8076 - 441ms/epoch - 706us/step\n",
      "Epoch 16/30\n",
      "625/625 - 0s - loss: 0.3463 - accuracy: 0.8434 - val_loss: 0.4175 - val_accuracy: 0.8064 - 429ms/epoch - 686us/step\n",
      "Epoch 17/30\n",
      "625/625 - 0s - loss: 0.3464 - accuracy: 0.8425 - val_loss: 0.4129 - val_accuracy: 0.8104 - 417ms/epoch - 667us/step\n",
      "Epoch 18/30\n",
      "625/625 - 0s - loss: 0.3463 - accuracy: 0.8422 - val_loss: 0.4099 - val_accuracy: 0.8101 - 418ms/epoch - 669us/step\n",
      "Epoch 19/30\n",
      "625/625 - 0s - loss: 0.3459 - accuracy: 0.8419 - val_loss: 0.4148 - val_accuracy: 0.8071 - 419ms/epoch - 670us/step\n",
      "Epoch 20/30\n",
      "625/625 - 0s - loss: 0.3456 - accuracy: 0.8439 - val_loss: 0.4110 - val_accuracy: 0.8101 - 429ms/epoch - 686us/step\n",
      "Epoch 21/30\n",
      "625/625 - 0s - loss: 0.3450 - accuracy: 0.8441 - val_loss: 0.4096 - val_accuracy: 0.8113 - 429ms/epoch - 687us/step\n",
      "Epoch 22/30\n",
      "625/625 - 0s - loss: 0.3442 - accuracy: 0.8419 - val_loss: 0.4078 - val_accuracy: 0.8111 - 417ms/epoch - 667us/step\n",
      "Epoch 23/30\n",
      "625/625 - 0s - loss: 0.3441 - accuracy: 0.8421 - val_loss: 0.4109 - val_accuracy: 0.8092 - 419ms/epoch - 670us/step\n",
      "Epoch 24/30\n",
      "625/625 - 0s - loss: 0.3433 - accuracy: 0.8440 - val_loss: 0.4060 - val_accuracy: 0.8126 - 422ms/epoch - 675us/step\n",
      "Epoch 25/30\n",
      "625/625 - 0s - loss: 0.3423 - accuracy: 0.8433 - val_loss: 0.4060 - val_accuracy: 0.8122 - 422ms/epoch - 675us/step\n",
      "Epoch 26/30\n",
      "625/625 - 0s - loss: 0.3409 - accuracy: 0.8471 - val_loss: 0.4084 - val_accuracy: 0.8137 - 419ms/epoch - 670us/step\n",
      "Epoch 27/30\n",
      "625/625 - 0s - loss: 0.3393 - accuracy: 0.8467 - val_loss: 0.4176 - val_accuracy: 0.8027 - 429ms/epoch - 686us/step\n",
      "Epoch 28/30\n",
      "625/625 - 0s - loss: 0.3391 - accuracy: 0.8443 - val_loss: 0.4013 - val_accuracy: 0.8140 - 404ms/epoch - 646us/step\n",
      "Epoch 29/30\n",
      "625/625 - 0s - loss: 0.3368 - accuracy: 0.8478 - val_loss: 0.4014 - val_accuracy: 0.8144 - 417ms/epoch - 667us/step\n",
      "Epoch 30/30\n",
      "625/625 - 0s - loss: 0.3345 - accuracy: 0.8475 - val_loss: 0.4015 - val_accuracy: 0.8150 - 423ms/epoch - 677us/step\n"
     ]
    },
    {
     "data": {
      "image/png": "[encoded data removed]",
      "text/plain": [
       "<Figure size 432x288 with 1 Axes>"
      ]
     },
     "metadata": {
      "needs_background": "light"
     },
     "output_type": "display_data"
    },
    {
     "data": {
      "image/png": "[encoded data removed]",
      "text/plain": [
       "<Figure size 432x288 with 1 Axes>"
      ]
     },
     "metadata": {
      "needs_background": "light"
     },
     "output_type": "display_data"
    }
   ],
   "source": [
    "#case2a decrease num_words\n",
    "training_size = 20000\n",
    "num_words = 1000       #10000->1000\n",
    "maxlen = 32  \n",
    "embedding_dim = 16\n",
    "\n",
    "evaluate_model(training_size, num_words, maxlen, embedding_dim)\n",
    "\n"
   ]
  },
  {
   "cell_type": "code",
   "execution_count": 18,
   "metadata": {},
   "outputs": [
    {
     "name": "stdout",
     "output_type": "stream",
     "text": [
      "Epoch 1/30\n",
      "625/625 - 1s - loss: 0.5814 - accuracy: 0.6813 - val_loss: 0.4566 - val_accuracy: 0.7848 - 684ms/epoch - 1ms/step\n",
      "Epoch 2/30\n",
      "625/625 - 0s - loss: 0.4280 - accuracy: 0.7976 - val_loss: 0.4443 - val_accuracy: 0.7854 - 405ms/epoch - 648us/step\n",
      "Epoch 3/30\n",
      "625/625 - 0s - loss: 0.4134 - accuracy: 0.8047 - val_loss: 0.4326 - val_accuracy: 0.7927 - 411ms/epoch - 657us/step\n",
      "Epoch 4/30\n",
      "625/625 - 0s - loss: 0.4081 - accuracy: 0.8083 - val_loss: 0.4329 - val_accuracy: 0.7958 - 409ms/epoch - 654us/step\n",
      "Epoch 5/30\n",
      "625/625 - 0s - loss: 0.4067 - accuracy: 0.8073 - val_loss: 0.4317 - val_accuracy: 0.7915 - 407ms/epoch - 651us/step\n",
      "Epoch 6/30\n",
      "625/625 - 0s - loss: 0.4052 - accuracy: 0.8070 - val_loss: 0.4332 - val_accuracy: 0.7866 - 392ms/epoch - 627us/step\n",
      "Epoch 7/30\n",
      "625/625 - 0s - loss: 0.4051 - accuracy: 0.8072 - val_loss: 0.4322 - val_accuracy: 0.7882 - 402ms/epoch - 643us/step\n",
      "Epoch 8/30\n",
      "625/625 - 0s - loss: 0.4040 - accuracy: 0.8094 - val_loss: 0.4345 - val_accuracy: 0.7946 - 406ms/epoch - 650us/step\n",
      "Epoch 9/30\n",
      "625/625 - 0s - loss: 0.4033 - accuracy: 0.8086 - val_loss: 0.4323 - val_accuracy: 0.7898 - 409ms/epoch - 654us/step\n",
      "Epoch 10/30\n",
      "625/625 - 0s - loss: 0.4029 - accuracy: 0.8095 - val_loss: 0.4331 - val_accuracy: 0.7874 - 403ms/epoch - 645us/step\n",
      "Epoch 11/30\n",
      "625/625 - 0s - loss: 0.4018 - accuracy: 0.8090 - val_loss: 0.4308 - val_accuracy: 0.7895 - 398ms/epoch - 637us/step\n",
      "Epoch 12/30\n",
      "625/625 - 0s - loss: 0.4019 - accuracy: 0.8099 - val_loss: 0.4325 - val_accuracy: 0.7937 - 392ms/epoch - 627us/step\n",
      "Epoch 13/30\n",
      "625/625 - 0s - loss: 0.4012 - accuracy: 0.8112 - val_loss: 0.4332 - val_accuracy: 0.7869 - 403ms/epoch - 644us/step\n",
      "Epoch 14/30\n",
      "625/625 - 0s - loss: 0.3988 - accuracy: 0.8098 - val_loss: 0.4416 - val_accuracy: 0.7894 - 408ms/epoch - 653us/step\n",
      "Epoch 15/30\n",
      "625/625 - 0s - loss: 0.3967 - accuracy: 0.8120 - val_loss: 0.4318 - val_accuracy: 0.7951 - 404ms/epoch - 646us/step\n",
      "Epoch 16/30\n",
      "625/625 - 0s - loss: 0.3948 - accuracy: 0.8112 - val_loss: 0.4274 - val_accuracy: 0.7913 - 410ms/epoch - 656us/step\n",
      "Epoch 17/30\n",
      "625/625 - 0s - loss: 0.3927 - accuracy: 0.8155 - val_loss: 0.4244 - val_accuracy: 0.7967 - 399ms/epoch - 638us/step\n",
      "Epoch 18/30\n",
      "625/625 - 0s - loss: 0.3910 - accuracy: 0.8138 - val_loss: 0.4236 - val_accuracy: 0.7976 - 401ms/epoch - 642us/step\n",
      "Epoch 19/30\n",
      "625/625 - 0s - loss: 0.3887 - accuracy: 0.8166 - val_loss: 0.4218 - val_accuracy: 0.7992 - 407ms/epoch - 651us/step\n",
      "Epoch 20/30\n",
      "625/625 - 0s - loss: 0.3868 - accuracy: 0.8168 - val_loss: 0.4223 - val_accuracy: 0.7970 - 418ms/epoch - 669us/step\n",
      "Epoch 21/30\n",
      "625/625 - 0s - loss: 0.3861 - accuracy: 0.8172 - val_loss: 0.4223 - val_accuracy: 0.8000 - 408ms/epoch - 653us/step\n",
      "Epoch 22/30\n",
      "625/625 - 0s - loss: 0.3846 - accuracy: 0.8192 - val_loss: 0.4197 - val_accuracy: 0.8016 - 407ms/epoch - 651us/step\n",
      "Epoch 23/30\n",
      "625/625 - 0s - loss: 0.3830 - accuracy: 0.8185 - val_loss: 0.4252 - val_accuracy: 0.7994 - 385ms/epoch - 616us/step\n",
      "Epoch 24/30\n",
      "625/625 - 0s - loss: 0.3813 - accuracy: 0.8201 - val_loss: 0.4205 - val_accuracy: 0.8021 - 402ms/epoch - 643us/step\n",
      "Epoch 25/30\n",
      "625/625 - 0s - loss: 0.3811 - accuracy: 0.8198 - val_loss: 0.4196 - val_accuracy: 0.8013 - 407ms/epoch - 651us/step\n",
      "Epoch 26/30\n",
      "625/625 - 0s - loss: 0.3799 - accuracy: 0.8212 - val_loss: 0.4270 - val_accuracy: 0.7995 - 418ms/epoch - 669us/step\n",
      "Epoch 27/30\n",
      "625/625 - 0s - loss: 0.3793 - accuracy: 0.8223 - val_loss: 0.4247 - val_accuracy: 0.7992 - 414ms/epoch - 662us/step\n",
      "Epoch 28/30\n",
      "625/625 - 0s - loss: 0.3775 - accuracy: 0.8225 - val_loss: 0.4216 - val_accuracy: 0.8024 - 419ms/epoch - 670us/step\n",
      "Epoch 29/30\n",
      "625/625 - 0s - loss: 0.3769 - accuracy: 0.8227 - val_loss: 0.4222 - val_accuracy: 0.8007 - 412ms/epoch - 659us/step\n",
      "Epoch 30/30\n",
      "625/625 - 0s - loss: 0.3766 - accuracy: 0.8228 - val_loss: 0.4215 - val_accuracy: 0.7973 - 419ms/epoch - 670us/step\n"
     ]
    },
    {
     "data": {
      "image/png": "[encoded data removed]",
      "text/plain": [
       "<Figure size 432x288 with 1 Axes>"
      ]
     },
     "metadata": {
      "needs_background": "light"
     },
     "output_type": "display_data"
    },
    {
     "data": {
      "image/png": "[encoded data removed]",
      "text/plain": [
       "<Figure size 432x288 with 1 Axes>"
      ]
     },
     "metadata": {
      "needs_background": "light"
     },
     "output_type": "display_data"
    }
   ],
   "source": [
    "#case2b decrease num_words further\n",
    "training_size = 20000\n",
    "num_words = 500       #10000->500\n",
    "maxlen = 32  \n",
    "embedding_dim = 16\n",
    "\n",
    "evaluate_model(training_size, num_words, maxlen, embedding_dim)"
   ]
  },
  {
   "cell_type": "code",
   "execution_count": 15,
   "metadata": {},
   "outputs": [
    {
     "name": "stdout",
     "output_type": "stream",
     "text": [
      "Epoch 1/30\n",
      "625/625 - 2s - loss: 0.5695 - accuracy: 0.6987 - val_loss: 0.4037 - val_accuracy: 0.8380 - 2s/epoch - 2ms/step\n",
      "Epoch 2/30\n",
      "625/625 - 1s - loss: 0.3076 - accuracy: 0.8806 - val_loss: 0.3427 - val_accuracy: 0.8536 - 1s/epoch - 2ms/step\n",
      "Epoch 3/30\n",
      "625/625 - 1s - loss: 0.2121 - accuracy: 0.9211 - val_loss: 0.3390 - val_accuracy: 0.8587 - 1s/epoch - 2ms/step\n",
      "Epoch 4/30\n",
      "625/625 - 1s - loss: 0.1546 - accuracy: 0.9455 - val_loss: 0.3585 - val_accuracy: 0.8574 - 1s/epoch - 2ms/step\n",
      "Epoch 5/30\n",
      "625/625 - 1s - loss: 0.1154 - accuracy: 0.9617 - val_loss: 0.3899 - val_accuracy: 0.8530 - 1s/epoch - 2ms/step\n",
      "Epoch 6/30\n",
      "625/625 - 1s - loss: 0.0854 - accuracy: 0.9744 - val_loss: 0.4293 - val_accuracy: 0.8486 - 1s/epoch - 2ms/step\n",
      "Epoch 7/30\n",
      "625/625 - 1s - loss: 0.0641 - accuracy: 0.9812 - val_loss: 0.4754 - val_accuracy: 0.8463 - 1s/epoch - 2ms/step\n",
      "Epoch 8/30\n",
      "625/625 - 1s - loss: 0.0481 - accuracy: 0.9872 - val_loss: 0.5264 - val_accuracy: 0.8408 - 1s/epoch - 2ms/step\n",
      "Epoch 9/30\n",
      "625/625 - 1s - loss: 0.0357 - accuracy: 0.9908 - val_loss: 0.5857 - val_accuracy: 0.8351 - 1s/epoch - 2ms/step\n",
      "Epoch 10/30\n",
      "625/625 - 1s - loss: 0.0267 - accuracy: 0.9941 - val_loss: 0.6507 - val_accuracy: 0.8348 - 1s/epoch - 2ms/step\n",
      "Epoch 11/30\n",
      "625/625 - 1s - loss: 0.0199 - accuracy: 0.9959 - val_loss: 0.7117 - val_accuracy: 0.8316 - 1s/epoch - 2ms/step\n",
      "Epoch 12/30\n",
      "625/625 - 1s - loss: 0.0137 - accuracy: 0.9973 - val_loss: 0.7788 - val_accuracy: 0.8259 - 1s/epoch - 2ms/step\n",
      "Epoch 13/30\n",
      "625/625 - 1s - loss: 0.0098 - accuracy: 0.9987 - val_loss: 0.8491 - val_accuracy: 0.8258 - 1s/epoch - 2ms/step\n",
      "Epoch 14/30\n",
      "625/625 - 1s - loss: 0.0073 - accuracy: 0.9990 - val_loss: 0.9017 - val_accuracy: 0.8244 - 1s/epoch - 2ms/step\n",
      "Epoch 15/30\n",
      "625/625 - 1s - loss: 0.0055 - accuracy: 0.9993 - val_loss: 1.0410 - val_accuracy: 0.8229 - 1s/epoch - 2ms/step\n",
      "Epoch 16/30\n",
      "625/625 - 1s - loss: 0.0037 - accuracy: 0.9995 - val_loss: 1.0415 - val_accuracy: 0.8201 - 1s/epoch - 2ms/step\n",
      "Epoch 17/30\n",
      "625/625 - 1s - loss: 0.0025 - accuracy: 0.9998 - val_loss: 1.1191 - val_accuracy: 0.8213 - 1s/epoch - 2ms/step\n",
      "Epoch 18/30\n",
      "625/625 - 1s - loss: 0.0019 - accuracy: 0.9998 - val_loss: 1.1974 - val_accuracy: 0.8198 - 1s/epoch - 2ms/step\n",
      "Epoch 19/30\n",
      "625/625 - 1s - loss: 0.0016 - accuracy: 0.9998 - val_loss: 1.2512 - val_accuracy: 0.8176 - 1s/epoch - 2ms/step\n",
      "Epoch 20/30\n",
      "625/625 - 1s - loss: 0.0012 - accuracy: 0.9999 - val_loss: 1.3288 - val_accuracy: 0.8168 - 1s/epoch - 2ms/step\n",
      "Epoch 21/30\n",
      "625/625 - 1s - loss: 6.4951e-04 - accuracy: 1.0000 - val_loss: 1.4071 - val_accuracy: 0.8182 - 1s/epoch - 2ms/step\n",
      "Epoch 22/30\n",
      "625/625 - 1s - loss: 6.7537e-04 - accuracy: 0.9999 - val_loss: 1.5031 - val_accuracy: 0.8152 - 1s/epoch - 2ms/step\n",
      "Epoch 23/30\n",
      "625/625 - 1s - loss: 4.5569e-04 - accuracy: 1.0000 - val_loss: 1.5175 - val_accuracy: 0.8164 - 1s/epoch - 2ms/step\n",
      "Epoch 24/30\n",
      "625/625 - 1s - loss: 2.7475e-04 - accuracy: 1.0000 - val_loss: 1.5746 - val_accuracy: 0.8149 - 1s/epoch - 2ms/step\n",
      "Epoch 25/30\n",
      "625/625 - 1s - loss: 1.6374e-04 - accuracy: 1.0000 - val_loss: 1.6215 - val_accuracy: 0.8156 - 1s/epoch - 2ms/step\n",
      "Epoch 26/30\n",
      "625/625 - 1s - loss: 1.1702e-04 - accuracy: 1.0000 - val_loss: 1.6826 - val_accuracy: 0.8135 - 1s/epoch - 2ms/step\n",
      "Epoch 27/30\n",
      "625/625 - 1s - loss: 7.9788e-05 - accuracy: 1.0000 - val_loss: 1.7211 - val_accuracy: 0.8131 - 1s/epoch - 2ms/step\n",
      "Epoch 28/30\n",
      "625/625 - 1s - loss: 6.2244e-05 - accuracy: 1.0000 - val_loss: 1.7930 - val_accuracy: 0.8131 - 1s/epoch - 2ms/step\n",
      "Epoch 29/30\n",
      "625/625 - 1s - loss: 5.0266e-05 - accuracy: 1.0000 - val_loss: 1.8434 - val_accuracy: 0.8122 - 1s/epoch - 2ms/step\n",
      "Epoch 30/30\n",
      "625/625 - 2s - loss: 4.2623e-05 - accuracy: 1.0000 - val_loss: 1.9303 - val_accuracy: 0.8116 - 2s/epoch - 2ms/step\n"
     ]
    },
    {
     "data": {
      "image/png": "[encoded data removed]",
      "text/plain": [
       "<Figure size 432x288 with 1 Axes>"
      ]
     },
     "metadata": {
      "needs_background": "light"
     },
     "output_type": "display_data"
    },
    {
     "data": {
      "image/png": "[encoded data removed]",
      "text/plain": [
       "<Figure size 432x288 with 1 Axes>"
      ]
     },
     "metadata": {
      "needs_background": "light"
     },
     "output_type": "display_data"
    }
   ],
   "source": [
    "#case2c increase num_words\n",
    "training_size = 20000\n",
    "num_words = 20000       #10000->20000\n",
    "maxlen = 32  \n",
    "embedding_dim = 16\n",
    "\n",
    "evaluate_model(training_size, num_words, maxlen, embedding_dim)"
   ]
  },
  {
   "cell_type": "code",
   "execution_count": 12,
   "metadata": {},
   "outputs": [
    {
     "name": "stdout",
     "output_type": "stream",
     "text": [
      "Epoch 1/30\n",
      "625/625 - 1s - loss: 0.4935 - accuracy: 0.7587 - val_loss: 0.3587 - val_accuracy: 0.8478 - 914ms/epoch - 1ms/step\n",
      "Epoch 2/30\n",
      "625/625 - 1s - loss: 0.2681 - accuracy: 0.8910 - val_loss: 0.3409 - val_accuracy: 0.8544 - 589ms/epoch - 942us/step\n",
      "Epoch 3/30\n",
      "625/625 - 1s - loss: 0.1960 - accuracy: 0.9251 - val_loss: 0.3685 - val_accuracy: 0.8533 - 605ms/epoch - 968us/step\n",
      "Epoch 4/30\n",
      "625/625 - 1s - loss: 0.1544 - accuracy: 0.9436 - val_loss: 0.4103 - val_accuracy: 0.8471 - 606ms/epoch - 970us/step\n",
      "Epoch 5/30\n",
      "625/625 - 1s - loss: 0.1243 - accuracy: 0.9567 - val_loss: 0.4602 - val_accuracy: 0.8427 - 589ms/epoch - 942us/step\n",
      "Epoch 6/30\n",
      "625/625 - 1s - loss: 0.1032 - accuracy: 0.9651 - val_loss: 0.5189 - val_accuracy: 0.8344 - 541ms/epoch - 866us/step\n",
      "Epoch 7/30\n",
      "625/625 - 1s - loss: 0.0859 - accuracy: 0.9717 - val_loss: 0.5776 - val_accuracy: 0.8310 - 538ms/epoch - 861us/step\n",
      "Epoch 8/30\n",
      "625/625 - 1s - loss: 0.0732 - accuracy: 0.9761 - val_loss: 0.6366 - val_accuracy: 0.8249 - 593ms/epoch - 949us/step\n",
      "Epoch 9/30\n",
      "625/625 - 1s - loss: 0.0619 - accuracy: 0.9808 - val_loss: 0.7126 - val_accuracy: 0.8256 - 623ms/epoch - 997us/step\n",
      "Epoch 10/30\n",
      "625/625 - 1s - loss: 0.0528 - accuracy: 0.9836 - val_loss: 0.7776 - val_accuracy: 0.8193 - 576ms/epoch - 922us/step\n",
      "Epoch 11/30\n",
      "625/625 - 1s - loss: 0.0447 - accuracy: 0.9869 - val_loss: 0.8448 - val_accuracy: 0.8188 - 661ms/epoch - 1ms/step\n",
      "Epoch 12/30\n",
      "625/625 - 1s - loss: 0.0386 - accuracy: 0.9886 - val_loss: 0.9195 - val_accuracy: 0.8167 - 691ms/epoch - 1ms/step\n",
      "Epoch 13/30\n",
      "625/625 - 1s - loss: 0.0348 - accuracy: 0.9886 - val_loss: 0.9818 - val_accuracy: 0.8125 - 621ms/epoch - 994us/step\n",
      "Epoch 14/30\n",
      "625/625 - 1s - loss: 0.0301 - accuracy: 0.9904 - val_loss: 1.0530 - val_accuracy: 0.8138 - 595ms/epoch - 952us/step\n",
      "Epoch 15/30\n",
      "625/625 - 1s - loss: 0.0255 - accuracy: 0.9923 - val_loss: 1.1549 - val_accuracy: 0.8092 - 588ms/epoch - 941us/step\n",
      "Epoch 16/30\n",
      "625/625 - 1s - loss: 0.0233 - accuracy: 0.9926 - val_loss: 1.2218 - val_accuracy: 0.8109 - 584ms/epoch - 935us/step\n",
      "Epoch 17/30\n",
      "625/625 - 1s - loss: 0.0211 - accuracy: 0.9930 - val_loss: 1.3160 - val_accuracy: 0.8062 - 539ms/epoch - 862us/step\n",
      "Epoch 18/30\n",
      "625/625 - 1s - loss: 0.0186 - accuracy: 0.9945 - val_loss: 1.3999 - val_accuracy: 0.8089 - 537ms/epoch - 859us/step\n",
      "Epoch 19/30\n",
      "625/625 - 1s - loss: 0.0163 - accuracy: 0.9955 - val_loss: 1.4497 - val_accuracy: 0.8046 - 575ms/epoch - 920us/step\n",
      "Epoch 20/30\n",
      "625/625 - 1s - loss: 0.0146 - accuracy: 0.9958 - val_loss: 1.5032 - val_accuracy: 0.8043 - 537ms/epoch - 859us/step\n",
      "Epoch 21/30\n",
      "625/625 - 1s - loss: 0.0132 - accuracy: 0.9961 - val_loss: 1.5498 - val_accuracy: 0.8027 - 535ms/epoch - 856us/step\n",
      "Epoch 22/30\n",
      "625/625 - 1s - loss: 0.0133 - accuracy: 0.9960 - val_loss: 1.6108 - val_accuracy: 0.8056 - 563ms/epoch - 902us/step\n",
      "Epoch 23/30\n",
      "625/625 - 1s - loss: 0.0127 - accuracy: 0.9958 - val_loss: 1.7133 - val_accuracy: 0.8061 - 548ms/epoch - 877us/step\n",
      "Epoch 24/30\n",
      "625/625 - 1s - loss: 0.0104 - accuracy: 0.9967 - val_loss: 1.7878 - val_accuracy: 0.8065 - 550ms/epoch - 880us/step\n",
      "Epoch 25/30\n",
      "625/625 - 1s - loss: 0.0091 - accuracy: 0.9972 - val_loss: 1.8697 - val_accuracy: 0.8055 - 544ms/epoch - 870us/step\n",
      "Epoch 26/30\n",
      "625/625 - 1s - loss: 0.0077 - accuracy: 0.9976 - val_loss: 1.9256 - val_accuracy: 0.8028 - 643ms/epoch - 1ms/step\n",
      "Epoch 27/30\n",
      "625/625 - 1s - loss: 0.0079 - accuracy: 0.9976 - val_loss: 1.9874 - val_accuracy: 0.7992 - 592ms/epoch - 947us/step\n",
      "Epoch 28/30\n",
      "625/625 - 1s - loss: 0.0087 - accuracy: 0.9970 - val_loss: 2.0573 - val_accuracy: 0.8024 - 580ms/epoch - 928us/step\n",
      "Epoch 29/30\n",
      "625/625 - 1s - loss: 0.0079 - accuracy: 0.9973 - val_loss: 2.1468 - val_accuracy: 0.7982 - 545ms/epoch - 872us/step\n",
      "Epoch 30/30\n",
      "625/625 - 1s - loss: 0.0080 - accuracy: 0.9976 - val_loss: 2.1863 - val_accuracy: 0.8001 - 548ms/epoch - 877us/step\n"
     ]
    },
    {
     "data": {
      "image/png": "[encoded data removed]",
      "text/plain": [
       "<Figure size 432x288 with 1 Axes>"
      ]
     },
     "metadata": {
      "needs_background": "light"
     },
     "output_type": "display_data"
    },
    {
     "data": {
      "image/png": "[encoded data removed]",
      "text/plain": [
       "<Figure size 432x288 with 1 Axes>"
      ]
     },
     "metadata": {
      "needs_background": "light"
     },
     "output_type": "display_data"
    }
   ],
   "source": [
    "#case3 decrease maxlen\n",
    "training_size = 20000\n",
    "num_words = 10000\n",
    "maxlen = 16          #32->16\n",
    "embedding_dim = 16\n",
    "\n",
    "evaluate_model(training_size, num_words, maxlen, embedding_dim)"
   ]
  },
  {
   "cell_type": "code",
   "execution_count": 13,
   "metadata": {},
   "outputs": [
    {
     "name": "stdout",
     "output_type": "stream",
     "text": [
      "Epoch 1/30\n",
      "625/625 - 1s - loss: 0.6109 - accuracy: 0.6663 - val_loss: 0.4551 - val_accuracy: 0.8201 - 861ms/epoch - 1ms/step\n",
      "Epoch 2/30\n",
      "625/625 - 1s - loss: 0.3547 - accuracy: 0.8590 - val_loss: 0.3536 - val_accuracy: 0.8502 - 516ms/epoch - 826us/step\n",
      "Epoch 3/30\n",
      "625/625 - 1s - loss: 0.2650 - accuracy: 0.8958 - val_loss: 0.3368 - val_accuracy: 0.8559 - 536ms/epoch - 858us/step\n",
      "Epoch 4/30\n",
      "625/625 - 1s - loss: 0.2159 - accuracy: 0.9182 - val_loss: 0.3398 - val_accuracy: 0.8568 - 511ms/epoch - 818us/step\n",
      "Epoch 5/30\n",
      "625/625 - 0s - loss: 0.1812 - accuracy: 0.9324 - val_loss: 0.3552 - val_accuracy: 0.8539 - 486ms/epoch - 778us/step\n",
      "Epoch 6/30\n",
      "625/625 - 0s - loss: 0.1565 - accuracy: 0.9431 - val_loss: 0.3756 - val_accuracy: 0.8517 - 477ms/epoch - 763us/step\n",
      "Epoch 7/30\n",
      "625/625 - 1s - loss: 0.1353 - accuracy: 0.9532 - val_loss: 0.4013 - val_accuracy: 0.8475 - 617ms/epoch - 987us/step\n",
      "Epoch 8/30\n",
      "625/625 - 0s - loss: 0.1183 - accuracy: 0.9597 - val_loss: 0.4280 - val_accuracy: 0.8478 - 492ms/epoch - 787us/step\n",
      "Epoch 9/30\n",
      "625/625 - 0s - loss: 0.1046 - accuracy: 0.9657 - val_loss: 0.4615 - val_accuracy: 0.8423 - 476ms/epoch - 762us/step\n",
      "Epoch 10/30\n",
      "625/625 - 1s - loss: 0.0918 - accuracy: 0.9703 - val_loss: 0.4954 - val_accuracy: 0.8387 - 535ms/epoch - 856us/step\n",
      "Epoch 11/30\n",
      "625/625 - 0s - loss: 0.0822 - accuracy: 0.9736 - val_loss: 0.5286 - val_accuracy: 0.8381 - 481ms/epoch - 770us/step\n",
      "Epoch 12/30\n",
      "625/625 - 1s - loss: 0.0717 - accuracy: 0.9780 - val_loss: 0.5675 - val_accuracy: 0.8344 - 510ms/epoch - 816us/step\n",
      "Epoch 13/30\n",
      "625/625 - 0s - loss: 0.0636 - accuracy: 0.9813 - val_loss: 0.6068 - val_accuracy: 0.8325 - 493ms/epoch - 789us/step\n",
      "Epoch 14/30\n",
      "625/625 - 0s - loss: 0.0566 - accuracy: 0.9832 - val_loss: 0.6506 - val_accuracy: 0.8301 - 491ms/epoch - 786us/step\n",
      "Epoch 15/30\n",
      "625/625 - 0s - loss: 0.0506 - accuracy: 0.9856 - val_loss: 0.6942 - val_accuracy: 0.8255 - 482ms/epoch - 771us/step\n",
      "Epoch 16/30\n",
      "625/625 - 0s - loss: 0.0448 - accuracy: 0.9882 - val_loss: 0.7387 - val_accuracy: 0.8258 - 486ms/epoch - 778us/step\n",
      "Epoch 17/30\n",
      "625/625 - 1s - loss: 0.0403 - accuracy: 0.9894 - val_loss: 0.7785 - val_accuracy: 0.8223 - 512ms/epoch - 819us/step\n",
      "Epoch 18/30\n",
      "625/625 - 0s - loss: 0.0357 - accuracy: 0.9906 - val_loss: 0.8371 - val_accuracy: 0.8219 - 485ms/epoch - 776us/step\n",
      "Epoch 19/30\n",
      "625/625 - 0s - loss: 0.0323 - accuracy: 0.9913 - val_loss: 0.8902 - val_accuracy: 0.8207 - 476ms/epoch - 762us/step\n",
      "Epoch 20/30\n",
      "625/625 - 0s - loss: 0.0290 - accuracy: 0.9927 - val_loss: 0.9451 - val_accuracy: 0.8192 - 491ms/epoch - 786us/step\n",
      "Epoch 21/30\n",
      "625/625 - 0s - loss: 0.0263 - accuracy: 0.9933 - val_loss: 1.0123 - val_accuracy: 0.8171 - 480ms/epoch - 768us/step\n",
      "Epoch 22/30\n",
      "625/625 - 0s - loss: 0.0231 - accuracy: 0.9944 - val_loss: 1.0204 - val_accuracy: 0.8116 - 469ms/epoch - 750us/step\n",
      "Epoch 23/30\n",
      "625/625 - 0s - loss: 0.0212 - accuracy: 0.9945 - val_loss: 1.0997 - val_accuracy: 0.8107 - 475ms/epoch - 760us/step\n",
      "Epoch 24/30\n",
      "625/625 - 0s - loss: 0.0185 - accuracy: 0.9951 - val_loss: 1.1664 - val_accuracy: 0.8110 - 494ms/epoch - 790us/step\n",
      "Epoch 25/30\n",
      "625/625 - 0s - loss: 0.0172 - accuracy: 0.9956 - val_loss: 1.2443 - val_accuracy: 0.8100 - 473ms/epoch - 757us/step\n",
      "Epoch 26/30\n",
      "625/625 - 0s - loss: 0.0147 - accuracy: 0.9965 - val_loss: 1.2545 - val_accuracy: 0.8055 - 472ms/epoch - 755us/step\n",
      "Epoch 27/30\n",
      "625/625 - 0s - loss: 0.0134 - accuracy: 0.9966 - val_loss: 1.3070 - val_accuracy: 0.8035 - 500ms/epoch - 800us/step\n",
      "Epoch 28/30\n",
      "625/625 - 0s - loss: 0.0112 - accuracy: 0.9974 - val_loss: 1.3675 - val_accuracy: 0.8041 - 494ms/epoch - 790us/step\n",
      "Epoch 29/30\n",
      "625/625 - 0s - loss: 0.0104 - accuracy: 0.9976 - val_loss: 1.4138 - val_accuracy: 0.8003 - 480ms/epoch - 768us/step\n",
      "Epoch 30/30\n",
      "625/625 - 0s - loss: 0.0096 - accuracy: 0.9979 - val_loss: 1.4801 - val_accuracy: 0.8015 - 493ms/epoch - 789us/step\n"
     ]
    },
    {
     "data": {
      "image/png": "[encoded data removed]",
      "text/plain": [
       "<Figure size 432x288 with 1 Axes>"
      ]
     },
     "metadata": {
      "needs_background": "light"
     },
     "output_type": "display_data"
    },
    {
     "data": {
      "image/png": "[encoded data removed]",
      "text/plain": [
       "<Figure size 432x288 with 1 Axes>"
      ]
     },
     "metadata": {
      "needs_background": "light"
     },
     "output_type": "display_data"
    }
   ],
   "source": [
    "#case4a decrease embedding_dim\n",
    "training_size = 20000\n",
    "num_words = 10000\n",
    "maxlen = 32\n",
    "embedding_dim = 8  #16->8    (val_loss 1.7->2.0)\n",
    "\n",
    "evaluate_model(training_size, num_words, maxlen, embedding_dim)"
   ]
  },
  {
   "cell_type": "code",
   "execution_count": 14,
   "metadata": {},
   "outputs": [
    {
     "name": "stdout",
     "output_type": "stream",
     "text": [
      "Epoch 1/30\n",
      "625/625 - 2s - loss: 0.5392 - accuracy: 0.7218 - val_loss: 0.3804 - val_accuracy: 0.8331 - 2s/epoch - 3ms/step\n",
      "Epoch 2/30\n",
      "625/625 - 2s - loss: 0.2909 - accuracy: 0.8814 - val_loss: 0.3656 - val_accuracy: 0.8357 - 2s/epoch - 3ms/step\n",
      "Epoch 3/30\n",
      "625/625 - 2s - loss: 0.2180 - accuracy: 0.9144 - val_loss: 0.3484 - val_accuracy: 0.8532 - 2s/epoch - 2ms/step\n",
      "Epoch 4/30\n",
      "625/625 - 2s - loss: 0.1732 - accuracy: 0.9361 - val_loss: 0.3760 - val_accuracy: 0.8505 - 2s/epoch - 2ms/step\n",
      "Epoch 5/30\n",
      "625/625 - 2s - loss: 0.1424 - accuracy: 0.9478 - val_loss: 0.4127 - val_accuracy: 0.8468 - 2s/epoch - 2ms/step\n",
      "Epoch 6/30\n",
      "625/625 - 2s - loss: 0.1198 - accuracy: 0.9561 - val_loss: 0.4542 - val_accuracy: 0.8422 - 2s/epoch - 3ms/step\n",
      "Epoch 7/30\n",
      "625/625 - 2s - loss: 0.1008 - accuracy: 0.9655 - val_loss: 0.5112 - val_accuracy: 0.8305 - 2s/epoch - 2ms/step\n",
      "Epoch 8/30\n",
      "625/625 - 2s - loss: 0.0877 - accuracy: 0.9701 - val_loss: 0.5586 - val_accuracy: 0.8323 - 2s/epoch - 2ms/step\n",
      "Epoch 9/30\n",
      "625/625 - 2s - loss: 0.0733 - accuracy: 0.9763 - val_loss: 0.6187 - val_accuracy: 0.8259 - 2s/epoch - 2ms/step\n",
      "Epoch 10/30\n",
      "625/625 - 2s - loss: 0.0641 - accuracy: 0.9793 - val_loss: 0.6693 - val_accuracy: 0.8246 - 2s/epoch - 3ms/step\n",
      "Epoch 11/30\n",
      "625/625 - 2s - loss: 0.0558 - accuracy: 0.9826 - val_loss: 0.7045 - val_accuracy: 0.8237 - 2s/epoch - 3ms/step\n",
      "Epoch 12/30\n",
      "625/625 - 2s - loss: 0.0492 - accuracy: 0.9844 - val_loss: 0.7564 - val_accuracy: 0.8229 - 2s/epoch - 2ms/step\n",
      "Epoch 13/30\n",
      "625/625 - 2s - loss: 0.0423 - accuracy: 0.9872 - val_loss: 0.8211 - val_accuracy: 0.8204 - 2s/epoch - 3ms/step\n",
      "Epoch 14/30\n",
      "625/625 - 2s - loss: 0.0376 - accuracy: 0.9887 - val_loss: 0.8816 - val_accuracy: 0.8182 - 2s/epoch - 2ms/step\n",
      "Epoch 15/30\n",
      "625/625 - 2s - loss: 0.0326 - accuracy: 0.9901 - val_loss: 0.9412 - val_accuracy: 0.8159 - 2s/epoch - 3ms/step\n",
      "Epoch 16/30\n",
      "625/625 - 2s - loss: 0.0284 - accuracy: 0.9916 - val_loss: 0.9998 - val_accuracy: 0.8143 - 2s/epoch - 3ms/step\n",
      "Epoch 17/30\n",
      "625/625 - 2s - loss: 0.0256 - accuracy: 0.9929 - val_loss: 1.0728 - val_accuracy: 0.8100 - 2s/epoch - 3ms/step\n",
      "Epoch 18/30\n",
      "625/625 - 2s - loss: 0.0224 - accuracy: 0.9943 - val_loss: 1.1373 - val_accuracy: 0.8111 - 2s/epoch - 3ms/step\n",
      "Epoch 19/30\n",
      "625/625 - 2s - loss: 0.0205 - accuracy: 0.9938 - val_loss: 1.2077 - val_accuracy: 0.8083 - 2s/epoch - 3ms/step\n",
      "Epoch 20/30\n",
      "625/625 - 2s - loss: 0.0193 - accuracy: 0.9945 - val_loss: 1.2712 - val_accuracy: 0.8074 - 2s/epoch - 3ms/step\n",
      "Epoch 21/30\n",
      "625/625 - 2s - loss: 0.0170 - accuracy: 0.9948 - val_loss: 1.3300 - val_accuracy: 0.8083 - 2s/epoch - 3ms/step\n",
      "Epoch 22/30\n",
      "625/625 - 2s - loss: 0.0157 - accuracy: 0.9952 - val_loss: 1.3761 - val_accuracy: 0.8061 - 2s/epoch - 3ms/step\n",
      "Epoch 23/30\n",
      "625/625 - 2s - loss: 0.0141 - accuracy: 0.9955 - val_loss: 1.4600 - val_accuracy: 0.8031 - 2s/epoch - 3ms/step\n",
      "Epoch 24/30\n",
      "625/625 - 2s - loss: 0.0119 - accuracy: 0.9963 - val_loss: 1.5546 - val_accuracy: 0.8061 - 2s/epoch - 3ms/step\n",
      "Epoch 25/30\n",
      "625/625 - 2s - loss: 0.0126 - accuracy: 0.9959 - val_loss: 1.6188 - val_accuracy: 0.8038 - 2s/epoch - 3ms/step\n",
      "Epoch 26/30\n",
      "625/625 - 2s - loss: 0.0110 - accuracy: 0.9959 - val_loss: 1.7017 - val_accuracy: 0.8019 - 2s/epoch - 3ms/step\n",
      "Epoch 27/30\n",
      "625/625 - 2s - loss: 0.0095 - accuracy: 0.9967 - val_loss: 1.7979 - val_accuracy: 0.8001 - 2s/epoch - 3ms/step\n",
      "Epoch 28/30\n",
      "625/625 - 2s - loss: 0.0097 - accuracy: 0.9966 - val_loss: 1.8192 - val_accuracy: 0.8001 - 2s/epoch - 2ms/step\n",
      "Epoch 29/30\n",
      "625/625 - 2s - loss: 0.0096 - accuracy: 0.9966 - val_loss: 1.8893 - val_accuracy: 0.7982 - 2s/epoch - 3ms/step\n",
      "Epoch 30/30\n",
      "625/625 - 2s - loss: 0.0090 - accuracy: 0.9966 - val_loss: 1.9498 - val_accuracy: 0.8012 - 2s/epoch - 3ms/step\n"
     ]
    },
    {
     "data": {
      "image/png": "[encoded data removed]",
      "text/plain": [
       "<Figure size 432x288 with 1 Axes>"
      ]
     },
     "metadata": {
      "needs_background": "light"
     },
     "output_type": "display_data"
    },
    {
     "data": {
      "image/png": "[encoded data removed]",
      "text/plain": [
       "<Figure size 432x288 with 1 Axes>"
      ]
     },
     "metadata": {
      "needs_background": "light"
     },
     "output_type": "display_data"
    }
   ],
   "source": [
    "#case4b increase embedding_dim\n",
    "training_size = 20000\n",
    "num_words = 10000\n",
    "maxlen = 32\n",
    "embedding_dim = 32  #16->32     (val_loss 1.7>14)\n",
    "\n",
    "evaluate_model(training_size, num_words, maxlen, embedding_dim)"
   ]
  },
  {
   "cell_type": "code",
   "execution_count": 19,
   "metadata": {},
   "outputs": [
    {
     "name": "stdout",
     "output_type": "stream",
     "text": [
      "Epoch 1/30\n",
      "625/625 - 1s - loss: 0.5060 - accuracy: 0.7495 - val_loss: 0.4057 - val_accuracy: 0.8129 - 734ms/epoch - 1ms/step\n",
      "Epoch 2/30\n",
      "625/625 - 0s - loss: 0.3754 - accuracy: 0.8292 - val_loss: 0.4006 - val_accuracy: 0.8104 - 436ms/epoch - 698us/step\n",
      "Epoch 3/30\n",
      "625/625 - 0s - loss: 0.3630 - accuracy: 0.8343 - val_loss: 0.4028 - val_accuracy: 0.8141 - 447ms/epoch - 715us/step\n",
      "Epoch 4/30\n",
      "625/625 - 0s - loss: 0.3588 - accuracy: 0.8375 - val_loss: 0.4033 - val_accuracy: 0.8131 - 435ms/epoch - 696us/step\n",
      "Epoch 5/30\n",
      "625/625 - 0s - loss: 0.3563 - accuracy: 0.8386 - val_loss: 0.4019 - val_accuracy: 0.8132 - 429ms/epoch - 686us/step\n",
      "Epoch 6/30\n",
      "625/625 - 0s - loss: 0.3549 - accuracy: 0.8371 - val_loss: 0.4042 - val_accuracy: 0.8128 - 442ms/epoch - 708us/step\n",
      "Epoch 7/30\n",
      "625/625 - 0s - loss: 0.3531 - accuracy: 0.8395 - val_loss: 0.4047 - val_accuracy: 0.8125 - 439ms/epoch - 702us/step\n",
      "Epoch 8/30\n",
      "625/625 - 0s - loss: 0.3517 - accuracy: 0.8392 - val_loss: 0.4034 - val_accuracy: 0.8125 - 442ms/epoch - 707us/step\n",
      "Epoch 9/30\n",
      "625/625 - 0s - loss: 0.3496 - accuracy: 0.8413 - val_loss: 0.4000 - val_accuracy: 0.8159 - 432ms/epoch - 691us/step\n",
      "Epoch 10/30\n",
      "625/625 - 0s - loss: 0.3450 - accuracy: 0.8431 - val_loss: 0.3970 - val_accuracy: 0.8176 - 424ms/epoch - 678us/step\n",
      "Epoch 11/30\n",
      "625/625 - 0s - loss: 0.3403 - accuracy: 0.8461 - val_loss: 0.3942 - val_accuracy: 0.8190 - 435ms/epoch - 697us/step\n",
      "Epoch 12/30\n",
      "625/625 - 0s - loss: 0.3357 - accuracy: 0.8486 - val_loss: 0.3942 - val_accuracy: 0.8208 - 439ms/epoch - 702us/step\n",
      "Epoch 13/30\n",
      "625/625 - 0s - loss: 0.3322 - accuracy: 0.8507 - val_loss: 0.3949 - val_accuracy: 0.8188 - 437ms/epoch - 699us/step\n",
      "Epoch 14/30\n",
      "625/625 - 0s - loss: 0.3282 - accuracy: 0.8515 - val_loss: 0.3975 - val_accuracy: 0.8193 - 438ms/epoch - 701us/step\n",
      "Epoch 15/30\n",
      "625/625 - 0s - loss: 0.3251 - accuracy: 0.8551 - val_loss: 0.3965 - val_accuracy: 0.8190 - 418ms/epoch - 669us/step\n",
      "Epoch 16/30\n",
      "625/625 - 0s - loss: 0.3215 - accuracy: 0.8568 - val_loss: 0.3981 - val_accuracy: 0.8210 - 437ms/epoch - 699us/step\n",
      "Epoch 17/30\n",
      "625/625 - 0s - loss: 0.3185 - accuracy: 0.8595 - val_loss: 0.3972 - val_accuracy: 0.8205 - 444ms/epoch - 710us/step\n",
      "Epoch 18/30\n",
      "625/625 - 0s - loss: 0.3155 - accuracy: 0.8595 - val_loss: 0.3994 - val_accuracy: 0.8213 - 443ms/epoch - 709us/step\n",
      "Epoch 19/30\n",
      "625/625 - 0s - loss: 0.3139 - accuracy: 0.8606 - val_loss: 0.4056 - val_accuracy: 0.8170 - 452ms/epoch - 723us/step\n",
      "Epoch 20/30\n",
      "625/625 - 0s - loss: 0.3118 - accuracy: 0.8619 - val_loss: 0.4039 - val_accuracy: 0.8192 - 431ms/epoch - 690us/step\n",
      "Epoch 21/30\n",
      "625/625 - 0s - loss: 0.3091 - accuracy: 0.8637 - val_loss: 0.4056 - val_accuracy: 0.8202 - 441ms/epoch - 706us/step\n",
      "Epoch 22/30\n",
      "625/625 - 0s - loss: 0.3070 - accuracy: 0.8629 - val_loss: 0.4072 - val_accuracy: 0.8192 - 447ms/epoch - 715us/step\n",
      "Epoch 23/30\n",
      "625/625 - 0s - loss: 0.3062 - accuracy: 0.8655 - val_loss: 0.4106 - val_accuracy: 0.8192 - 446ms/epoch - 714us/step\n",
      "Epoch 24/30\n",
      "625/625 - 0s - loss: 0.3038 - accuracy: 0.8666 - val_loss: 0.4135 - val_accuracy: 0.8156 - 462ms/epoch - 739us/step\n",
      "Epoch 25/30\n",
      "625/625 - 0s - loss: 0.3027 - accuracy: 0.8664 - val_loss: 0.4140 - val_accuracy: 0.8173 - 436ms/epoch - 697us/step\n",
      "Epoch 26/30\n",
      "625/625 - 0s - loss: 0.3015 - accuracy: 0.8666 - val_loss: 0.4190 - val_accuracy: 0.8152 - 434ms/epoch - 695us/step\n",
      "Epoch 27/30\n",
      "625/625 - 0s - loss: 0.2988 - accuracy: 0.8687 - val_loss: 0.4196 - val_accuracy: 0.8159 - 451ms/epoch - 722us/step\n",
      "Epoch 28/30\n",
      "625/625 - 0s - loss: 0.2964 - accuracy: 0.8701 - val_loss: 0.4207 - val_accuracy: 0.8173 - 445ms/epoch - 712us/step\n",
      "Epoch 29/30\n",
      "625/625 - 0s - loss: 0.2953 - accuracy: 0.8706 - val_loss: 0.4253 - val_accuracy: 0.8143 - 442ms/epoch - 707us/step\n",
      "Epoch 30/30\n",
      "625/625 - 0s - loss: 0.2935 - accuracy: 0.8717 - val_loss: 0.4233 - val_accuracy: 0.8158 - 438ms/epoch - 701us/step\n"
     ]
    },
    {
     "data": {
      "image/png": "[encoded data removed]",
      "text/plain": [
       "<Figure size 432x288 with 1 Axes>"
      ]
     },
     "metadata": {
      "needs_background": "light"
     },
     "output_type": "display_data"
    },
    {
     "data": {
      "image/png": "[encoded data removed]",
      "text/plain": [
       "<Figure size 432x288 with 1 Axes>"
      ]
     },
     "metadata": {
      "needs_background": "light"
     },
     "output_type": "display_data"
    }
   ],
   "source": [
    "#case5 follow video\n",
    "training_size = 20000\n",
    "num_words = 1000    #10000->1000\n",
    "maxlen = 16         #32 ->16\n",
    "embedding_dim = 32  #16->32     (val_loss 1.7>14)\n",
    "\n",
    "evaluate_model(training_size, num_words, maxlen, embedding_dim)"
   ]
  },
  {
   "cell_type": "code",
   "execution_count": null,
   "metadata": {},
   "outputs": [],
   "source": [
    "#case increase embedding_dim\n",
    "training_size = 20000\n",
    "num_words = 10000\n",
    "maxlen = 32\n",
    "embedding_dim = 32  #16->32     (val_loss 1.7>14)\n",
    "\n",
    "evaluate_model(training_size, num_words, maxlen, embedding_dim)"
   ]
  },
  {
   "cell_type": "code",
   "execution_count": null,
   "metadata": {},
   "outputs": [],
   "source": [
    "  #16->8"
   ]
  },
  {
   "cell_type": "code",
   "execution_count": null,
   "metadata": {},
   "outputs": [],
   "source": [
    "#training_size = 20000\n",
    "#num_words = 1000\n",
    "#maxlen = 32\n",
    "#embedding_dim = 16\n",
    "\n",
    "num_epochs =30\n",
    "history = model.fit(training_padded, training_labels, epochs=num_epochs, validation_data = (testing_padded,testing_labels),verbose = 2)"
   ]
  },
  {
   "cell_type": "code",
   "execution_count": 99,
   "metadata": {},
   "outputs": [
    {
     "name": "stdout",
     "output_type": "stream",
     "text": [
      "Epoch 1/30\n",
      "625/625 - 1s - loss: 0.5693 - accuracy: 0.6996 - val_loss: 0.4031 - val_accuracy: 0.8310 - 840ms/epoch - 1ms/step\n",
      "Epoch 2/30\n",
      "625/625 - 1s - loss: 0.3177 - accuracy: 0.8712 - val_loss: 0.3475 - val_accuracy: 0.8524 - 587ms/epoch - 939us/step\n",
      "Epoch 3/30\n",
      "625/625 - 1s - loss: 0.2376 - accuracy: 0.9072 - val_loss: 0.3545 - val_accuracy: 0.8447 - 594ms/epoch - 950us/step\n",
      "Epoch 4/30\n",
      "625/625 - 1s - loss: 0.1933 - accuracy: 0.9264 - val_loss: 0.3587 - val_accuracy: 0.8535 - 579ms/epoch - 926us/step\n",
      "Epoch 5/30\n",
      "625/625 - 1s - loss: 0.1602 - accuracy: 0.9416 - val_loss: 0.3917 - val_accuracy: 0.8439 - 607ms/epoch - 971us/step\n",
      "Epoch 6/30\n",
      "625/625 - 1s - loss: 0.1370 - accuracy: 0.9510 - val_loss: 0.4128 - val_accuracy: 0.8484 - 569ms/epoch - 910us/step\n",
      "Epoch 7/30\n",
      "625/625 - 1s - loss: 0.1171 - accuracy: 0.9597 - val_loss: 0.4649 - val_accuracy: 0.8402 - 583ms/epoch - 933us/step\n",
      "Epoch 8/30\n",
      "625/625 - 1s - loss: 0.1014 - accuracy: 0.9667 - val_loss: 0.4867 - val_accuracy: 0.8405 - 575ms/epoch - 920us/step\n",
      "Epoch 9/30\n",
      "625/625 - 1s - loss: 0.0877 - accuracy: 0.9716 - val_loss: 0.5387 - val_accuracy: 0.8335 - 572ms/epoch - 915us/step\n",
      "Epoch 10/30\n",
      "625/625 - 1s - loss: 0.0776 - accuracy: 0.9752 - val_loss: 0.5900 - val_accuracy: 0.8329 - 564ms/epoch - 902us/step\n",
      "Epoch 11/30\n",
      "625/625 - 1s - loss: 0.0678 - accuracy: 0.9780 - val_loss: 0.6369 - val_accuracy: 0.8289 - 590ms/epoch - 944us/step\n",
      "Epoch 12/30\n",
      "625/625 - 1s - loss: 0.0587 - accuracy: 0.9823 - val_loss: 0.6832 - val_accuracy: 0.8265 - 585ms/epoch - 936us/step\n",
      "Epoch 13/30\n",
      "625/625 - 1s - loss: 0.0518 - accuracy: 0.9846 - val_loss: 0.7455 - val_accuracy: 0.8237 - 586ms/epoch - 938us/step\n",
      "Epoch 14/30\n",
      "625/625 - 1s - loss: 0.0471 - accuracy: 0.9858 - val_loss: 0.7884 - val_accuracy: 0.8210 - 578ms/epoch - 925us/step\n",
      "Epoch 15/30\n",
      "625/625 - 1s - loss: 0.0420 - accuracy: 0.9865 - val_loss: 0.8587 - val_accuracy: 0.8186 - 588ms/epoch - 941us/step\n",
      "Epoch 16/30\n",
      "625/625 - 1s - loss: 0.0362 - accuracy: 0.9904 - val_loss: 0.9221 - val_accuracy: 0.8173 - 598ms/epoch - 957us/step\n",
      "Epoch 17/30\n",
      "625/625 - 1s - loss: 0.0323 - accuracy: 0.9909 - val_loss: 0.9539 - val_accuracy: 0.8158 - 595ms/epoch - 952us/step\n",
      "Epoch 18/30\n",
      "625/625 - 1s - loss: 0.0278 - accuracy: 0.9925 - val_loss: 1.0170 - val_accuracy: 0.8132 - 583ms/epoch - 933us/step\n",
      "Epoch 19/30\n",
      "625/625 - 1s - loss: 0.0263 - accuracy: 0.9926 - val_loss: 1.0766 - val_accuracy: 0.8110 - 577ms/epoch - 923us/step\n",
      "Epoch 20/30\n",
      "625/625 - 1s - loss: 0.0224 - accuracy: 0.9938 - val_loss: 1.1345 - val_accuracy: 0.8113 - 585ms/epoch - 935us/step\n",
      "Epoch 21/30\n",
      "625/625 - 1s - loss: 0.0205 - accuracy: 0.9946 - val_loss: 1.2094 - val_accuracy: 0.8085 - 581ms/epoch - 930us/step\n",
      "Epoch 22/30\n",
      "625/625 - 1s - loss: 0.0180 - accuracy: 0.9952 - val_loss: 1.2900 - val_accuracy: 0.8083 - 617ms/epoch - 987us/step\n",
      "Epoch 23/30\n",
      "625/625 - 1s - loss: 0.0169 - accuracy: 0.9959 - val_loss: 1.3267 - val_accuracy: 0.8070 - 591ms/epoch - 946us/step\n",
      "Epoch 24/30\n",
      "625/625 - 1s - loss: 0.0147 - accuracy: 0.9968 - val_loss: 1.4100 - val_accuracy: 0.8076 - 628ms/epoch - 1ms/step\n",
      "Epoch 25/30\n",
      "625/625 - 1s - loss: 0.0126 - accuracy: 0.9973 - val_loss: 1.4255 - val_accuracy: 0.8055 - 592ms/epoch - 947us/step\n",
      "Epoch 26/30\n",
      "625/625 - 1s - loss: 0.0121 - accuracy: 0.9969 - val_loss: 1.4908 - val_accuracy: 0.8073 - 616ms/epoch - 986us/step\n",
      "Epoch 27/30\n",
      "625/625 - 1s - loss: 0.0126 - accuracy: 0.9967 - val_loss: 1.5059 - val_accuracy: 0.8018 - 591ms/epoch - 946us/step\n",
      "Epoch 28/30\n",
      "625/625 - 1s - loss: 0.0116 - accuracy: 0.9966 - val_loss: 1.6073 - val_accuracy: 0.8019 - 589ms/epoch - 942us/step\n",
      "Epoch 29/30\n",
      "625/625 - 1s - loss: 0.0098 - accuracy: 0.9976 - val_loss: 1.6890 - val_accuracy: 0.8049 - 577ms/epoch - 923us/step\n",
      "Epoch 30/30\n",
      "625/625 - 1s - loss: 0.0086 - accuracy: 0.9980 - val_loss: 1.7320 - val_accuracy: 0.8030 - 581ms/epoch - 930us/step\n"
     ]
    }
   ],
   "source": [
    "#training_size = 20000\n",
    "#num_words = 10000\n",
    "#maxlen = 32\n",
    "#embedding_dim = 16\n",
    "\n",
    "num_epochs =30\n",
    "history = model.fit(training_padded, training_labels, epochs=num_epochs, validation_data = (testing_padded,testing_labels),verbose = 2)"
   ]
  },
  {
   "cell_type": "code",
   "execution_count": null,
   "metadata": {
    "id": "2DTKQFf1kkyc"
   },
   "outputs": [],
   "source": [
    "num_epochs = 30\n",
    "\n",
    "# Train the model\n",
    "history = model.fit(training_padded, training_labels, epochs=num_epochs, validation_data=(testing_padded, testing_labels), verbose=2)"
   ]
  },
  {
   "cell_type": "markdown",
   "metadata": {
    "id": "L_bWhGOSJLLm"
   },
   "source": [
    "## Visualize the Results\n",
    "\n",
    "You can use the cell below to plot the training results. You may notice some overfitting because your validation accuracy is slowly dropping while the training accuracy is still going up. See if you can improve it by tweaking the hyperparameters. Some example values are shown in the lectures."
   ]
  },
  {
   "cell_type": "code",
   "execution_count": 51,
   "metadata": {},
   "outputs": [
    {
     "data": {
      "image/png": "[encoded data removed]",
      "text/plain": [
       "<Figure size 432x288 with 1 Axes>"
      ]
     },
     "metadata": {
      "needs_background": "light"
     },
     "output_type": "display_data"
    },
    {
     "data": {
      "image/png": "[encoded data removed]",
      "text/plain": [
       "<Figure size 432x288 with 1 Axes>"
      ]
     },
     "metadata": {
      "needs_background": "light"
     },
     "output_type": "display_data"
    }
   ],
   "source": [
    "import matplotlib.pyplot as plt\n",
    "\n",
    "\n",
    "\n",
    "def plot_graphs(history,string):\n",
    "    plt.plot(history.history[string])\n",
    "    plt.plot(history.history['val_'+string])\n",
    "    plt.xlabel(\"Epochs\")\n",
    "    plt.ylabel(string)\n",
    "    plt.legend([string, 'val_'+string])\n",
    "    plt.show()\n",
    "    \n",
    "plot_graphs(history,\"accuracy\")\n",
    "plot_graphs(history,\"loss\")"
   ]
  },
  {
   "cell_type": "code",
   "execution_count": null,
   "metadata": {
    "id": "2HYfBKXjkmU8"
   },
   "outputs": [],
   "source": [
    "import matplotlib.pyplot as plt\n",
    "\n",
    "# Plot utility\n",
    "def plot_graphs(history, string):\n",
    "  plt.plot(history.history[string])\n",
    "  plt.plot(history.history['val_'+string])\n",
    "  plt.xlabel(\"Epochs\")\n",
    "  plt.ylabel(string)\n",
    "  plt.legend([string, 'val_'+string])   #the order should match the plot order\n",
    "  plt.show()\n",
    "  \n",
    "# Plot the accuracy and loss\n",
    "plot_graphs(history, \"accuracy\")\n",
    "plot_graphs(history, \"loss\")"
   ]
  },
  {
   "cell_type": "markdown",
   "metadata": {
    "id": "JN6kaxxcJQgd"
   },
   "source": [
    "## Visualize Word Embeddings\n",
    "\n",
    "As before, you can visualize the final weights of the embeddings using the [Tensorflow Embedding Projector](https://projector.tensorflow.org/)."
   ]
  },
  {
   "cell_type": "code",
   "execution_count": 57,
   "metadata": {},
   "outputs": [
    {
     "name": "stdout",
     "output_type": "stream",
     "text": [
      "[[-0.04876837 -0.1256     -0.18222965 ... -0.00277019  0.02287864\n",
      "  -0.08301234]\n",
      " [-0.02149348  0.00189455  0.01980288 ... -0.02525121  0.0407012\n",
      "  -0.07585026]\n",
      " [ 0.06497169 -0.08037753 -0.09894573 ...  0.03261108  0.06978609\n",
      "  -0.16437092]\n",
      " ...\n",
      " [-0.23912643 -0.27358055  0.21813597 ... -0.2531368  -0.19724424\n",
      "   0.23694208]\n",
      " [ 0.12702031  0.04865703 -0.17625657 ...  0.11406311  0.15639141\n",
      "  -0.14847812]\n",
      " [ 0.34266758  0.29872575 -0.3397057  ...  0.4280181   0.4092056\n",
      "  -0.39608362]]\n"
     ]
    }
   ],
   "source": [
    "index_word = tokenizer.index_word\n",
    "embedding_layer = model.layers[0]\n",
    "embedding_weights = embedding_layer.get_weights()[0]\n",
    "print(embedding_weights)"
   ]
  },
  {
   "cell_type": "code",
   "execution_count": null,
   "metadata": {
    "id": "c9MqihtEkzQ9"
   },
   "outputs": [],
   "source": [
    "# Get the index-word dictionary\n",
    "reverse_word_index = tokenizer.index_word\n",
    "\n",
    "# Get the embedding layer from the model (i.e. first layer)\n",
    "embedding_layer = model.layers[0]\n",
    "\n",
    "# Get the weights of the embedding layer\n",
    "embedding_weights = embedding_layer.get_weights()[0]\n",
    "\n",
    "# Print the shape. Expected is (vocab_size, embedding_dim)\n",
    "print(embedding_weights.shape) \n"
   ]
  },
  {
   "cell_type": "code",
   "execution_count": 60,
   "metadata": {},
   "outputs": [],
   "source": [
    "with open('vecs.tsv','w',encoding ='utf-8') as out_v:\n",
    "    with open('meta.tsv','w',encoding = 'utf-8') as out_m:\n",
    "        for word_num in range(1, vocab_size):    \n",
    "            out_v.write(\"\\t\".join([str(x) for x in embedding_weights[word_num]])+\"\\n\")\n",
    "            out_m.write(index_word[word_num]+\"\\n\")\n"
   ]
  },
  {
   "cell_type": "code",
   "execution_count": 61,
   "metadata": {},
   "outputs": [
    {
     "data": {
      "text/plain": [
       "'0.34266758\\t0.29872575\\t-0.3397057\\t-0.38077965\\t-0.2626519\\t0.44791147\\t-0.40145048\\t-0.37787881\\t-0.38686827\\t-0.2792089\\t-0.43050537\\t-0.38795066\\t-0.45275158\\t0.4280181\\t0.4092056\\t-0.39608362\\n'"
      ]
     },
     "execution_count": 61,
     "metadata": {},
     "output_type": "execute_result"
    }
   ],
   "source": [
    "\"\\t\".join([str(x) for x in embedding_weights[word_num]])+\"\\n\""
   ]
  },
  {
   "cell_type": "code",
   "execution_count": null,
   "metadata": {
    "id": "LoBXVffknldU"
   },
   "outputs": [],
   "source": [
    "import io\n",
    "\n",
    "# Open writeable files\n",
    "out_v = io.open('vecs.tsv', 'w', encoding='utf-8')\n",
    "out_m = io.open('meta.tsv', 'w', encoding='utf-8')\n",
    "\n",
    "# Initialize the loop. Start counting at `1` because `0` is just for the padding\n",
    "for word_num in range(1, vocab_size):\n",
    "\n",
    "  # Get the word associated at the current index\n",
    "  word_name = reverse_word_index[word_num]\n",
    "\n",
    "  # Get the embedding weights associated with the current index\n",
    "  word_embedding = embedding_weights[word_num]\n",
    "\n",
    "  # Write the word name\n",
    "  out_m.write(word_name + \"\\n\")\n",
    "\n",
    "  # Write the word embedding\n",
    "  out_v.write('\\t'.join([str(x) for x in word_embedding]) + \"\\n\")\n",
    "\n",
    "# Close the files\n",
    "out_v.close()\n",
    "out_m.close()"
   ]
  },
  {
   "cell_type": "code",
   "execution_count": null,
   "metadata": {
    "id": "U4eZ5HtVnnEE"
   },
   "outputs": [],
   "source": [
    "# Import files utilities in Colab\n",
    "try:\n",
    "  from google.colab import files\n",
    "except ImportError:\n",
    "  pass\n",
    "\n",
    "# Download the files\n",
    "else:\n",
    "  files.download('vecs.tsv')\n",
    "  files.download('meta.tsv')"
   ]
  },
  {
   "cell_type": "code",
   "execution_count": 84,
   "metadata": {
    "scrolled": true
   },
   "outputs": [
    {
     "data": {
      "text/plain": [
       "array([[0.92238265]], dtype=float32)"
      ]
     },
     "execution_count": 84,
     "metadata": {},
     "output_type": "execute_result"
    }
   ],
   "source": [
    "#predict\n",
    "x1 = np.array([[1,2]+[0]*30])\n",
    "model.predict(x1)\n",
    "\n",
    "#or \n",
    "x2 = np.array([1,2]+[0]*30)\n",
    "np.expand_dims(np.array([1,2]+[0]*30),axis = 0)\n",
    "\n",
    "model.predict(x1)"
   ]
  },
  {
   "cell_type": "markdown",
   "metadata": {
    "id": "1GierJvdJWMt"
   },
   "source": [
    "## Wrap Up\n",
    "\n",
    "In this lab, you were able to build a binary classifier to detect sarcasm. You saw some overfitting in the initial attempt and hopefully, you were able to arrive at a better set of hyperparameters.\n",
    "\n",
    "So far, you've been tokenizing datasets from scratch and you're treating the vocab size as a hyperparameter. Furthermore, you're tokenizing the texts by building a vocabulary of full words. In the next lab, you will make use of a pre-tokenized dataset that uses a vocabulary of *subwords*. For instance, instead of having a uniqe token for the word `Tensorflow`, it will instead have a token each for `Ten`, `sor`, and `flow`. You will see the motivation and implications of having this design in the next exercise. See you there!"
   ]
  }
 ],
 "metadata": {
  "colab": {
   "collapsed_sections": [],
   "name": "C3_W2_Lab_2_sarcasm_classifier.ipynb",
   "private_outputs": true,
   "provenance": []
  },
  "kernelspec": {
   "display_name": "Python 3 (ipykernel)",
   "language": "python",
   "name": "python3"
  },
  "language_info": {
   "codemirror_mode": {
    "name": "ipython",
    "version": 3
   },
   "file_extension": ".py",
   "mimetype": "text/x-python",
   "name": "python",
   "nbconvert_exporter": "python",
   "pygments_lexer": "ipython3",
   "version": "3.9.7"
  }
 },
 "nbformat": 4,
 "nbformat_minor": 1
}
