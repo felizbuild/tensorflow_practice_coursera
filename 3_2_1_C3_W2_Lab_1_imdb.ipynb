{
 "cells": [
  {
   "cell_type": "markdown",
   "metadata": {},
   "source": [
    "<a href=\"https://colab.research.google.com/github/https-deeplearning-ai/tensorflow-1-public/blob/master/C3/W2/ungraded_labs/C3_W2_Lab_1_imdb.ipynb\" target=\"_parent\"><img src=\"https://colab.research.google.com/assets/colab-badge.svg\" alt=\"Open In Colab\"/></a>"
   ]
  },
  {
   "cell_type": "markdown",
   "metadata": {
    "id": "dGATMXZE4oAD"
   },
   "source": [
    "# Ungraded Lab: Training a binary classifier with the IMDB Reviews Dataset\n",
    "\n",
    "In this lab, you will be building a sentiment classification model to distinguish between positive and negative movie reviews. You will train it on the [IMDB Reviews](http://ai.stanford.edu/~amaas/data/sentiment/) dataset and visualize the word embeddings generated after training. \n",
    "\n",
    "Let's get started!\n"
   ]
  },
  {
   "cell_type": "markdown",
   "metadata": {
    "id": "sWt8QlOGpy1j"
   },
   "source": [
    "## Download the Dataset\n",
    "\n",
    "First, you will need to fetch the dataset you will be working on. This is hosted via [Tensorflow Datasets](https://www.tensorflow.org/datasets), a collection of prepared datasets for machine learning. If you're running this notebook on your local machine, make sure to have the [`tensorflow-datasets`](https://pypi.org/project/tensorflow-datasets/) package installed before importing it. You can install it via `pip` as shown in the commented cell below."
   ]
  },
  {
   "cell_type": "code",
   "execution_count": 1,
   "metadata": {},
   "outputs": [],
   "source": [
    "!pip install -q tensorflow-datasets"
   ]
  },
  {
   "cell_type": "code",
   "execution_count": null,
   "metadata": {
    "id": "vqB3GzBorwBh"
   },
   "outputs": [],
   "source": [
    "# Install this package if running on your local machine\n",
    "# !pip install -q tensorflow-datasets"
   ]
  },
  {
   "cell_type": "markdown",
   "metadata": {
    "id": "SpLsMxO2wDrn"
   },
   "source": [
    "The [`tfds.load`](https://www.tensorflow.org/datasets/api_docs/python/tfds/load) method downloads the dataset into your working directory. You can set the `with_info` parameter to `True` if you want to see the description of the dataset. The `as_supervised` parameter, on the other hand, is set to load the data as `(input, label)` pairs."
   ]
  },
  {
   "cell_type": "code",
   "execution_count": 1,
   "metadata": {
    "id": "_IoM4VFxWpMR"
   },
   "outputs": [],
   "source": [
    "import tensorflow_datasets as tfds\n",
    "\n",
    "# Load the IMDB Reviews dataset\n",
    "imdb, info = tfds.load(\"imdb_reviews\", with_info=True, as_supervised=True)"
   ]
  },
  {
   "cell_type": "code",
   "execution_count": 2,
   "metadata": {
    "id": "J3PEarpKw9_j"
   },
   "outputs": [
    {
     "name": "stdout",
     "output_type": "stream",
     "text": [
      "tfds.core.DatasetInfo(\n",
      "    name='imdb_reviews',\n",
      "    full_name='imdb_reviews/plain_text/1.0.0',\n",
      "    description=\"\"\"\n",
      "    Large Movie Review Dataset.\n",
      "    This is a dataset for binary sentiment classification containing substantially more data than previous benchmark datasets. We provide a set of 25,000 highly polar movie reviews for training, and 25,000 for testing. There is additional unlabeled data for use as well.\n",
      "    \"\"\",\n",
      "    config_description=\"\"\"\n",
      "    Plain text\n",
      "    \"\"\",\n",
      "    homepage='http://ai.stanford.edu/~amaas/data/sentiment/',\n",
      "    data_path='C:\\\\Users\\\\felix\\\\tensorflow_datasets\\\\imdb_reviews\\\\plain_text\\\\1.0.0',\n",
      "    download_size=80.23 MiB,\n",
      "    dataset_size=129.83 MiB,\n",
      "    features=FeaturesDict({\n",
      "        'label': ClassLabel(shape=(), dtype=tf.int64, num_classes=2),\n",
      "        'text': Text(shape=(), dtype=tf.string),\n",
      "    }),\n",
      "    supervised_keys=('text', 'label'),\n",
      "    disable_shuffling=False,\n",
      "    splits={\n",
      "        'test': <SplitInfo num_examples=25000, num_shards=1>,\n",
      "        'train': <SplitInfo num_examples=25000, num_shards=1>,\n",
      "        'unsupervised': <SplitInfo num_examples=50000, num_shards=1>,\n",
      "    },\n",
      "    citation=\"\"\"@InProceedings{maas-EtAl:2011:ACL-HLT2011,\n",
      "      author    = {Maas, Andrew L.  and  Daly, Raymond E.  and  Pham, Peter T.  and  Huang, Dan  and  Ng, Andrew Y.  and  Potts, Christopher},\n",
      "      title     = {Learning Word Vectors for Sentiment Analysis},\n",
      "      booktitle = {Proceedings of the 49th Annual Meeting of the Association for Computational Linguistics: Human Language Technologies},\n",
      "      month     = {June},\n",
      "      year      = {2011},\n",
      "      address   = {Portland, Oregon, USA},\n",
      "      publisher = {Association for Computational Linguistics},\n",
      "      pages     = {142--150},\n",
      "      url       = {http://www.aclweb.org/anthology/P11-1015}\n",
      "    }\"\"\",\n",
      ")\n"
     ]
    }
   ],
   "source": [
    "# Print information about the dataset\n",
    "print(info)"
   ]
  },
  {
   "cell_type": "markdown",
   "metadata": {
    "id": "kLRAoHil5poj"
   },
   "source": [
    "As you can see in the output above, there is a total of 100,000 examples in the dataset and it is split into `train`, `test` and `unsupervised` sets. For this lab, you will only use `train` and `test` sets because you will need labeled examples to train your model."
   ]
  },
  {
   "cell_type": "markdown",
   "metadata": {
    "id": "5EzNDkdkpvrv"
   },
   "source": [
    "## Split the dataset\n",
    "\n",
    "If you try printing the `imdb` dataset that you downloaded earlier, you will see that it contains the dictionary that points to [`tf.data.Dataset`](https://www.tensorflow.org/api_docs/python/tf/data/Dataset) objects. You will explore more of this class and its API in Course 4 of this specialization. For now, you can just think of it as a collection of examples."
   ]
  },
  {
   "cell_type": "code",
   "execution_count": 2,
   "metadata": {},
   "outputs": [
    {
     "data": {
      "text/plain": [
       "dict_keys(['train', 'test', 'unsupervised'])"
      ]
     },
     "execution_count": 2,
     "metadata": {},
     "output_type": "execute_result"
    }
   ],
   "source": [
    "imdb.keys()"
   ]
  },
  {
   "cell_type": "code",
   "execution_count": 3,
   "metadata": {},
   "outputs": [
    {
     "data": {
      "text/plain": [
       "dict_items([('train', <PrefetchDataset element_spec=(TensorSpec(shape=(), dtype=tf.string, name=None), TensorSpec(shape=(), dtype=tf.int64, name=None))>), ('test', <PrefetchDataset element_spec=(TensorSpec(shape=(), dtype=tf.string, name=None), TensorSpec(shape=(), dtype=tf.int64, name=None))>), ('unsupervised', <PrefetchDataset element_spec=(TensorSpec(shape=(), dtype=tf.string, name=None), TensorSpec(shape=(), dtype=tf.int64, name=None))>)])"
      ]
     },
     "execution_count": 3,
     "metadata": {},
     "output_type": "execute_result"
    }
   ],
   "source": [
    "imdb.items()"
   ]
  },
  {
   "cell_type": "code",
   "execution_count": 4,
   "metadata": {},
   "outputs": [
    {
     "name": "stdout",
     "output_type": "stream",
     "text": [
      "{'train': <PrefetchDataset element_spec=(TensorSpec(shape=(), dtype=tf.string, name=None), TensorSpec(shape=(), dtype=tf.int64, name=None))>, 'test': <PrefetchDataset element_spec=(TensorSpec(shape=(), dtype=tf.string, name=None), TensorSpec(shape=(), dtype=tf.int64, name=None))>, 'unsupervised': <PrefetchDataset element_spec=(TensorSpec(shape=(), dtype=tf.string, name=None), TensorSpec(shape=(), dtype=tf.int64, name=None))>}\n"
     ]
    }
   ],
   "source": [
    "print(imdb)"
   ]
  },
  {
   "cell_type": "code",
   "execution_count": 3,
   "metadata": {
    "id": "tA5397cs-EwN"
   },
   "outputs": [
    {
     "name": "stdout",
     "output_type": "stream",
     "text": [
      "{'train': <PrefetchDataset element_spec=(TensorSpec(shape=(), dtype=tf.string, name=None), TensorSpec(shape=(), dtype=tf.int64, name=None))>, 'test': <PrefetchDataset element_spec=(TensorSpec(shape=(), dtype=tf.string, name=None), TensorSpec(shape=(), dtype=tf.int64, name=None))>, 'unsupervised': <PrefetchDataset element_spec=(TensorSpec(shape=(), dtype=tf.string, name=None), TensorSpec(shape=(), dtype=tf.int64, name=None))>}\n"
     ]
    }
   ],
   "source": [
    "# Print the contents of the dataset you downloaded\n",
    "print(imdb)"
   ]
  },
  {
   "cell_type": "markdown",
   "metadata": {
    "id": "L4oiQ0waBduJ"
   },
   "source": [
    "You can preview the raw format of a few examples by using the [`take()`](https://www.tensorflow.org/api_docs/python/tf/data/Dataset#take) method and iterating over it as shown below:"
   ]
  },
  {
   "cell_type": "code",
   "execution_count": 5,
   "metadata": {},
   "outputs": [
    {
     "name": "stdout",
     "output_type": "stream",
     "text": [
      "(<tf.Tensor: shape=(), dtype=string, numpy=b\"This was an absolutely terrible movie. Don't be lured in by Christopher Walken or Michael Ironside. Both are great actors, but this must simply be their worst role in history. Even their great acting could not redeem this movie's ridiculous storyline. This movie is an early nineties US propaganda piece. The most pathetic scenes were those when the Columbian rebels were making their cases for revolutions. Maria Conchita Alonso appeared phony, and her pseudo-love affair with Walken was nothing but a pathetic emotional plug in a movie that was devoid of any real meaning. I am disappointed that there are movies like this, ruining actor's like Christopher Walken's good name. I could barely sit through it.\">, <tf.Tensor: shape=(), dtype=int64, numpy=0>)\n",
      "(<tf.Tensor: shape=(), dtype=string, numpy=b'I have been known to fall asleep during films, but this is usually due to a combination of things including, really tired, being warm and comfortable on the sette and having just eaten a lot. However on this occasion I fell asleep because the film was rubbish. The plot development was constant. Constantly slow and boring. Things seemed to happen, but with no explanation of what was causing them or why. I admit, I may have missed part of the film, but i watched the majority of it and everything just seemed to happen of its own accord without any real concern for anything else. I cant recommend this film at all.'>, <tf.Tensor: shape=(), dtype=int64, numpy=0>)\n",
      "(<tf.Tensor: shape=(), dtype=string, numpy=b'Mann photographs the Alberta Rocky Mountains in a superb fashion, and Jimmy Stewart and Walter Brennan give enjoyable performances as they always seem to do. <br /><br />But come on Hollywood - a Mountie telling the people of Dawson City, Yukon to elect themselves a marshal (yes a marshal!) and to enforce the law themselves, then gunfighters battling it out on the streets for control of the town? <br /><br />Nothing even remotely resembling that happened on the Canadian side of the border during the Klondike gold rush. Mr. Mann and company appear to have mistaken Dawson City for Deadwood, the Canadian North for the American Wild West.<br /><br />Canadian viewers be prepared for a Reefer Madness type of enjoyable howl with this ludicrous plot, or, to shake your head in disgust.'>, <tf.Tensor: shape=(), dtype=int64, numpy=0>)\n",
      "(<tf.Tensor: shape=(), dtype=string, numpy=b'This is the kind of film for a snowy Sunday afternoon when the rest of the world can go ahead with its own business as you descend into a big arm-chair and mellow for a couple of hours. Wonderful performances from Cher and Nicolas Cage (as always) gently row the plot along. There are no rapids to cross, no dangerous waters, just a warm and witty paddle through New York life at its best. A family film in every sense and one that deserves the praise it received.'>, <tf.Tensor: shape=(), dtype=int64, numpy=1>)\n"
     ]
    }
   ],
   "source": [
    "for example in imdb['train'].take(4):\n",
    "    print(example)"
   ]
  },
  {
   "cell_type": "code",
   "execution_count": 8,
   "metadata": {},
   "outputs": [
    {
     "name": "stdout",
     "output_type": "stream",
     "text": [
      "(<tf.Tensor: shape=(), dtype=string, numpy=b\"This was an absolutely terrible movie. Don't be lured in by Christopher Walken or Michael Ironside. Both are great actors, but this must simply be their worst role in history. Even their great acting could not redeem this movie's ridiculous storyline. This movie is an early nineties US propaganda piece. The most pathetic scenes were those when the Columbian rebels were making their cases for revolutions. Maria Conchita Alonso appeared phony, and her pseudo-love affair with Walken was nothing but a pathetic emotional plug in a movie that was devoid of any real meaning. I am disappointed that there are movies like this, ruining actor's like Christopher Walken's good name. I could barely sit through it.\">, <tf.Tensor: shape=(), dtype=int64, numpy=0>)\n",
      "(<tf.Tensor: shape=(), dtype=string, numpy=b'I have been known to fall asleep during films, but this is usually due to a combination of things including, really tired, being warm and comfortable on the sette and having just eaten a lot. However on this occasion I fell asleep because the film was rubbish. The plot development was constant. Constantly slow and boring. Things seemed to happen, but with no explanation of what was causing them or why. I admit, I may have missed part of the film, but i watched the majority of it and everything just seemed to happen of its own accord without any real concern for anything else. I cant recommend this film at all.'>, <tf.Tensor: shape=(), dtype=int64, numpy=0>)\n",
      "(<tf.Tensor: shape=(), dtype=string, numpy=b'Mann photographs the Alberta Rocky Mountains in a superb fashion, and Jimmy Stewart and Walter Brennan give enjoyable performances as they always seem to do. <br /><br />But come on Hollywood - a Mountie telling the people of Dawson City, Yukon to elect themselves a marshal (yes a marshal!) and to enforce the law themselves, then gunfighters battling it out on the streets for control of the town? <br /><br />Nothing even remotely resembling that happened on the Canadian side of the border during the Klondike gold rush. Mr. Mann and company appear to have mistaken Dawson City for Deadwood, the Canadian North for the American Wild West.<br /><br />Canadian viewers be prepared for a Reefer Madness type of enjoyable howl with this ludicrous plot, or, to shake your head in disgust.'>, <tf.Tensor: shape=(), dtype=int64, numpy=0>)\n",
      "(<tf.Tensor: shape=(), dtype=string, numpy=b'This is the kind of film for a snowy Sunday afternoon when the rest of the world can go ahead with its own business as you descend into a big arm-chair and mellow for a couple of hours. Wonderful performances from Cher and Nicolas Cage (as always) gently row the plot along. There are no rapids to cross, no dangerous waters, just a warm and witty paddle through New York life at its best. A family film in every sense and one that deserves the praise it received.'>, <tf.Tensor: shape=(), dtype=int64, numpy=1>)\n"
     ]
    }
   ],
   "source": [
    "for example in imdb['train'].take(4):\n",
    "    print(example)"
   ]
  },
  {
   "cell_type": "code",
   "execution_count": 9,
   "metadata": {
    "id": "2NgUwTDu7Q1O"
   },
   "outputs": [
    {
     "name": "stdout",
     "output_type": "stream",
     "text": [
      "(<tf.Tensor: shape=(), dtype=string, numpy=b\"This was an absolutely terrible movie. Don't be lured in by Christopher Walken or Michael Ironside. Both are great actors, but this must simply be their worst role in history. Even their great acting could not redeem this movie's ridiculous storyline. This movie is an early nineties US propaganda piece. The most pathetic scenes were those when the Columbian rebels were making their cases for revolutions. Maria Conchita Alonso appeared phony, and her pseudo-love affair with Walken was nothing but a pathetic emotional plug in a movie that was devoid of any real meaning. I am disappointed that there are movies like this, ruining actor's like Christopher Walken's good name. I could barely sit through it.\">, <tf.Tensor: shape=(), dtype=int64, numpy=0>)\n",
      "(<tf.Tensor: shape=(), dtype=string, numpy=b'I have been known to fall asleep during films, but this is usually due to a combination of things including, really tired, being warm and comfortable on the sette and having just eaten a lot. However on this occasion I fell asleep because the film was rubbish. The plot development was constant. Constantly slow and boring. Things seemed to happen, but with no explanation of what was causing them or why. I admit, I may have missed part of the film, but i watched the majority of it and everything just seemed to happen of its own accord without any real concern for anything else. I cant recommend this film at all.'>, <tf.Tensor: shape=(), dtype=int64, numpy=0>)\n"
     ]
    }
   ],
   "source": [
    "# Take 2 training examples and print its contents\n",
    "for example in imdb['train'].take(2):\n",
    "  print(example)"
   ]
  },
  {
   "cell_type": "markdown",
   "metadata": {
    "id": "hOtXX2gxB8pe"
   },
   "source": [
    "You can see that each example is a 2-element tuple of tensors containing the text first, then the label (shown in the `numpy()` property). The next cell below will take all the `train` and `test` sentences and labels into separate lists so you can preprocess the text and feed it to the model later."
   ]
  },
  {
   "cell_type": "code",
   "execution_count": 6,
   "metadata": {
    "id": "wHQ2Ko0zl7M4"
   },
   "outputs": [],
   "source": [
    "import numpy as np\n",
    "\n",
    "# Get the train and test sets\n",
    "train_data, test_data = imdb['train'], imdb['test']\n",
    "\n",
    "# Initialize sentences and labels lists\n",
    "training_sentences = []\n",
    "training_labels = []\n",
    "\n",
    "testing_sentences = []\n",
    "testing_labels = []\n",
    "\n",
    "# Loop over all training examples and save the sentences and labels\n",
    "for s,l in train_data:\n",
    "  training_sentences.append(s.numpy().decode('utf8'))\n",
    "  training_labels.append(l.numpy())\n",
    "\n",
    "# Loop over all test examples and save the sentences and labels\n",
    "for s,l in test_data:\n",
    "  testing_sentences.append(s.numpy().decode('utf8'))\n",
    "  testing_labels.append(l.numpy())\n",
    "\n",
    "# Convert labels lists to numpy array\n",
    "training_labels_final = np.array(training_labels)\n",
    "testing_labels_final = np.array(testing_labels)\n"
   ]
  },
  {
   "cell_type": "markdown",
   "metadata": {
    "id": "ePTIgXj3q8Sg"
   },
   "source": [
    "## Generate Padded Sequences\n",
    "\n",
    "Now you can do the text preprocessing steps you've learned last week. You will tokenize the sentences and pad them to a uniform length. We've separated the parameters into its own code cell below so it will be easy for you to tweak it later if you want."
   ]
  },
  {
   "cell_type": "code",
   "execution_count": 7,
   "metadata": {
    "id": "lggoZqYUGYgX"
   },
   "outputs": [],
   "source": [
    "# Parameters\n",
    "\n",
    "vocab_size = 10000\n",
    "max_length = 120\n",
    "embedding_dim = 16\n",
    "trunc_type='post'\n",
    "oov_tok = \"<OOV>\""
   ]
  },
  {
   "cell_type": "code",
   "execution_count": 8,
   "metadata": {
    "id": "7n15yyMdmoH1"
   },
   "outputs": [],
   "source": [
    "from tensorflow.keras.preprocessing.text import Tokenizer\n",
    "from tensorflow.keras.preprocessing.sequence import pad_sequences\n",
    "\n",
    "# Initialize the Tokenizer class\n",
    "tokenizer = Tokenizer(num_words = vocab_size, oov_token=oov_tok)\n",
    "\n",
    "# Generate the word index dictionary for the training sentences\n",
    "tokenizer.fit_on_texts(training_sentences)\n",
    "word_index = tokenizer.word_index\n",
    "\n",
    "# Generate and pad the training sequences\n",
    "sequences = tokenizer.texts_to_sequences(training_sentences)\n",
    "padded = pad_sequences(sequences,maxlen=max_length, truncating=trunc_type)\n",
    "\n",
    "# Generate and pad the test sequences\n",
    "testing_sequences = tokenizer.texts_to_sequences(testing_sentences)\n",
    "testing_padded = pad_sequences(testing_sequences,maxlen=max_length)\n"
   ]
  },
  {
   "cell_type": "markdown",
   "metadata": {
    "id": "N2rCmp7ArGL_"
   },
   "source": [
    "## Build and Compile the Model\n",
    "\n",
    "With the data already preprocessed, you can proceed to building your sentiment classification model. The input will be an [`Embedding`](https://www.tensorflow.org/api_docs/python/tf/keras/layers/Embedding) layer. The main idea here is to represent each word in your vocabulary with vectors. These vectors have trainable weights so as your neural network learns, words that are most likely to appear in a positive tweet will converge towards similar weights. Similarly, words in negative tweets will be clustered more closely together. You can read more about word embeddings [here](https://www.tensorflow.org/text/guide/word_embeddings).\n",
    "\n",
    "After the `Embedding` layer, you will flatten its output and feed it into a `Dense` layer. You will explore other architectures for these hidden layers in the next labs.\n",
    "\n",
    "The output layer would be a single neuron with a sigmoid activation to distinguish between the 2 classes. As is typical with binary classifiers, you will use the `binary_crossentropy` as your loss function while training."
   ]
  },
  {
   "cell_type": "code",
   "execution_count": 9,
   "metadata": {
    "id": "5NEpdhb8AxID"
   },
   "outputs": [
    {
     "name": "stdout",
     "output_type": "stream",
     "text": [
      "Model: \"sequential\"\n",
      "_________________________________________________________________\n",
      " Layer (type)                Output Shape              Param #   \n",
      "=================================================================\n",
      " embedding (Embedding)       (None, 120, 16)           160000    \n",
      "                                                                 \n",
      " flatten (Flatten)           (None, 1920)              0         \n",
      "                                                                 \n",
      " dense (Dense)               (None, 6)                 11526     \n",
      "                                                                 \n",
      " dense_1 (Dense)             (None, 1)                 7         \n",
      "                                                                 \n",
      "=================================================================\n",
      "Total params: 171,533\n",
      "Trainable params: 171,533\n",
      "Non-trainable params: 0\n",
      "_________________________________________________________________\n"
     ]
    }
   ],
   "source": [
    "import tensorflow as tf\n",
    "\n",
    "# Build the model\n",
    "model = tf.keras.Sequential([\n",
    "    tf.keras.layers.Embedding(vocab_size, embedding_dim, input_length=max_length),\n",
    "    tf.keras.layers.Flatten(),\n",
    "    tf.keras.layers.Dense(6, activation='relu'),\n",
    "    tf.keras.layers.Dense(1, activation='sigmoid')\n",
    "])\n",
    "\n",
    "# Setup the training parameters\n",
    "model.compile(loss='binary_crossentropy',optimizer='adam',metrics=['accuracy'])\n",
    "\n",
    "# Print the model summary\n",
    "model.summary()"
   ]
  },
  {
   "cell_type": "markdown",
   "metadata": {
    "id": "e8gbnoRdqp8O"
   },
   "source": [
    "## Train the Model\n",
    "\n",
    "Next, of course, is to train your model. With the current settings, you will get near perfect training accuracy after just 5 epochs but the validation accuracy will plateau at around 83%. See if you can still improve this by adjusting some of the parameters earlier (e.g. the `vocab_size`, number of `Dense` neurons, number of epochs, etc.). "
   ]
  },
  {
   "cell_type": "code",
   "execution_count": 10,
   "metadata": {
    "id": "V5LLrXC-uNX6"
   },
   "outputs": [
    {
     "name": "stdout",
     "output_type": "stream",
     "text": [
      "Epoch 1/10\n",
      "782/782 [==============================] - 2s 2ms/step - loss: 0.4791 - accuracy: 0.7535 - val_loss: 0.3400 - val_accuracy: 0.8491\n",
      "Epoch 2/10\n",
      "782/782 [==============================] - 1s 2ms/step - loss: 0.2398 - accuracy: 0.9084 - val_loss: 0.3659 - val_accuracy: 0.8402\n",
      "Epoch 3/10\n",
      "782/782 [==============================] - 1s 1ms/step - loss: 0.0953 - accuracy: 0.9750 - val_loss: 0.4487 - val_accuracy: 0.8273\n",
      "Epoch 4/10\n",
      "782/782 [==============================] - 1s 2ms/step - loss: 0.0249 - accuracy: 0.9967 - val_loss: 0.5322 - val_accuracy: 0.8263\n",
      "Epoch 5/10\n",
      "782/782 [==============================] - 1s 2ms/step - loss: 0.0079 - accuracy: 0.9993 - val_loss: 0.6436 - val_accuracy: 0.8189\n",
      "Epoch 6/10\n",
      "782/782 [==============================] - 1s 1ms/step - loss: 0.0028 - accuracy: 0.9998 - val_loss: 0.6443 - val_accuracy: 0.8247\n",
      "Epoch 7/10\n",
      "782/782 [==============================] - 1s 1ms/step - loss: 0.0010 - accuracy: 1.0000 - val_loss: 0.6862 - val_accuracy: 0.8278\n",
      "Epoch 8/10\n",
      "782/782 [==============================] - 1s 1ms/step - loss: 5.0621e-04 - accuracy: 1.0000 - val_loss: 0.7223 - val_accuracy: 0.8279\n",
      "Epoch 9/10\n",
      "782/782 [==============================] - 1s 1ms/step - loss: 2.9267e-04 - accuracy: 1.0000 - val_loss: 0.7620 - val_accuracy: 0.8286\n",
      "Epoch 10/10\n",
      "782/782 [==============================] - 1s 1ms/step - loss: 1.7303e-04 - accuracy: 1.0000 - val_loss: 0.7965 - val_accuracy: 0.8281\n"
     ]
    },
    {
     "data": {
      "text/plain": [
       "<keras.callbacks.History at 0x2072879eb20>"
      ]
     },
     "execution_count": 10,
     "metadata": {},
     "output_type": "execute_result"
    }
   ],
   "source": [
    "num_epochs = 10\n",
    "\n",
    "# Train the model\n",
    "model.fit(padded, training_labels_final, epochs=num_epochs, validation_data=(testing_padded, testing_labels_final))"
   ]
  },
  {
   "cell_type": "markdown",
   "metadata": {
    "id": "mroDvjEJqwm4"
   },
   "source": [
    "## Visualize Word Embeddings\n",
    "\n",
    "After training, you can visualize the trained weights in the `Embedding` layer to see words that are clustered together. The [Tensorflow Embedding Projector](https://projector.tensorflow.org/) is able to reduce the 16-dimension vectors you defined earlier into fewer components so it can be plotted in the projector. First, you will need to get these weights and you can do that with the cell below:"
   ]
  },
  {
   "cell_type": "code",
   "execution_count": 11,
   "metadata": {},
   "outputs": [],
   "source": [
    "embedding_layer = model.layers[0]"
   ]
  },
  {
   "cell_type": "code",
   "execution_count": 12,
   "metadata": {},
   "outputs": [],
   "source": [
    "embedding_weights = embedding_layer.get_weights()[0]"
   ]
  },
  {
   "cell_type": "code",
   "execution_count": 13,
   "metadata": {},
   "outputs": [
    {
     "data": {
      "text/plain": [
       "array([[ 0.0075053 ,  0.07998259, -0.06095548, ..., -0.02437475,\n",
       "        -0.01771617,  0.07187636],\n",
       "       [ 0.02170102,  0.13737105, -0.00635697, ..., -0.06692272,\n",
       "        -0.07445233,  0.1406395 ],\n",
       "       [ 0.04857281,  0.19415358, -0.10159649, ..., -0.01312353,\n",
       "        -0.00827089,  0.13471963],\n",
       "       ...,\n",
       "       [ 0.02712964,  0.03167299,  0.02490241, ..., -0.11116462,\n",
       "         0.09086546,  0.02405158],\n",
       "       [-0.00133597,  0.07509407, -0.05103984, ..., -0.05781606,\n",
       "         0.06262231, -0.10116822],\n",
       "       [ 0.14285284,  0.1722627 ,  0.05824926, ..., -0.10260284,\n",
       "         0.01032781,  0.02430569]], dtype=float32)"
      ]
     },
     "execution_count": 13,
     "metadata": {},
     "output_type": "execute_result"
    }
   ],
   "source": [
    "embedding_weights"
   ]
  },
  {
   "cell_type": "code",
   "execution_count": 16,
   "metadata": {},
   "outputs": [],
   "source": [
    "embedding_weights = embedding_layer.get_weights()[0]"
   ]
  },
  {
   "cell_type": "code",
   "execution_count": 19,
   "metadata": {},
   "outputs": [
    {
     "data": {
      "text/plain": [
       "array([ 0.00568568, -0.07971042, -0.07296965, -0.01056443,  0.00150473,\n",
       "       -0.03550177,  0.01440005, -0.02318834,  0.04134107,  0.01864896,\n",
       "       -0.00348773, -0.03021611,  0.0209159 , -0.04070188,  0.03972938,\n",
       "        0.00197923], dtype=float32)"
      ]
     },
     "execution_count": 19,
     "metadata": {},
     "output_type": "execute_result"
    }
   ],
   "source": [
    "embedding_weights[0]"
   ]
  },
  {
   "cell_type": "code",
   "execution_count": 17,
   "metadata": {},
   "outputs": [
    {
     "data": {
      "text/plain": [
       "(10000, 16)"
      ]
     },
     "execution_count": 17,
     "metadata": {},
     "output_type": "execute_result"
    }
   ],
   "source": [
    "embedding_weights.shape"
   ]
  },
  {
   "cell_type": "code",
   "execution_count": null,
   "metadata": {
    "id": "yAmjJqEyCOF_"
   },
   "outputs": [],
   "source": [
    "# Get the embedding layer from the model (i.e. first layer)\n",
    "embedding_layer = model.layers[0]\n",
    "\n",
    "# Get the weights of the embedding layer\n",
    "embedding_weights = embedding_layer.get_weights()[0]\n",
    "\n",
    "# Print the shape. Expected is (vocab_size, embedding_dim)\n",
    "print(embedding_weights.shape) "
   ]
  },
  {
   "cell_type": "markdown",
   "metadata": {
    "id": "DEuG9AqIuF6i"
   },
   "source": [
    "You will need to generate two files:\n",
    "\n",
    "* `vecs.tsv` - contains the vector weights of each word in the vocabulary\n",
    "* `meta.tsv` - contains the words in the vocabulary"
   ]
  },
  {
   "cell_type": "markdown",
   "metadata": {
    "id": "1u4Ty097uRYP"
   },
   "source": [
    "For this, it is useful to have `reverse_word_index` dictionary so you can quickly lookup a word based on a given index. For example, `reverse_word_index[1]` will return your OOV token because it is always at index = 1. Fortunately, the `Tokenizer` class already provides this dictionary through its `index_word` property. Yes, as the name implies, it is the reverse of the `word_index` property which you used earlier!"
   ]
  },
  {
   "cell_type": "code",
   "execution_count": 17,
   "metadata": {},
   "outputs": [
    {
     "data": {
      "text/plain": [
       "{1: '<OOV>',\n",
       " 2: 'the',\n",
       " 3: 'and',\n",
       " 4: 'a',\n",
       " 5: 'of',\n",
       " 6: 'to',\n",
       " 7: 'is',\n",
       " 8: 'br',\n",
       " 9: 'in',\n",
       " 10: 'it',\n",
       " 11: 'i',\n",
       " 12: 'this',\n",
       " 13: 'that',\n",
       " 14: 'was',\n",
       " 15: 'as',\n",
       " 16: 'for',\n",
       " 17: 'with',\n",
       " 18: 'movie',\n",
       " 19: 'but',\n",
       " 20: 'film',\n",
       " 21: 'on',\n",
       " 22: 'not',\n",
       " 23: 'you',\n",
       " 24: 'are',\n",
       " 25: 'his',\n",
       " 26: 'have',\n",
       " 27: 'he',\n",
       " 28: 'be',\n",
       " 29: 'one',\n",
       " 30: 'all',\n",
       " 31: 'at',\n",
       " 32: 'by',\n",
       " 33: 'an',\n",
       " 34: 'they',\n",
       " 35: 'who',\n",
       " 36: 'so',\n",
       " 37: 'from',\n",
       " 38: 'like',\n",
       " 39: 'her',\n",
       " 40: 'or',\n",
       " 41: 'just',\n",
       " 42: 'about',\n",
       " 43: \"it's\",\n",
       " 44: 'out',\n",
       " 45: 'if',\n",
       " 46: 'has',\n",
       " 47: 'some',\n",
       " 48: 'there',\n",
       " 49: 'what',\n",
       " 50: 'good',\n",
       " 51: 'more',\n",
       " 52: 'when',\n",
       " 53: 'very',\n",
       " 54: 'up',\n",
       " 55: 'no',\n",
       " 56: 'time',\n",
       " 57: 'she',\n",
       " 58: 'even',\n",
       " 59: 'my',\n",
       " 60: 'would',\n",
       " 61: 'which',\n",
       " 62: 'only',\n",
       " 63: 'story',\n",
       " 64: 'really',\n",
       " 65: 'see',\n",
       " 66: 'their',\n",
       " 67: 'had',\n",
       " 68: 'can',\n",
       " 69: 'were',\n",
       " 70: 'me',\n",
       " 71: 'well',\n",
       " 72: 'than',\n",
       " 73: 'we',\n",
       " 74: 'much',\n",
       " 75: 'been',\n",
       " 76: 'bad',\n",
       " 77: 'get',\n",
       " 78: 'will',\n",
       " 79: 'do',\n",
       " 80: 'also',\n",
       " 81: 'into',\n",
       " 82: 'people',\n",
       " 83: 'other',\n",
       " 84: 'first',\n",
       " 85: 'great',\n",
       " 86: 'because',\n",
       " 87: 'how',\n",
       " 88: 'him',\n",
       " 89: 'most',\n",
       " 90: \"don't\",\n",
       " 91: 'made',\n",
       " 92: 'its',\n",
       " 93: 'then',\n",
       " 94: 'way',\n",
       " 95: 'make',\n",
       " 96: 'them',\n",
       " 97: 'too',\n",
       " 98: 'could',\n",
       " 99: 'any',\n",
       " 100: 'movies',\n",
       " 101: 'after',\n",
       " 102: 'think',\n",
       " 103: 'characters',\n",
       " 104: 'watch',\n",
       " 105: 'two',\n",
       " 106: 'films',\n",
       " 107: 'character',\n",
       " 108: 'seen',\n",
       " 109: 'many',\n",
       " 110: 'being',\n",
       " 111: 'life',\n",
       " 112: 'plot',\n",
       " 113: 'never',\n",
       " 114: 'acting',\n",
       " 115: 'little',\n",
       " 116: 'best',\n",
       " 117: 'love',\n",
       " 118: 'over',\n",
       " 119: 'where',\n",
       " 120: 'did',\n",
       " 121: 'show',\n",
       " 122: 'know',\n",
       " 123: 'off',\n",
       " 124: 'ever',\n",
       " 125: 'does',\n",
       " 126: 'better',\n",
       " 127: 'your',\n",
       " 128: 'end',\n",
       " 129: 'still',\n",
       " 130: 'man',\n",
       " 131: 'here',\n",
       " 132: 'these',\n",
       " 133: 'say',\n",
       " 134: 'scene',\n",
       " 135: 'while',\n",
       " 136: 'why',\n",
       " 137: 'scenes',\n",
       " 138: 'go',\n",
       " 139: 'such',\n",
       " 140: 'something',\n",
       " 141: 'through',\n",
       " 142: 'should',\n",
       " 143: 'back',\n",
       " 144: \"i'm\",\n",
       " 145: 'real',\n",
       " 146: 'those',\n",
       " 147: 'watching',\n",
       " 148: 'now',\n",
       " 149: 'though',\n",
       " 150: \"doesn't\",\n",
       " 151: 'years',\n",
       " 152: 'old',\n",
       " 153: 'thing',\n",
       " 154: 'actors',\n",
       " 155: 'work',\n",
       " 156: '10',\n",
       " 157: 'before',\n",
       " 158: 'another',\n",
       " 159: \"didn't\",\n",
       " 160: 'new',\n",
       " 161: 'funny',\n",
       " 162: 'nothing',\n",
       " 163: 'actually',\n",
       " 164: 'makes',\n",
       " 165: 'director',\n",
       " 166: 'look',\n",
       " 167: 'find',\n",
       " 168: 'going',\n",
       " 169: 'few',\n",
       " 170: 'same',\n",
       " 171: 'part',\n",
       " 172: 'again',\n",
       " 173: 'every',\n",
       " 174: 'lot',\n",
       " 175: 'cast',\n",
       " 176: 'us',\n",
       " 177: 'quite',\n",
       " 178: 'down',\n",
       " 179: 'want',\n",
       " 180: 'world',\n",
       " 181: 'things',\n",
       " 182: 'pretty',\n",
       " 183: 'young',\n",
       " 184: 'seems',\n",
       " 185: 'around',\n",
       " 186: 'got',\n",
       " 187: 'horror',\n",
       " 188: 'however',\n",
       " 189: \"can't\",\n",
       " 190: 'fact',\n",
       " 191: 'take',\n",
       " 192: 'big',\n",
       " 193: 'enough',\n",
       " 194: 'long',\n",
       " 195: 'thought',\n",
       " 196: \"that's\",\n",
       " 197: 'both',\n",
       " 198: 'between',\n",
       " 199: 'series',\n",
       " 200: 'give',\n",
       " 201: 'may',\n",
       " 202: 'original',\n",
       " 203: 'own',\n",
       " 204: 'action',\n",
       " 205: \"i've\",\n",
       " 206: 'right',\n",
       " 207: 'without',\n",
       " 208: 'always',\n",
       " 209: 'times',\n",
       " 210: 'comedy',\n",
       " 211: 'point',\n",
       " 212: 'gets',\n",
       " 213: 'must',\n",
       " 214: 'come',\n",
       " 215: 'role',\n",
       " 216: \"isn't\",\n",
       " 217: 'saw',\n",
       " 218: 'almost',\n",
       " 219: 'interesting',\n",
       " 220: 'least',\n",
       " 221: 'family',\n",
       " 222: 'done',\n",
       " 223: \"there's\",\n",
       " 224: 'whole',\n",
       " 225: 'bit',\n",
       " 226: 'music',\n",
       " 227: 'script',\n",
       " 228: 'far',\n",
       " 229: 'making',\n",
       " 230: 'anything',\n",
       " 231: 'guy',\n",
       " 232: 'minutes',\n",
       " 233: 'feel',\n",
       " 234: 'last',\n",
       " 235: 'since',\n",
       " 236: 'might',\n",
       " 237: 'performance',\n",
       " 238: \"he's\",\n",
       " 239: '2',\n",
       " 240: 'probably',\n",
       " 241: 'kind',\n",
       " 242: 'am',\n",
       " 243: 'away',\n",
       " 244: 'yet',\n",
       " 245: 'rather',\n",
       " 246: 'tv',\n",
       " 247: 'worst',\n",
       " 248: 'girl',\n",
       " 249: 'day',\n",
       " 250: 'sure',\n",
       " 251: 'fun',\n",
       " 252: 'hard',\n",
       " 253: 'woman',\n",
       " 254: 'played',\n",
       " 255: 'each',\n",
       " 256: 'found',\n",
       " 257: 'anyone',\n",
       " 258: 'having',\n",
       " 259: 'especially',\n",
       " 260: 'although',\n",
       " 261: 'our',\n",
       " 262: 'course',\n",
       " 263: 'believe',\n",
       " 264: 'comes',\n",
       " 265: 'looking',\n",
       " 266: 'screen',\n",
       " 267: 'trying',\n",
       " 268: 'set',\n",
       " 269: 'goes',\n",
       " 270: 'looks',\n",
       " 271: 'place',\n",
       " 272: 'book',\n",
       " 273: 'different',\n",
       " 274: 'put',\n",
       " 275: 'ending',\n",
       " 276: 'money',\n",
       " 277: 'maybe',\n",
       " 278: 'once',\n",
       " 279: 'sense',\n",
       " 280: 'reason',\n",
       " 281: 'true',\n",
       " 282: 'actor',\n",
       " 283: 'everything',\n",
       " 284: \"wasn't\",\n",
       " 285: 'shows',\n",
       " 286: 'dvd',\n",
       " 287: 'three',\n",
       " 288: 'worth',\n",
       " 289: 'year',\n",
       " 290: 'job',\n",
       " 291: 'main',\n",
       " 292: 'someone',\n",
       " 293: 'together',\n",
       " 294: 'watched',\n",
       " 295: 'play',\n",
       " 296: 'american',\n",
       " 297: 'plays',\n",
       " 298: '1',\n",
       " 299: 'said',\n",
       " 300: 'effects',\n",
       " 301: 'later',\n",
       " 302: 'takes',\n",
       " 303: 'instead',\n",
       " 304: 'seem',\n",
       " 305: 'beautiful',\n",
       " 306: 'john',\n",
       " 307: 'himself',\n",
       " 308: 'version',\n",
       " 309: 'audience',\n",
       " 310: 'high',\n",
       " 311: 'house',\n",
       " 312: 'night',\n",
       " 313: 'during',\n",
       " 314: 'everyone',\n",
       " 315: 'left',\n",
       " 316: 'special',\n",
       " 317: 'seeing',\n",
       " 318: 'half',\n",
       " 319: 'excellent',\n",
       " 320: 'wife',\n",
       " 321: 'star',\n",
       " 322: 'shot',\n",
       " 323: 'war',\n",
       " 324: 'idea',\n",
       " 325: 'nice',\n",
       " 326: 'black',\n",
       " 327: 'less',\n",
       " 328: 'mind',\n",
       " 329: 'simply',\n",
       " 330: 'read',\n",
       " 331: 'second',\n",
       " 332: 'else',\n",
       " 333: \"you're\",\n",
       " 334: 'father',\n",
       " 335: 'fan',\n",
       " 336: 'help',\n",
       " 337: 'poor',\n",
       " 338: 'completely',\n",
       " 339: 'death',\n",
       " 340: '3',\n",
       " 341: 'used',\n",
       " 342: 'home',\n",
       " 343: 'either',\n",
       " 344: 'short',\n",
       " 345: 'line',\n",
       " 346: 'given',\n",
       " 347: 'men',\n",
       " 348: 'top',\n",
       " 349: 'dead',\n",
       " 350: 'budget',\n",
       " 351: 'try',\n",
       " 352: 'performances',\n",
       " 353: 'wrong',\n",
       " 354: 'classic',\n",
       " 355: 'boring',\n",
       " 356: 'enjoy',\n",
       " 357: 'need',\n",
       " 358: 'rest',\n",
       " 359: 'use',\n",
       " 360: 'hollywood',\n",
       " 361: 'kids',\n",
       " 362: 'low',\n",
       " 363: 'production',\n",
       " 364: 'until',\n",
       " 365: 'along',\n",
       " 366: 'full',\n",
       " 367: 'friends',\n",
       " 368: 'camera',\n",
       " 369: 'truly',\n",
       " 370: 'women',\n",
       " 371: 'awful',\n",
       " 372: 'video',\n",
       " 373: 'next',\n",
       " 374: 'tell',\n",
       " 375: 'remember',\n",
       " 376: 'couple',\n",
       " 377: 'stupid',\n",
       " 378: 'start',\n",
       " 379: 'stars',\n",
       " 380: 'perhaps',\n",
       " 381: 'mean',\n",
       " 382: 'sex',\n",
       " 383: 'came',\n",
       " 384: 'recommend',\n",
       " 385: 'let',\n",
       " 386: 'moments',\n",
       " 387: 'wonderful',\n",
       " 388: 'episode',\n",
       " 389: 'understand',\n",
       " 390: 'small',\n",
       " 391: 'face',\n",
       " 392: 'terrible',\n",
       " 393: 'school',\n",
       " 394: 'playing',\n",
       " 395: 'getting',\n",
       " 396: 'written',\n",
       " 397: 'often',\n",
       " 398: 'doing',\n",
       " 399: 'keep',\n",
       " 400: 'early',\n",
       " 401: 'name',\n",
       " 402: 'perfect',\n",
       " 403: 'style',\n",
       " 404: 'human',\n",
       " 405: 'definitely',\n",
       " 406: 'others',\n",
       " 407: 'gives',\n",
       " 408: 'itself',\n",
       " 409: 'lines',\n",
       " 410: 'live',\n",
       " 411: 'become',\n",
       " 412: 'person',\n",
       " 413: 'dialogue',\n",
       " 414: 'lost',\n",
       " 415: 'finally',\n",
       " 416: 'piece',\n",
       " 417: 'head',\n",
       " 418: 'case',\n",
       " 419: 'felt',\n",
       " 420: 'yes',\n",
       " 421: 'liked',\n",
       " 422: 'supposed',\n",
       " 423: 'title',\n",
       " 424: \"couldn't\",\n",
       " 425: 'absolutely',\n",
       " 426: 'white',\n",
       " 427: 'against',\n",
       " 428: 'boy',\n",
       " 429: 'picture',\n",
       " 430: 'sort',\n",
       " 431: 'worse',\n",
       " 432: 'certainly',\n",
       " 433: 'went',\n",
       " 434: 'entire',\n",
       " 435: 'cinema',\n",
       " 436: 'waste',\n",
       " 437: 'problem',\n",
       " 438: 'hope',\n",
       " 439: \"she's\",\n",
       " 440: 'entertaining',\n",
       " 441: 'mr',\n",
       " 442: 'overall',\n",
       " 443: 'evil',\n",
       " 444: 'called',\n",
       " 445: 'loved',\n",
       " 446: 'based',\n",
       " 447: 'oh',\n",
       " 448: 'several',\n",
       " 449: 'fans',\n",
       " 450: 'mother',\n",
       " 451: 'drama',\n",
       " 452: 'beginning',\n",
       " 453: 'killer',\n",
       " 454: 'lives',\n",
       " 455: '5',\n",
       " 456: 'direction',\n",
       " 457: 'care',\n",
       " 458: 'becomes',\n",
       " 459: 'already',\n",
       " 460: 'laugh',\n",
       " 461: 'example',\n",
       " 462: 'friend',\n",
       " 463: 'dark',\n",
       " 464: 'despite',\n",
       " 465: 'under',\n",
       " 466: 'seemed',\n",
       " 467: 'throughout',\n",
       " 468: '4',\n",
       " 469: 'turn',\n",
       " 470: 'unfortunately',\n",
       " 471: 'wanted',\n",
       " 472: \"i'd\",\n",
       " 473: '\\x96',\n",
       " 474: 'children',\n",
       " 475: 'final',\n",
       " 476: 'fine',\n",
       " 477: 'history',\n",
       " 478: 'amazing',\n",
       " 479: 'sound',\n",
       " 480: 'guess',\n",
       " 481: 'heart',\n",
       " 482: 'totally',\n",
       " 483: 'humor',\n",
       " 484: 'lead',\n",
       " 485: 'writing',\n",
       " 486: 'michael',\n",
       " 487: 'quality',\n",
       " 488: \"you'll\",\n",
       " 489: 'close',\n",
       " 490: 'son',\n",
       " 491: 'wants',\n",
       " 492: 'guys',\n",
       " 493: 'works',\n",
       " 494: 'behind',\n",
       " 495: 'tries',\n",
       " 496: 'art',\n",
       " 497: 'side',\n",
       " 498: 'game',\n",
       " 499: 'past',\n",
       " 500: 'able',\n",
       " 501: 'b',\n",
       " 502: 'days',\n",
       " 503: 'turns',\n",
       " 504: \"they're\",\n",
       " 505: 'child',\n",
       " 506: 'hand',\n",
       " 507: 'flick',\n",
       " 508: 'enjoyed',\n",
       " 509: 'act',\n",
       " 510: 'genre',\n",
       " 511: 'town',\n",
       " 512: 'favorite',\n",
       " 513: 'soon',\n",
       " 514: 'kill',\n",
       " 515: 'starts',\n",
       " 516: 'sometimes',\n",
       " 517: 'gave',\n",
       " 518: 'car',\n",
       " 519: 'run',\n",
       " 520: 'late',\n",
       " 521: 'eyes',\n",
       " 522: 'etc',\n",
       " 523: 'actress',\n",
       " 524: 'directed',\n",
       " 525: 'horrible',\n",
       " 526: \"won't\",\n",
       " 527: 'brilliant',\n",
       " 528: 'viewer',\n",
       " 529: 'parts',\n",
       " 530: 'themselves',\n",
       " 531: 'self',\n",
       " 532: 'hour',\n",
       " 533: 'expect',\n",
       " 534: 'thinking',\n",
       " 535: 'stories',\n",
       " 536: 'stuff',\n",
       " 537: 'girls',\n",
       " 538: 'obviously',\n",
       " 539: 'blood',\n",
       " 540: 'decent',\n",
       " 541: 'city',\n",
       " 542: 'voice',\n",
       " 543: 'highly',\n",
       " 544: 'myself',\n",
       " 545: 'feeling',\n",
       " 546: 'fight',\n",
       " 547: 'except',\n",
       " 548: 'slow',\n",
       " 549: 'matter',\n",
       " 550: 'type',\n",
       " 551: 'anyway',\n",
       " 552: 'kid',\n",
       " 553: 'roles',\n",
       " 554: 'killed',\n",
       " 555: 'heard',\n",
       " 556: 'age',\n",
       " 557: 'says',\n",
       " 558: 'god',\n",
       " 559: 'moment',\n",
       " 560: 'took',\n",
       " 561: 'leave',\n",
       " 562: 'writer',\n",
       " 563: 'strong',\n",
       " 564: 'cannot',\n",
       " 565: 'violence',\n",
       " 566: 'police',\n",
       " 567: 'hit',\n",
       " 568: 'stop',\n",
       " 569: 'happens',\n",
       " 570: 'particularly',\n",
       " 571: 'known',\n",
       " 572: 'happened',\n",
       " 573: 'involved',\n",
       " 574: 'extremely',\n",
       " 575: 'daughter',\n",
       " 576: 'obvious',\n",
       " 577: 'told',\n",
       " 578: 'chance',\n",
       " 579: 'living',\n",
       " 580: 'coming',\n",
       " 581: 'lack',\n",
       " 582: 'experience',\n",
       " 583: 'alone',\n",
       " 584: 'including',\n",
       " 585: \"wouldn't\",\n",
       " 586: 'murder',\n",
       " 587: 'attempt',\n",
       " 588: 's',\n",
       " 589: 'james',\n",
       " 590: 'please',\n",
       " 591: 'happen',\n",
       " 592: 'wonder',\n",
       " 593: 'crap',\n",
       " 594: 'ago',\n",
       " 595: \"film's\",\n",
       " 596: 'brother',\n",
       " 597: 'gore',\n",
       " 598: 'complete',\n",
       " 599: 'none',\n",
       " 600: 'interest',\n",
       " 601: 'score',\n",
       " 602: 'group',\n",
       " 603: 'cut',\n",
       " 604: 'simple',\n",
       " 605: 'save',\n",
       " 606: 'ok',\n",
       " 607: 'hell',\n",
       " 608: 'looked',\n",
       " 609: 'number',\n",
       " 610: 'career',\n",
       " 611: 'song',\n",
       " 612: 'possible',\n",
       " 613: 'seriously',\n",
       " 614: 'annoying',\n",
       " 615: 'shown',\n",
       " 616: 'exactly',\n",
       " 617: 'sad',\n",
       " 618: 'running',\n",
       " 619: 'musical',\n",
       " 620: 'serious',\n",
       " 621: 'yourself',\n",
       " 622: 'taken',\n",
       " 623: 'released',\n",
       " 624: 'whose',\n",
       " 625: 'david',\n",
       " 626: 'cinematography',\n",
       " 627: 'scary',\n",
       " 628: 'ends',\n",
       " 629: 'usually',\n",
       " 630: 'hero',\n",
       " 631: 'english',\n",
       " 632: 'hours',\n",
       " 633: 'reality',\n",
       " 634: 'opening',\n",
       " 635: \"i'll\",\n",
       " 636: 'today',\n",
       " 637: 'light',\n",
       " 638: 'across',\n",
       " 639: 'jokes',\n",
       " 640: 'hilarious',\n",
       " 641: 'somewhat',\n",
       " 642: 'usual',\n",
       " 643: 'ridiculous',\n",
       " 644: 'body',\n",
       " 645: 'cool',\n",
       " 646: 'started',\n",
       " 647: 'level',\n",
       " 648: 'view',\n",
       " 649: 'relationship',\n",
       " 650: 'change',\n",
       " 651: 'opinion',\n",
       " 652: 'happy',\n",
       " 653: 'middle',\n",
       " 654: 'taking',\n",
       " 655: 'wish',\n",
       " 656: 'finds',\n",
       " 657: 'husband',\n",
       " 658: 'order',\n",
       " 659: 'saying',\n",
       " 660: 'talking',\n",
       " 661: 'shots',\n",
       " 662: 'ones',\n",
       " 663: 'documentary',\n",
       " 664: 'huge',\n",
       " 665: 'novel',\n",
       " 666: 'mostly',\n",
       " 667: 'female',\n",
       " 668: 'robert',\n",
       " 669: 'power',\n",
       " 670: 'episodes',\n",
       " 671: 'room',\n",
       " 672: 'important',\n",
       " 673: 'rating',\n",
       " 674: 'talent',\n",
       " 675: 'five',\n",
       " 676: 'major',\n",
       " 677: 'turned',\n",
       " 678: 'strange',\n",
       " 679: 'word',\n",
       " 680: 'modern',\n",
       " 681: 'call',\n",
       " 682: 'apparently',\n",
       " 683: 'disappointed',\n",
       " 684: 'single',\n",
       " 685: 'events',\n",
       " 686: 'due',\n",
       " 687: 'four',\n",
       " 688: 'songs',\n",
       " 689: 'basically',\n",
       " 690: 'attention',\n",
       " 691: '7',\n",
       " 692: 'knows',\n",
       " 693: 'clearly',\n",
       " 694: 'supporting',\n",
       " 695: 'knew',\n",
       " 696: 'comic',\n",
       " 697: 'non',\n",
       " 698: 'british',\n",
       " 699: 'television',\n",
       " 700: 'fast',\n",
       " 701: 'earth',\n",
       " 702: 'country',\n",
       " 703: 'cheap',\n",
       " 704: 'class',\n",
       " 705: 'future',\n",
       " 706: 'silly',\n",
       " 707: 'thriller',\n",
       " 708: '8',\n",
       " 709: 'king',\n",
       " 710: 'problems',\n",
       " 711: \"aren't\",\n",
       " 712: 'easily',\n",
       " 713: 'words',\n",
       " 714: 'tells',\n",
       " 715: 'miss',\n",
       " 716: 'jack',\n",
       " 717: 'local',\n",
       " 718: 'sequence',\n",
       " 719: 'bring',\n",
       " 720: 'entertainment',\n",
       " 721: 'paul',\n",
       " 722: 'beyond',\n",
       " 723: 'upon',\n",
       " 724: 'whether',\n",
       " 725: 'predictable',\n",
       " 726: 'moving',\n",
       " 727: 'straight',\n",
       " 728: 'sets',\n",
       " 729: 'similar',\n",
       " 730: 'romantic',\n",
       " 731: 'review',\n",
       " 732: 'oscar',\n",
       " 733: 'falls',\n",
       " 734: 'mystery',\n",
       " 735: 'enjoyable',\n",
       " 736: 'needs',\n",
       " 737: 'rock',\n",
       " 738: 'appears',\n",
       " 739: 'talk',\n",
       " 740: 'george',\n",
       " 741: 'giving',\n",
       " 742: 'eye',\n",
       " 743: 'within',\n",
       " 744: 'richard',\n",
       " 745: 'ten',\n",
       " 746: 'animation',\n",
       " 747: 'message',\n",
       " 748: 'near',\n",
       " 749: 'theater',\n",
       " 750: 'above',\n",
       " 751: 'dull',\n",
       " 752: 'nearly',\n",
       " 753: 'sequel',\n",
       " 754: 'theme',\n",
       " 755: 'points',\n",
       " 756: \"'\",\n",
       " 757: 'stand',\n",
       " 758: 'mention',\n",
       " 759: 'lady',\n",
       " 760: 'bunch',\n",
       " 761: 'add',\n",
       " 762: 'feels',\n",
       " 763: 'herself',\n",
       " 764: 'release',\n",
       " 765: 'red',\n",
       " 766: 'team',\n",
       " 767: 'storyline',\n",
       " 768: 'surprised',\n",
       " 769: 'ways',\n",
       " 770: 'named',\n",
       " 771: 'using',\n",
       " 772: \"haven't\",\n",
       " 773: 'lots',\n",
       " 774: 'easy',\n",
       " 775: 'fantastic',\n",
       " 776: 'begins',\n",
       " 777: 'actual',\n",
       " 778: 'working',\n",
       " 779: 'effort',\n",
       " 780: 'york',\n",
       " 781: 'die',\n",
       " 782: 'hate',\n",
       " 783: 'french',\n",
       " 784: 'tale',\n",
       " 785: 'minute',\n",
       " 786: 'stay',\n",
       " 787: '9',\n",
       " 788: 'clear',\n",
       " 789: 'feature',\n",
       " 790: 'elements',\n",
       " 791: 'among',\n",
       " 792: 'follow',\n",
       " 793: 're',\n",
       " 794: 'comments',\n",
       " 795: 'viewers',\n",
       " 796: 'avoid',\n",
       " 797: 'sister',\n",
       " 798: 'typical',\n",
       " 799: 'showing',\n",
       " 800: 'editing',\n",
       " 801: \"what's\",\n",
       " 802: 'famous',\n",
       " 803: 'tried',\n",
       " 804: 'sorry',\n",
       " 805: 'fall',\n",
       " 806: 'dialog',\n",
       " 807: 'check',\n",
       " 808: 'period',\n",
       " 809: 'form',\n",
       " 810: 'season',\n",
       " 811: 'certain',\n",
       " 812: 'filmed',\n",
       " 813: 'weak',\n",
       " 814: 'soundtrack',\n",
       " 815: 'means',\n",
       " 816: 'material',\n",
       " 817: 'buy',\n",
       " 818: 'somehow',\n",
       " 819: 'realistic',\n",
       " 820: 'figure',\n",
       " 821: 'crime',\n",
       " 822: 'gone',\n",
       " 823: 'doubt',\n",
       " 824: 'peter',\n",
       " 825: 'tom',\n",
       " 826: 'kept',\n",
       " 827: 'viewing',\n",
       " 828: 't',\n",
       " 829: 'general',\n",
       " 830: 'leads',\n",
       " 831: 'greatest',\n",
       " 832: 'space',\n",
       " 833: 'lame',\n",
       " 834: 'suspense',\n",
       " 835: 'dance',\n",
       " 836: 'brought',\n",
       " 837: 'imagine',\n",
       " 838: 'third',\n",
       " 839: 'atmosphere',\n",
       " 840: 'hear',\n",
       " 841: 'particular',\n",
       " 842: 'sequences',\n",
       " 843: 'whatever',\n",
       " 844: 'parents',\n",
       " 845: 'move',\n",
       " 846: 'lee',\n",
       " 847: 'indeed',\n",
       " 848: 'rent',\n",
       " 849: 'de',\n",
       " 850: 'eventually',\n",
       " 851: 'learn',\n",
       " 852: 'note',\n",
       " 853: 'wait',\n",
       " 854: 'deal',\n",
       " 855: 'forget',\n",
       " 856: 'reviews',\n",
       " 857: 'average',\n",
       " 858: 'japanese',\n",
       " 859: 'sexual',\n",
       " 860: 'poorly',\n",
       " 861: 'okay',\n",
       " 862: 'premise',\n",
       " 863: 'zombie',\n",
       " 864: 'surprise',\n",
       " 865: 'believable',\n",
       " 866: 'stage',\n",
       " 867: 'sit',\n",
       " 868: 'possibly',\n",
       " 869: \"who's\",\n",
       " 870: 'decided',\n",
       " 871: 'expected',\n",
       " 872: \"you've\",\n",
       " 873: 'subject',\n",
       " 874: 'nature',\n",
       " 875: 'became',\n",
       " 876: 'difficult',\n",
       " 877: 'free',\n",
       " 878: 'killing',\n",
       " 879: 'screenplay',\n",
       " 880: 'truth',\n",
       " 881: 'romance',\n",
       " 882: 'dr',\n",
       " 883: 'nor',\n",
       " 884: 'reading',\n",
       " 885: 'needed',\n",
       " 886: 'question',\n",
       " 887: 'leaves',\n",
       " 888: 'street',\n",
       " 889: '20',\n",
       " 890: 'meets',\n",
       " 891: 'hot',\n",
       " 892: 'unless',\n",
       " 893: 'begin',\n",
       " 894: 'baby',\n",
       " 895: 'superb',\n",
       " 896: 'credits',\n",
       " 897: 'otherwise',\n",
       " 898: 'imdb',\n",
       " 899: 'write',\n",
       " 900: 'shame',\n",
       " 901: \"let's\",\n",
       " 902: 'situation',\n",
       " 903: 'dramatic',\n",
       " 904: 'memorable',\n",
       " 905: 'directors',\n",
       " 906: 'earlier',\n",
       " 907: 'badly',\n",
       " 908: 'disney',\n",
       " 909: 'meet',\n",
       " 910: 'open',\n",
       " 911: 'dog',\n",
       " 912: 'male',\n",
       " 913: 'weird',\n",
       " 914: 'joe',\n",
       " 915: 'acted',\n",
       " 916: 'forced',\n",
       " 917: 'emotional',\n",
       " 918: 'sci',\n",
       " 919: 'laughs',\n",
       " 920: 'older',\n",
       " 921: 'realize',\n",
       " 922: 'fi',\n",
       " 923: 'dream',\n",
       " 924: 'society',\n",
       " 925: 'interested',\n",
       " 926: 'writers',\n",
       " 927: 'comment',\n",
       " 928: 'forward',\n",
       " 929: 'footage',\n",
       " 930: 'crazy',\n",
       " 931: 'deep',\n",
       " 932: 'whom',\n",
       " 933: 'sounds',\n",
       " 934: 'beauty',\n",
       " 935: 'america',\n",
       " 936: 'plus',\n",
       " 937: 'fantasy',\n",
       " 938: 'directing',\n",
       " 939: 'keeps',\n",
       " 940: 'development',\n",
       " 941: 'ask',\n",
       " 942: 'features',\n",
       " 943: 'air',\n",
       " 944: 'quickly',\n",
       " 945: 'mess',\n",
       " 946: 'creepy',\n",
       " 947: 'perfectly',\n",
       " 948: 'towards',\n",
       " 949: 'mark',\n",
       " 950: 'worked',\n",
       " 951: 'box',\n",
       " 952: 'cheesy',\n",
       " 953: 'unique',\n",
       " 954: 'setting',\n",
       " 955: 'hands',\n",
       " 956: 'plenty',\n",
       " 957: 'brings',\n",
       " 958: 'previous',\n",
       " 959: 'result',\n",
       " 960: 'e',\n",
       " 961: 'effect',\n",
       " 962: 'total',\n",
       " 963: 'personal',\n",
       " 964: 'incredibly',\n",
       " 965: 'rate',\n",
       " 966: 'fire',\n",
       " 967: 'monster',\n",
       " 968: 'business',\n",
       " 969: 'leading',\n",
       " 970: 'apart',\n",
       " 971: 'casting',\n",
       " 972: 'admit',\n",
       " 973: 'appear',\n",
       " 974: 'joke',\n",
       " 975: 'background',\n",
       " 976: 'powerful',\n",
       " 977: 'telling',\n",
       " 978: 'meant',\n",
       " 979: 'girlfriend',\n",
       " 980: 'christmas',\n",
       " 981: 'present',\n",
       " 982: 'hardly',\n",
       " 983: 'potential',\n",
       " 984: 'battle',\n",
       " 985: 'create',\n",
       " 986: 'bill',\n",
       " 987: 'break',\n",
       " 988: 'pay',\n",
       " 989: 'masterpiece',\n",
       " 990: 'dumb',\n",
       " 991: 'return',\n",
       " 992: 'political',\n",
       " 993: 'gay',\n",
       " 994: 'fails',\n",
       " 995: 'fighting',\n",
       " 996: 'various',\n",
       " 997: 'era',\n",
       " 998: 'portrayed',\n",
       " 999: 'secret',\n",
       " 1000: 'cop',\n",
       " ...}"
      ]
     },
     "execution_count": 17,
     "metadata": {},
     "output_type": "execute_result"
    }
   ],
   "source": [
    "reverse_word_index = tokenizer.index_word\n",
    "reverse_word_index"
   ]
  },
  {
   "cell_type": "code",
   "execution_count": null,
   "metadata": {
    "id": "pPhhHqvxvS8f"
   },
   "outputs": [],
   "source": [
    "# Get the index-word dictionary\n",
    "reverse_word_index = tokenizer.index_word"
   ]
  },
  {
   "cell_type": "markdown",
   "metadata": {
    "id": "ykM0Q9ThvszB"
   },
   "source": [
    "Now you can start the loop to generate the files. You will loop `vocab_size-1` times, skipping the `0` key because it is just for the padding."
   ]
  },
  {
   "cell_type": "code",
   "execution_count": 27,
   "metadata": {
    "scrolled": true
   },
   "outputs": [
    {
     "data": {
      "text/plain": [
       "10000"
      ]
     },
     "execution_count": 27,
     "metadata": {},
     "output_type": "execute_result"
    }
   ],
   "source": [
    "vocab_size"
   ]
  },
  {
   "cell_type": "code",
   "execution_count": null,
   "metadata": {},
   "outputs": [],
   "source": []
  },
  {
   "cell_type": "code",
   "execution_count": null,
   "metadata": {},
   "outputs": [],
   "source": [
    "for word_num in range(1,vocab_size):\n",
    "    word_name = reverse_word_index[word_num]\n",
    "    out_m.write(word_name +\"\\n\")\n",
    "    \n",
    "    word_embedding = embedding_weights[]"
   ]
  },
  {
   "cell_type": "code",
   "execution_count": null,
   "metadata": {},
   "outputs": [],
   "source": [
    "for word_num in range(1, vocab_size):\n",
    "\n",
    "  # Get the word associated at the current index\n",
    "  word_name = reverse_word_index[word_num]\n",
    "\n",
    "  # Get the embedding weights associated with the current index\n",
    "  word_embedding = embedding_weights[word_num]\n",
    "\n",
    "  # Write the word name\n",
    "  out_m.write(word_name + \"\\n\")\n",
    "\n",
    "  # Write the word embedding\n",
    "  out_v.write('\\t'.join([str(x) for x in word_embedding]) + \"\\n\")\n",
    "\n",
    "# Close the files\n",
    "out_v.close()\n",
    "out_m.close()"
   ]
  },
  {
   "cell_type": "code",
   "execution_count": null,
   "metadata": {},
   "outputs": [],
   "source": [
    "import io\n",
    "\n",
    "out_v = io.open('vecs.tsv', 'w', encoding = 'utf-8')\n",
    "out_m = io.open('meta.tsv', 'w', encoding = 'utf-8')\n",
    "\n",
    "for word_num in range(1,vocal_size):\n",
    "    word_name = reverse_word_index[word_num]\n",
    "    out_m.writ(word_name+\"\\n\")\n",
    "    \n",
    "    "
   ]
  },
  {
   "cell_type": "code",
   "execution_count": 30,
   "metadata": {
    "scrolled": true
   },
   "outputs": [
    {
     "data": {
      "text/plain": [
       "'<OOV>'"
      ]
     },
     "execution_count": 30,
     "metadata": {},
     "output_type": "execute_result"
    }
   ],
   "source": [
    "reverse_word_index[1]"
   ]
  },
  {
   "cell_type": "code",
   "execution_count": 32,
   "metadata": {},
   "outputs": [
    {
     "data": {
      "text/plain": [
       "array([-0.0068579 , -0.08201615, -0.00385123,  0.10466787,  0.01484208,\n",
       "        0.04892297, -0.02936298,  0.00848367, -0.00700786,  0.00535834,\n",
       "       -0.09168892, -0.04916938, -0.03393258, -0.10596801,  0.07791673,\n",
       "        0.06959828], dtype=float32)"
      ]
     },
     "execution_count": 32,
     "metadata": {},
     "output_type": "execute_result"
    }
   ],
   "source": [
    "embedding_weights[1]"
   ]
  },
  {
   "cell_type": "code",
   "execution_count": 20,
   "metadata": {},
   "outputs": [],
   "source": [
    "import io\n",
    "\n",
    "out_v = io.open('vecs.tsv', 'w', encoding = 'utf-8')\n",
    "out_m = io.open('meta.tsv', 'w', encoding = 'utf-8')\n",
    "\n",
    "for word_num in range(1,vocab_size):\n",
    "    word_name = reverse_word_index[word_num]\n",
    "    out_m.write(word_name+\"\\n\")\n",
    "    \n",
    "    word_embedding = embedding_weights[word_num]\n",
    "    out_v.write('\\t'.join([str(x) for x in word_embedding])+\"\\n\")\n",
    "    \n",
    "out_v.close()\n",
    "out_m.close()"
   ]
  },
  {
   "cell_type": "code",
   "execution_count": null,
   "metadata": {
    "id": "jmB0Uxk0ycP6"
   },
   "outputs": [],
   "source": [
    "import io\n",
    "\n",
    "# Open writeable files\n",
    "out_v = io.open('vecs.tsv', 'w', encoding='utf-8')\n",
    "out_m = io.open('meta.tsv', 'w', encoding='utf-8')\n",
    "\n",
    "# Initialize the loop. Start counting at `1` because `0` is just for the padding\n",
    "for word_num in range(1, vocab_size):\n",
    "\n",
    "  # Get the word associated at the current index\n",
    "  word_name = reverse_word_index[word_num]\n",
    "\n",
    "  # Get the embedding weights associated with the current index\n",
    "  word_embedding = embedding_weights[word_num]\n",
    "\n",
    "  # Write the word name\n",
    "  out_m.write(word_name + \"\\n\")\n",
    "\n",
    "  # Write the word embedding\n",
    "  out_v.write('\\t'.join([str(x) for x in word_embedding]) + \"\\n\")\n",
    "\n",
    "# Close the files\n",
    "out_v.close()\n",
    "out_m.close()"
   ]
  },
  {
   "cell_type": "markdown",
   "metadata": {
    "id": "3t92Osu3u8Qh"
   },
   "source": [
    "When running this on Colab, you can run the code below to download the files. Otherwise, you can see the files in your current working directory and download it manually.\n"
   ]
  },
  {
   "cell_type": "code",
   "execution_count": 23,
   "metadata": {},
   "outputs": [
    {
     "ename": "TypeError",
     "evalue": "can only concatenate str (not \"int\") to str",
     "output_type": "error",
     "traceback": [
      "\u001b[1;31m---------------------------------------------------------------------------\u001b[0m",
      "\u001b[1;31mTypeError\u001b[0m                                 Traceback (most recent call last)",
      "Input \u001b[1;32mIn [23]\u001b[0m, in \u001b[0;36m<cell line: 1>\u001b[1;34m()\u001b[0m\n\u001b[1;32m----> 1\u001b[0m \u001b[38;5;124;43m\"\u001b[39;49m\u001b[38;5;124;43ms\u001b[39;49m\u001b[38;5;124;43m\"\u001b[39;49m\u001b[38;5;241;43m+\u001b[39;49m\u001b[38;5;241;43m1\u001b[39;49m\n",
      "\u001b[1;31mTypeError\u001b[0m: can only concatenate str (not \"int\") to str"
     ]
    }
   ],
   "source": [
    "\"s\"+1"
   ]
  },
  {
   "cell_type": "code",
   "execution_count": 21,
   "metadata": {
    "id": "VDeqpOCVydtq"
   },
   "outputs": [],
   "source": [
    "# Import files utilities in Colab\n",
    "try:\n",
    "  from google.colab import files\n",
    "except ImportError:\n",
    "  pass\n",
    "\n",
    "# Download the files\n",
    "else:\n",
    "  files.download('vecs.tsv')\n",
    "  files.download('meta.tsv')"
   ]
  },
  {
   "cell_type": "markdown",
   "metadata": {
    "id": "TRV8ag3nyAOb"
   },
   "source": [
    "Now you can go to the [Tensorflow Embedding Projector](https://projector.tensorflow.org/) and load the two files you downloaded to see the visualization. You can search for words like `worst` and `fantastic` and see the other words closely located to these."
   ]
  },
  {
   "cell_type": "markdown",
   "metadata": {
    "id": "4GOiu0WHzMzk"
   },
   "source": [
    "## Wrap Up\n",
    "\n",
    "In this lab, you were able build a simple sentiment classification model and train it on preprocessed text data. In the next lessons, you will revisit the Sarcasm Dataset you used in Week 1 and build a model to train on it."
   ]
  }
 ],
 "metadata": {
  "colab": {
   "collapsed_sections": [],
   "name": "C3_W2_Lab_1_imdb.ipynb",
   "private_outputs": true,
   "provenance": []
  },
  "kernelspec": {
   "display_name": "Python 3 (ipykernel)",
   "language": "python",
   "name": "python3"
  },
  "language_info": {
   "codemirror_mode": {
    "name": "ipython",
    "version": 3
   },
   "file_extension": ".py",
   "mimetype": "text/x-python",
   "name": "python",
   "nbconvert_exporter": "python",
   "pygments_lexer": "ipython3",
   "version": "3.9.7"
  }
 },
 "nbformat": 4,
 "nbformat_minor": 1
}
